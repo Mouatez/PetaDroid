{
 "cells": [
  {
   "cell_type": "code",
   "execution_count": 2,
   "metadata": {},
   "outputs": [],
   "source": [
    "import sys\n",
    "import pickle\n",
    "import gzip\n",
    "import re\n",
    "import subprocess\n",
    "import numpy as np\n",
    "import pandas as pd\n",
    "import warnings\n",
    "warnings.filterwarnings('ignore')\n",
    "\n",
    "import time \n",
    "import glob"
   ]
  },
  {
   "cell_type": "markdown",
   "metadata": {},
   "source": [
    "## Parsing"
   ]
  },
  {
   "cell_type": "code",
   "execution_count": 3,
   "metadata": {},
   "outputs": [],
   "source": [
    "def Inst2ID(instruction):\n",
    "    global VocabDict\n",
    "\n",
    "    className = instruction.split('->')[0].split('$')[0]\n",
    "    if className in VocabDict.index:\n",
    "        return VocabDict[className]\n",
    "    else: \n",
    "        return None\n",
    "\n",
    "def parseMethodCallArguments(instruction : str) -> list:\n",
    "    instruction = instruction.split(': ')[-1]\n",
    "    method = instruction.replace('{', '').replace('}', '').replace('[', '').strip().split(' // ')[0].split(' ')[-1]\n",
    "\n",
    "    method = method.replace(';.', '->')\n",
    "    methodParts = method.split(':')\n",
    "    methodCall = methodParts[0]\n",
    "    if len(methodCall.split('/')[0]) == 2:\n",
    "        methodCall = 'class.local####'\n",
    "        \n",
    "    if len(methodParts) > 1:\n",
    "        methodArgs = methodParts[1].replace('(', '').replace(')', '').split(';')\n",
    "        methodArgs = [item for item in methodArgs if len(item) != 0 and item[0] == 'L']\n",
    "    else:\n",
    "        methodArgs = []\n",
    "        \n",
    "    mtdSplit = methodCall.split('->')\n",
    "    if len(mtdSplit) > 1:\n",
    "        methodCall = mtdSplit[0].split('$')[0] + '->' + mtdSplit[1].split('$')[0]\n",
    "                    \n",
    "    args = [methodCall] + methodArgs\n",
    "    args = [Inst2ID(argo) for argo in args]\n",
    "    argsIDs = np.array([argo for argo in args if argo != None], dtype='uint32')\n",
    "    \n",
    "    return argsIDs\n",
    "\n",
    "def parseDex(FileName : str) -> list:\n",
    "    startTime = time.time()\n",
    "    global outputRoot\n",
    "    global inputRoot\n",
    "    \n",
    "    outputFilePath = outputRoot + FileName\n",
    "    inputFilePath  = inputRoot  + FileName\n",
    "\n",
    "    dex = subprocess.run(['dexdump', '-d', inputFilePath], stdout=subprocess.PIPE).stdout.decode(encoding=\"ISO-8859-1\")\n",
    "\n",
    "    condidatClasses = re.split(\"Class descriptor  : '\", dex)[1:]\n",
    "\n",
    "    collectedMethods = []\n",
    "\n",
    "    for currentClass in condidatClasses:\n",
    "        if currentClass.split('$')[0] not in VocabDict.index:\n",
    "            className = currentClass.split('\\n')[0][1:-2]\n",
    "            currentCondidatMethods = re.split('    #\\d', currentClass)\n",
    "            for method in currentCondidatMethods:\n",
    "                if method != '':\n",
    "                    Instructions = [item for item in method.split('\\n') if '|' in item]\n",
    "                    if len(Instructions) != 0:\n",
    "                        methodMeta = Instructions[0].split()[-1]\n",
    "                        Instructions = Instructions[1:]\n",
    "\n",
    "                        functionMethodCallsArgs    = np.concatenate([parseMethodCallArguments(line) for line in Instructions if ('method@' in line)] + [np.array([], dtype='uint32')])\n",
    "                                                \n",
    "                        collectedMethods.append((className, methodMeta, functionMethodCallsArgs))\n",
    "\n",
    "    endTime = time.time()\n",
    "    preprocessTime = endTime - startTime \n",
    "    \n",
    "    if len(collectedMethods) > 1:\n",
    "        colNames = ['className', 'methodMeta', 'functionMethodCallsArgs', ]\n",
    "        df = pd.DataFrame(collectedMethods, columns=colNames)\n",
    "        df['className'] = pd.factorize(df.className)[0]\n",
    "        df['methodMeta'] = pd.factorize(df.methodMeta)[0]\n",
    "\n",
    "        df.to_parquet(outputFilePath)\n",
    "        \n",
    "\n",
    "    \n",
    "    return (FileName, preprocessTime)"
   ]
  },
  {
   "cell_type": "markdown",
   "metadata": {},
   "source": [
    "### MamaDroid"
   ]
  },
  {
   "cell_type": "code",
   "execution_count": 27,
   "metadata": {},
   "outputs": [],
   "source": [
    "mamadroid_df = pd.read_parquet('dataset/mamadroid_meta.parquet')\n",
    "fileNames  = mamadroid_df.sha256.to_list()\n",
    "\n",
    "doneList = [item.split('/')[-1] for item in glob.glob('/ws/mnt/local/data/output/mamadroid/*')]\n",
    "\n",
    "mamadroid_df = mamadroid_df.loc[mamadroid_df.sha256.isin(doneList)]"
   ]
  },
  {
   "cell_type": "code",
   "execution_count": 28,
   "metadata": {},
   "outputs": [
    {
     "data": {
      "text/plain": [
       "2014    14729\n",
       "2013     6938\n",
       "old      5871\n",
       "2015     5100\n",
       "2016     2677\n",
       "new      1760\n",
       "Name: year, dtype: int64"
      ]
     },
     "execution_count": 28,
     "metadata": {},
     "output_type": "execute_result"
    }
   ],
   "source": [
    "mamadroid_df.year.value_counts()"
   ]
  },
  {
   "cell_type": "code",
   "execution_count": 30,
   "metadata": {},
   "outputs": [
    {
     "data": {
      "text/plain": [
       "year  tag    \n",
       "2013  malware     6938\n",
       "2014  malware    14729\n",
       "2015  malware     5100\n",
       "2016  malware     2677\n",
       "new   benign      1760\n",
       "old   benign      5871\n",
       "Name: name, dtype: int64"
      ]
     },
     "execution_count": 30,
     "metadata": {},
     "output_type": "execute_result"
    }
   ],
   "source": [
    "mamadroid_df.groupby(['year', 'tag'])['name'].count()"
   ]
  },
  {
   "cell_type": "code",
   "execution_count": null,
   "metadata": {},
   "outputs": [],
   "source": []
  },
  {
   "cell_type": "code",
   "execution_count": 5,
   "metadata": {},
   "outputs": [
    {
     "data": {
      "text/plain": [
       "50704"
      ]
     },
     "execution_count": 5,
     "metadata": {},
     "output_type": "execute_result"
    }
   ],
   "source": [
    "len(fileNames)"
   ]
  },
  {
   "cell_type": "raw",
   "metadata": {},
   "source": [
    "mamadroid_df = pd.read_parquet('dataset/mamadroid_meta.parquet')\n",
    "fileNames    = mamadroid_df.sha256.to_list()"
   ]
  },
  {
   "cell_type": "code",
   "execution_count": 229,
   "metadata": {},
   "outputs": [
    {
     "data": {
      "text/plain": [
       "52119"
      ]
     },
     "execution_count": 229,
     "metadata": {},
     "output_type": "execute_result"
    }
   ],
   "source": [
    "len(mamadroid_df)b\n"
   ]
  },
  {
   "cell_type": "code",
   "execution_count": 6,
   "metadata": {},
   "outputs": [],
   "source": [
    "fileName = '09453d71eba0992533bb3734cfdb8768101ffe1b4056108526864fe36106dada'"
   ]
  },
  {
   "cell_type": "code",
   "execution_count": 8,
   "metadata": {},
   "outputs": [],
   "source": [
    "outputRoot = '/ws/mnt/local/data/output/mamadroid/'\n",
    "inputRoot  = '/ws/mnt/local/data/datasets/mamadroid_dataset/'"
   ]
  },
  {
   "cell_type": "code",
   "execution_count": 10,
   "metadata": {},
   "outputs": [
    {
     "data": {
      "text/plain": [
       "('09453d71eba0992533bb3734cfdb8768101ffe1b4056108526864fe36106dada',\n",
       " 0.025725841522216797)"
      ]
     },
     "execution_count": 10,
     "metadata": {},
     "output_type": "execute_result"
    }
   ],
   "source": [
    "parseDex(fileName)"
   ]
  },
  {
   "cell_type": "raw",
   "metadata": {},
   "source": [
    "import glob\n",
    "from multiprocessing import Pool\n",
    "mypool = Pool(processes=40)"
   ]
  },
  {
   "cell_type": "code",
   "execution_count": 230,
   "metadata": {},
   "outputs": [
    {
     "name": "stdout",
     "output_type": "stream",
     "text": [
      "15044\n"
     ]
    }
   ],
   "source": [
    "outputRoot = '/ws/mnt/local/data/output/mamadroid/'\n",
    "inputRoot  = '/ws/mnt/local/data/datasets/mamadroid_dataset/'\n",
    "\n",
    "VocabDict = pd.read_csv('dataset/InstructionDict.csv', index_col=0, names=['ID'])\n",
    "VocabDict = VocabDict.ID\n",
    "\n",
    "#fileNames = [fileName.strip() for fileName in open('dataset/minizoo_df.txt', 'r').readlines()]\n",
    "\n",
    "doneFileNames = [item.split('/')[-1] for item in glob.glob(outputRoot + '*')]\n",
    "todoFileNames = np.array(list(set(fileNames).difference(set(doneFileNames))))\n",
    "print(len(todoFileNames))"
   ]
  },
  {
   "cell_type": "code",
   "execution_count": 234,
   "metadata": {},
   "outputs": [],
   "source": [
    "pd.Series(todoFileNames).to_csv('mamaNotProcessed.txt', index=False)"
   ]
  },
  {
   "cell_type": "code",
   "execution_count": 142,
   "metadata": {},
   "outputs": [],
   "source": [
    "resultList = mypool.map(parseDex, todoFileNames)\n",
    "mypool.close();\n",
    "mypool.join();"
   ]
  },
  {
   "cell_type": "code",
   "execution_count": 143,
   "metadata": {},
   "outputs": [],
   "source": [
    "dfb = pd.DataFrame(resultList, columns=['hash', 'time'])"
   ]
  },
  {
   "cell_type": "code",
   "execution_count": 146,
   "metadata": {},
   "outputs": [],
   "source": [
    "done = !ls /ws/mnt/local/data/output/mamadroid/"
   ]
  },
  {
   "cell_type": "code",
   "execution_count": 147,
   "metadata": {},
   "outputs": [],
   "source": [
    "dfb = dfb.loc[dfb.hash.isin(done)]"
   ]
  },
  {
   "cell_type": "code",
   "execution_count": 182,
   "metadata": {},
   "outputs": [
    {
     "data": {
      "text/plain": [
       "benign    7629\n",
       "Name: tag, dtype: int64"
      ]
     },
     "execution_count": 182,
     "metadata": {},
     "output_type": "execute_result"
    }
   ],
   "source": [
    "bdf = pd.read_parquet('traces/mamadroid_benign_efficiency.parquet')\n",
    "bdf.tag.value_counts()"
   ]
  },
  {
   "cell_type": "code",
   "execution_count": 189,
   "metadata": {},
   "outputs": [
    {
     "data": {
      "text/plain": [
       "Index(['name', 'sha256', 'year', 'tag', 'time'], dtype='object')"
      ]
     },
     "execution_count": 189,
     "metadata": {},
     "output_type": "execute_result"
    }
   ],
   "source": [
    "bdf.columns"
   ]
  },
  {
   "cell_type": "code",
   "execution_count": 183,
   "metadata": {},
   "outputs": [
    {
     "data": {
      "text/plain": [
       "malware    29444\n",
       "benign         2\n",
       "Name: tag, dtype: int64"
      ]
     },
     "execution_count": 183,
     "metadata": {},
     "output_type": "execute_result"
    }
   ],
   "source": [
    "mdf = pd.read_parquet('traces/mamadroid_malware_efficiency.parquet')\n",
    "mdf.tag.value_counts()"
   ]
  },
  {
   "cell_type": "code",
   "execution_count": 191,
   "metadata": {},
   "outputs": [],
   "source": [
    "mamadroid_efficiency = pd.concat([bdf, mdf])"
   ]
  },
  {
   "cell_type": "code",
   "execution_count": 194,
   "metadata": {},
   "outputs": [
    {
     "data": {
      "text/plain": [
       "malware    29444\n",
       "benign      7631\n",
       "Name: tag, dtype: int64"
      ]
     },
     "execution_count": 194,
     "metadata": {},
     "output_type": "execute_result"
    }
   ],
   "source": [
    "mamadroid_efficiency.tag.value_counts()"
   ]
  },
  {
   "cell_type": "code",
   "execution_count": 199,
   "metadata": {},
   "outputs": [],
   "source": [
    "mamadroid_efficiency.drop_duplicates('sha256', inplace=True)"
   ]
  },
  {
   "cell_type": "code",
   "execution_count": 201,
   "metadata": {},
   "outputs": [
    {
     "data": {
      "text/html": [
       "<div>\n",
       "<style scoped>\n",
       "    .dataframe tbody tr th:only-of-type {\n",
       "        vertical-align: middle;\n",
       "    }\n",
       "\n",
       "    .dataframe tbody tr th {\n",
       "        vertical-align: top;\n",
       "    }\n",
       "\n",
       "    .dataframe thead th {\n",
       "        text-align: right;\n",
       "    }\n",
       "</style>\n",
       "<table border=\"1\" class=\"dataframe\">\n",
       "  <thead>\n",
       "    <tr style=\"text-align: right;\">\n",
       "      <th></th>\n",
       "      <th>name</th>\n",
       "      <th>sha256</th>\n",
       "      <th>year</th>\n",
       "      <th>tag</th>\n",
       "      <th>time</th>\n",
       "    </tr>\n",
       "    <tr>\n",
       "      <th>sha256</th>\n",
       "      <th></th>\n",
       "      <th></th>\n",
       "      <th></th>\n",
       "      <th></th>\n",
       "      <th></th>\n",
       "    </tr>\n",
       "  </thead>\n",
       "  <tbody>\n",
       "    <tr>\n",
       "      <th>9900e806335f26dfd401087ad9b396faa77ee26136709b152d8ec50c983f23e3</th>\n",
       "      <td>com.andromo.dev245803.app277649-2.apk</td>\n",
       "      <td>9900e806335f26dfd401087ad9b396faa77ee26136709b...</td>\n",
       "      <td>old</td>\n",
       "      <td>benign</td>\n",
       "      <td>4.581892</td>\n",
       "    </tr>\n",
       "    <tr>\n",
       "      <th>c671eec269ee7d2149b84ae254a5c3ea1acd9dbf175ed09d6025d66073c28b87</th>\n",
       "      <td>appinventor.ai_bbutte26.OdysseyLandscaping-1.apk</td>\n",
       "      <td>c671eec269ee7d2149b84ae254a5c3ea1acd9dbf175ed0...</td>\n",
       "      <td>old</td>\n",
       "      <td>benign</td>\n",
       "      <td>9.250725</td>\n",
       "    </tr>\n",
       "    <tr>\n",
       "      <th>1b2d4cb6e799a6562e9bd1b7612fbca22e288abfcdf13b7be4b71283c9b5a53d</th>\n",
       "      <td>com.wVkusno-1412669826.apk</td>\n",
       "      <td>1b2d4cb6e799a6562e9bd1b7612fbca22e288abfcdf13b...</td>\n",
       "      <td>old</td>\n",
       "      <td>benign</td>\n",
       "      <td>3.072921</td>\n",
       "    </tr>\n",
       "    <tr>\n",
       "      <th>6e3d2728de569ed900f99a188421bd44b8822e0a84c786a8f49d55004cc1ba91</th>\n",
       "      <td>com.hespress.android-4.apk</td>\n",
       "      <td>6e3d2728de569ed900f99a188421bd44b8822e0a84c786...</td>\n",
       "      <td>old</td>\n",
       "      <td>benign</td>\n",
       "      <td>8.302589</td>\n",
       "    </tr>\n",
       "    <tr>\n",
       "      <th>81f18a464d766bd372f432f08465d7b38d497888624aefa48ad45efdce4c1ffb</th>\n",
       "      <td>baby.village.ani_card-2.apk</td>\n",
       "      <td>81f18a464d766bd372f432f08465d7b38d497888624aef...</td>\n",
       "      <td>old</td>\n",
       "      <td>benign</td>\n",
       "      <td>1.054777</td>\n",
       "    </tr>\n",
       "  </tbody>\n",
       "</table>\n",
       "</div>"
      ],
      "text/plain": [
       "                                                                                                name  \\\n",
       "sha256                                                                                                 \n",
       "9900e806335f26dfd401087ad9b396faa77ee26136709b1...             com.andromo.dev245803.app277649-2.apk   \n",
       "c671eec269ee7d2149b84ae254a5c3ea1acd9dbf175ed09...  appinventor.ai_bbutte26.OdysseyLandscaping-1.apk   \n",
       "1b2d4cb6e799a6562e9bd1b7612fbca22e288abfcdf13b7...                        com.wVkusno-1412669826.apk   \n",
       "6e3d2728de569ed900f99a188421bd44b8822e0a84c786a...                        com.hespress.android-4.apk   \n",
       "81f18a464d766bd372f432f08465d7b38d497888624aefa...                       baby.village.ani_card-2.apk   \n",
       "\n",
       "                                                                                               sha256  \\\n",
       "sha256                                                                                                  \n",
       "9900e806335f26dfd401087ad9b396faa77ee26136709b1...  9900e806335f26dfd401087ad9b396faa77ee26136709b...   \n",
       "c671eec269ee7d2149b84ae254a5c3ea1acd9dbf175ed09...  c671eec269ee7d2149b84ae254a5c3ea1acd9dbf175ed0...   \n",
       "1b2d4cb6e799a6562e9bd1b7612fbca22e288abfcdf13b7...  1b2d4cb6e799a6562e9bd1b7612fbca22e288abfcdf13b...   \n",
       "6e3d2728de569ed900f99a188421bd44b8822e0a84c786a...  6e3d2728de569ed900f99a188421bd44b8822e0a84c786...   \n",
       "81f18a464d766bd372f432f08465d7b38d497888624aefa...  81f18a464d766bd372f432f08465d7b38d497888624aef...   \n",
       "\n",
       "                                                   year     tag      time  \n",
       "sha256                                                                     \n",
       "9900e806335f26dfd401087ad9b396faa77ee26136709b1...  old  benign  4.581892  \n",
       "c671eec269ee7d2149b84ae254a5c3ea1acd9dbf175ed09...  old  benign  9.250725  \n",
       "1b2d4cb6e799a6562e9bd1b7612fbca22e288abfcdf13b7...  old  benign  3.072921  \n",
       "6e3d2728de569ed900f99a188421bd44b8822e0a84c786a...  old  benign  8.302589  \n",
       "81f18a464d766bd372f432f08465d7b38d497888624aefa...  old  benign  1.054777  "
      ]
     },
     "execution_count": 201,
     "metadata": {},
     "output_type": "execute_result"
    }
   ],
   "source": [
    "mamadroid_efficiency.head()"
   ]
  },
  {
   "cell_type": "code",
   "execution_count": 214,
   "metadata": {},
   "outputs": [
    {
     "data": {
      "text/plain": [
       "count    7630.000000\n",
       "mean        5.541067\n",
       "std         5.121218\n",
       "min         0.470590\n",
       "25%         1.619512\n",
       "50%         3.982715\n",
       "75%         7.718285\n",
       "max        61.986970\n",
       "Name: time, dtype: float64"
      ]
     },
     "execution_count": 214,
     "metadata": {},
     "output_type": "execute_result"
    }
   ],
   "source": [
    "mamadroid_efficiency.loc[mamadroid_efficiency.tag == 'benign'].time.describe()"
   ]
  },
  {
   "cell_type": "code",
   "execution_count": 215,
   "metadata": {},
   "outputs": [
    {
     "data": {
      "text/plain": [
       "count    29442.000000\n",
       "mean         3.080547\n",
       "std          3.780154\n",
       "min          0.425270\n",
       "25%          0.849647\n",
       "50%          1.617126\n",
       "75%          3.429858\n",
       "max         35.771906\n",
       "Name: time, dtype: float64"
      ]
     },
     "execution_count": 215,
     "metadata": {},
     "output_type": "execute_result"
    }
   ],
   "source": [
    "mamadroid_efficiency.loc[mamadroid_efficiency.tag == 'malware'].time.describe()"
   ]
  },
  {
   "cell_type": "code",
   "execution_count": 216,
   "metadata": {},
   "outputs": [
    {
     "data": {
      "text/plain": [
       "count    37072.000000\n",
       "mean         3.586961\n",
       "std          4.211344\n",
       "min          0.425270\n",
       "25%          0.940418\n",
       "50%          1.896338\n",
       "75%          4.223997\n",
       "90%          9.373233\n",
       "99%         19.234008\n",
       "max         61.986970\n",
       "Name: time, dtype: float64"
      ]
     },
     "execution_count": 216,
     "metadata": {},
     "output_type": "execute_result"
    }
   ],
   "source": [
    "mamadroid_efficiency.time.describe(percentiles=[.25, .5, .75, 0.90, .99])"
   ]
  },
  {
   "cell_type": "code",
   "execution_count": 217,
   "metadata": {},
   "outputs": [
    {
     "data": {
      "text/plain": [
       "malware    29442\n",
       "benign      7630\n",
       "Name: tag, dtype: int64"
      ]
     },
     "execution_count": 217,
     "metadata": {},
     "output_type": "execute_result"
    }
   ],
   "source": [
    "mamadroid_efficiency.tag.value_counts()"
   ]
  },
  {
   "cell_type": "code",
   "execution_count": 218,
   "metadata": {},
   "outputs": [],
   "source": [
    "mamadroid_efficiency.to_parquet('traces/mamadroid_efficiency.parquet')"
   ]
  },
  {
   "cell_type": "code",
   "execution_count": 99,
   "metadata": {},
   "outputs": [],
   "source": [
    "df.to_parquet('traces/mamadroid_efficiency.parquet')"
   ]
  },
  {
   "cell_type": "code",
   "execution_count": 109,
   "metadata": {},
   "outputs": [],
   "source": [
    "done = !ls /ws/mnt/local/data/output/mamadroid/"
   ]
  },
  {
   "cell_type": "code",
   "execution_count": 126,
   "metadata": {},
   "outputs": [
    {
     "data": {
      "text/plain": [
       "29444"
      ]
     },
     "execution_count": 126,
     "metadata": {},
     "output_type": "execute_result"
    }
   ],
   "source": [
    "len(done)"
   ]
  },
  {
   "cell_type": "code",
   "execution_count": 159,
   "metadata": {},
   "outputs": [],
   "source": [
    "mamadroid_efficiency_df = mamadroid_df.loc[mamadroid_df.sha256.isin(dfb.hash)]"
   ]
  },
  {
   "cell_type": "code",
   "execution_count": 160,
   "metadata": {},
   "outputs": [
    {
     "data": {
      "text/plain": [
       "7629"
      ]
     },
     "execution_count": 160,
     "metadata": {},
     "output_type": "execute_result"
    }
   ],
   "source": [
    "len(mamadroid_efficiency_df)"
   ]
  },
  {
   "cell_type": "code",
   "execution_count": 161,
   "metadata": {},
   "outputs": [],
   "source": [
    "mamadroid_efficiency_df.index = mamadroid_efficiency_df.sha256"
   ]
  },
  {
   "cell_type": "code",
   "execution_count": 162,
   "metadata": {},
   "outputs": [],
   "source": [
    "dfb.index = dfb.hash"
   ]
  },
  {
   "cell_type": "code",
   "execution_count": 165,
   "metadata": {},
   "outputs": [],
   "source": [
    "mamadroid_efficiency_df['time'] = dfb.loc[mamadroid_efficiency_df.sha256, 'time']"
   ]
  },
  {
   "cell_type": "code",
   "execution_count": 166,
   "metadata": {},
   "outputs": [
    {
     "data": {
      "text/plain": [
       "7629"
      ]
     },
     "execution_count": 166,
     "metadata": {},
     "output_type": "execute_result"
    }
   ],
   "source": [
    "len(mamadroid_efficiency_df)"
   ]
  },
  {
   "cell_type": "code",
   "execution_count": 167,
   "metadata": {},
   "outputs": [
    {
     "data": {
      "text/html": [
       "<div>\n",
       "<style scoped>\n",
       "    .dataframe tbody tr th:only-of-type {\n",
       "        vertical-align: middle;\n",
       "    }\n",
       "\n",
       "    .dataframe tbody tr th {\n",
       "        vertical-align: top;\n",
       "    }\n",
       "\n",
       "    .dataframe thead th {\n",
       "        text-align: right;\n",
       "    }\n",
       "</style>\n",
       "<table border=\"1\" class=\"dataframe\">\n",
       "  <thead>\n",
       "    <tr style=\"text-align: right;\">\n",
       "      <th></th>\n",
       "      <th>name</th>\n",
       "      <th>sha256</th>\n",
       "      <th>year</th>\n",
       "      <th>tag</th>\n",
       "      <th>time</th>\n",
       "    </tr>\n",
       "    <tr>\n",
       "      <th>sha256</th>\n",
       "      <th></th>\n",
       "      <th></th>\n",
       "      <th></th>\n",
       "      <th></th>\n",
       "      <th></th>\n",
       "    </tr>\n",
       "  </thead>\n",
       "  <tbody>\n",
       "    <tr>\n",
       "      <th>9900e806335f26dfd401087ad9b396faa77ee26136709b152d8ec50c983f23e3</th>\n",
       "      <td>com.andromo.dev245803.app277649-2.apk</td>\n",
       "      <td>9900e806335f26dfd401087ad9b396faa77ee26136709b...</td>\n",
       "      <td>old</td>\n",
       "      <td>benign</td>\n",
       "      <td>4.581892</td>\n",
       "    </tr>\n",
       "    <tr>\n",
       "      <th>c671eec269ee7d2149b84ae254a5c3ea1acd9dbf175ed09d6025d66073c28b87</th>\n",
       "      <td>appinventor.ai_bbutte26.OdysseyLandscaping-1.apk</td>\n",
       "      <td>c671eec269ee7d2149b84ae254a5c3ea1acd9dbf175ed0...</td>\n",
       "      <td>old</td>\n",
       "      <td>benign</td>\n",
       "      <td>9.250725</td>\n",
       "    </tr>\n",
       "    <tr>\n",
       "      <th>1b2d4cb6e799a6562e9bd1b7612fbca22e288abfcdf13b7be4b71283c9b5a53d</th>\n",
       "      <td>com.wVkusno-1412669826.apk</td>\n",
       "      <td>1b2d4cb6e799a6562e9bd1b7612fbca22e288abfcdf13b...</td>\n",
       "      <td>old</td>\n",
       "      <td>benign</td>\n",
       "      <td>3.072921</td>\n",
       "    </tr>\n",
       "    <tr>\n",
       "      <th>6e3d2728de569ed900f99a188421bd44b8822e0a84c786a8f49d55004cc1ba91</th>\n",
       "      <td>com.hespress.android-4.apk</td>\n",
       "      <td>6e3d2728de569ed900f99a188421bd44b8822e0a84c786...</td>\n",
       "      <td>old</td>\n",
       "      <td>benign</td>\n",
       "      <td>8.302589</td>\n",
       "    </tr>\n",
       "    <tr>\n",
       "      <th>81f18a464d766bd372f432f08465d7b38d497888624aefa48ad45efdce4c1ffb</th>\n",
       "      <td>baby.village.ani_card-2.apk</td>\n",
       "      <td>81f18a464d766bd372f432f08465d7b38d497888624aef...</td>\n",
       "      <td>old</td>\n",
       "      <td>benign</td>\n",
       "      <td>1.054777</td>\n",
       "    </tr>\n",
       "  </tbody>\n",
       "</table>\n",
       "</div>"
      ],
      "text/plain": [
       "                                                                                                name  \\\n",
       "sha256                                                                                                 \n",
       "9900e806335f26dfd401087ad9b396faa77ee26136709b1...             com.andromo.dev245803.app277649-2.apk   \n",
       "c671eec269ee7d2149b84ae254a5c3ea1acd9dbf175ed09...  appinventor.ai_bbutte26.OdysseyLandscaping-1.apk   \n",
       "1b2d4cb6e799a6562e9bd1b7612fbca22e288abfcdf13b7...                        com.wVkusno-1412669826.apk   \n",
       "6e3d2728de569ed900f99a188421bd44b8822e0a84c786a...                        com.hespress.android-4.apk   \n",
       "81f18a464d766bd372f432f08465d7b38d497888624aefa...                       baby.village.ani_card-2.apk   \n",
       "\n",
       "                                                                                               sha256  \\\n",
       "sha256                                                                                                  \n",
       "9900e806335f26dfd401087ad9b396faa77ee26136709b1...  9900e806335f26dfd401087ad9b396faa77ee26136709b...   \n",
       "c671eec269ee7d2149b84ae254a5c3ea1acd9dbf175ed09...  c671eec269ee7d2149b84ae254a5c3ea1acd9dbf175ed0...   \n",
       "1b2d4cb6e799a6562e9bd1b7612fbca22e288abfcdf13b7...  1b2d4cb6e799a6562e9bd1b7612fbca22e288abfcdf13b...   \n",
       "6e3d2728de569ed900f99a188421bd44b8822e0a84c786a...  6e3d2728de569ed900f99a188421bd44b8822e0a84c786...   \n",
       "81f18a464d766bd372f432f08465d7b38d497888624aefa...  81f18a464d766bd372f432f08465d7b38d497888624aef...   \n",
       "\n",
       "                                                   year     tag      time  \n",
       "sha256                                                                     \n",
       "9900e806335f26dfd401087ad9b396faa77ee26136709b1...  old  benign  4.581892  \n",
       "c671eec269ee7d2149b84ae254a5c3ea1acd9dbf175ed09...  old  benign  9.250725  \n",
       "1b2d4cb6e799a6562e9bd1b7612fbca22e288abfcdf13b7...  old  benign  3.072921  \n",
       "6e3d2728de569ed900f99a188421bd44b8822e0a84c786a...  old  benign  8.302589  \n",
       "81f18a464d766bd372f432f08465d7b38d497888624aefa...  old  benign  1.054777  "
      ]
     },
     "execution_count": 167,
     "metadata": {},
     "output_type": "execute_result"
    }
   ],
   "source": [
    "mamadroid_efficiency_df.head()"
   ]
  },
  {
   "cell_type": "code",
   "execution_count": 169,
   "metadata": {},
   "outputs": [
    {
     "data": {
      "text/plain": [
       "count    7629.000000\n",
       "mean        5.541177\n",
       "std         5.121642\n",
       "min         0.470590\n",
       "25%         1.619332\n",
       "50%         3.985272\n",
       "75%         7.718549\n",
       "max        61.986970\n",
       "Name: time, dtype: float64"
      ]
     },
     "execution_count": 169,
     "metadata": {},
     "output_type": "execute_result"
    }
   ],
   "source": [
    "mamadroid_efficiency_df.time.describe()"
   ]
  },
  {
   "cell_type": "code",
   "execution_count": 168,
   "metadata": {},
   "outputs": [],
   "source": [
    "mamadroid_efficiency_df.to_parquet('traces/mamadroid_benign_efficiency.parquet')"
   ]
  },
  {
   "cell_type": "code",
   "execution_count": 135,
   "metadata": {},
   "outputs": [],
   "source": [
    "mamadroid_efficiency_df.to_parquet('traces/mamadroid_malware_efficiency.parquet')"
   ]
  },
  {
   "cell_type": "code",
   "execution_count": 129,
   "metadata": {},
   "outputs": [
    {
     "data": {
      "text/plain": [
       "43068"
      ]
     },
     "execution_count": 129,
     "metadata": {},
     "output_type": "execute_result"
    }
   ],
   "source": [
    "len(mamadroid_df)"
   ]
  },
  {
   "cell_type": "code",
   "execution_count": 130,
   "metadata": {},
   "outputs": [
    {
     "data": {
      "text/plain": [
       "malware    43066\n",
       "benign         2\n",
       "Name: tag, dtype: int64"
      ]
     },
     "execution_count": 130,
     "metadata": {},
     "output_type": "execute_result"
    }
   ],
   "source": [
    "mamadroid_df.tag.value_counts()"
   ]
  },
  {
   "cell_type": "code",
   "execution_count": 127,
   "metadata": {},
   "outputs": [
    {
     "data": {
      "text/plain": [
       "29446"
      ]
     },
     "execution_count": 127,
     "metadata": {},
     "output_type": "execute_result"
    }
   ],
   "source": [
    "len(mamadroid_efficiency_df)"
   ]
  },
  {
   "cell_type": "code",
   "execution_count": 123,
   "metadata": {},
   "outputs": [
    {
     "data": {
      "text/html": [
       "<div>\n",
       "<style scoped>\n",
       "    .dataframe tbody tr th:only-of-type {\n",
       "        vertical-align: middle;\n",
       "    }\n",
       "\n",
       "    .dataframe tbody tr th {\n",
       "        vertical-align: top;\n",
       "    }\n",
       "\n",
       "    .dataframe thead th {\n",
       "        text-align: right;\n",
       "    }\n",
       "</style>\n",
       "<table border=\"1\" class=\"dataframe\">\n",
       "  <thead>\n",
       "    <tr style=\"text-align: right;\">\n",
       "      <th></th>\n",
       "      <th>name</th>\n",
       "      <th>sha256</th>\n",
       "      <th>year</th>\n",
       "      <th>tag</th>\n",
       "      <th>time</th>\n",
       "    </tr>\n",
       "    <tr>\n",
       "      <th>sha256</th>\n",
       "      <th></th>\n",
       "      <th></th>\n",
       "      <th></th>\n",
       "      <th></th>\n",
       "      <th></th>\n",
       "    </tr>\n",
       "  </thead>\n",
       "  <tbody>\n",
       "    <tr>\n",
       "      <th>638fa6169e06b3a4b6f9705c8fa9f158e7b22effcdb065b5c3fee7f1394bca92</th>\n",
       "      <td>com.explore.web.browser.apk</td>\n",
       "      <td>638fa6169e06b3a4b6f9705c8fa9f158e7b22effcdb065...</td>\n",
       "      <td>new</td>\n",
       "      <td>benign</td>\n",
       "      <td>2.904981</td>\n",
       "    </tr>\n",
       "    <tr>\n",
       "      <th>a54d3aec912ae24279c08d62966c897b96182bc18694253ffc7afce136ad454b</th>\n",
       "      <td>com.estrongs.android.taskmanager.apk</td>\n",
       "      <td>a54d3aec912ae24279c08d62966c897b96182bc1869425...</td>\n",
       "      <td>new</td>\n",
       "      <td>benign</td>\n",
       "      <td>2.567824</td>\n",
       "    </tr>\n",
       "    <tr>\n",
       "      <th>06256b56bf0c217cd59e3e31c1f2252571d23b5e03efba90f58debda11069975</th>\n",
       "      <td>VirusShare_981e1561811e257e302f97d2559f162c</td>\n",
       "      <td>06256b56bf0c217cd59e3e31c1f2252571d23b5e03efba...</td>\n",
       "      <td>2013</td>\n",
       "      <td>malware</td>\n",
       "      <td>1.860964</td>\n",
       "    </tr>\n",
       "    <tr>\n",
       "      <th>be3ee01e8297f55afeb3049a87c6ea6bd160c7f5dbefebd1682dcf25a22b6296</th>\n",
       "      <td>VirusShare_3e01bfa41a1ae4c290b34c374f75f217</td>\n",
       "      <td>be3ee01e8297f55afeb3049a87c6ea6bd160c7f5dbefeb...</td>\n",
       "      <td>2013</td>\n",
       "      <td>malware</td>\n",
       "      <td>0.761971</td>\n",
       "    </tr>\n",
       "    <tr>\n",
       "      <th>fd690d4ce84e649f8522505fc097c6191c5bb35ebc718158b320844f39c0660d</th>\n",
       "      <td>VirusShare_24558f10ab352a8257de526905531f1e</td>\n",
       "      <td>fd690d4ce84e649f8522505fc097c6191c5bb35ebc7181...</td>\n",
       "      <td>2013</td>\n",
       "      <td>malware</td>\n",
       "      <td>0.784907</td>\n",
       "    </tr>\n",
       "  </tbody>\n",
       "</table>\n",
       "</div>"
      ],
      "text/plain": [
       "                                                                                           name  \\\n",
       "sha256                                                                                            \n",
       "638fa6169e06b3a4b6f9705c8fa9f158e7b22effcdb065b...                  com.explore.web.browser.apk   \n",
       "a54d3aec912ae24279c08d62966c897b96182bc18694253...         com.estrongs.android.taskmanager.apk   \n",
       "06256b56bf0c217cd59e3e31c1f2252571d23b5e03efba9...  VirusShare_981e1561811e257e302f97d2559f162c   \n",
       "be3ee01e8297f55afeb3049a87c6ea6bd160c7f5dbefebd...  VirusShare_3e01bfa41a1ae4c290b34c374f75f217   \n",
       "fd690d4ce84e649f8522505fc097c6191c5bb35ebc71815...  VirusShare_24558f10ab352a8257de526905531f1e   \n",
       "\n",
       "                                                                                               sha256  \\\n",
       "sha256                                                                                                  \n",
       "638fa6169e06b3a4b6f9705c8fa9f158e7b22effcdb065b...  638fa6169e06b3a4b6f9705c8fa9f158e7b22effcdb065...   \n",
       "a54d3aec912ae24279c08d62966c897b96182bc18694253...  a54d3aec912ae24279c08d62966c897b96182bc1869425...   \n",
       "06256b56bf0c217cd59e3e31c1f2252571d23b5e03efba9...  06256b56bf0c217cd59e3e31c1f2252571d23b5e03efba...   \n",
       "be3ee01e8297f55afeb3049a87c6ea6bd160c7f5dbefebd...  be3ee01e8297f55afeb3049a87c6ea6bd160c7f5dbefeb...   \n",
       "fd690d4ce84e649f8522505fc097c6191c5bb35ebc71815...  fd690d4ce84e649f8522505fc097c6191c5bb35ebc7181...   \n",
       "\n",
       "                                                    year      tag      time  \n",
       "sha256                                                                       \n",
       "638fa6169e06b3a4b6f9705c8fa9f158e7b22effcdb065b...   new   benign  2.904981  \n",
       "a54d3aec912ae24279c08d62966c897b96182bc18694253...   new   benign  2.567824  \n",
       "06256b56bf0c217cd59e3e31c1f2252571d23b5e03efba9...  2013  malware  1.860964  \n",
       "be3ee01e8297f55afeb3049a87c6ea6bd160c7f5dbefebd...  2013  malware  0.761971  \n",
       "fd690d4ce84e649f8522505fc097c6191c5bb35ebc71815...  2013  malware  0.784907  "
      ]
     },
     "execution_count": 123,
     "metadata": {},
     "output_type": "execute_result"
    }
   ],
   "source": [
    "mamadroid_efficiency_df.head()"
   ]
  },
  {
   "cell_type": "code",
   "execution_count": 125,
   "metadata": {},
   "outputs": [
    {
     "data": {
      "text/html": [
       "<div>\n",
       "<style scoped>\n",
       "    .dataframe tbody tr th:only-of-type {\n",
       "        vertical-align: middle;\n",
       "    }\n",
       "\n",
       "    .dataframe tbody tr th {\n",
       "        vertical-align: top;\n",
       "    }\n",
       "\n",
       "    .dataframe thead th {\n",
       "        text-align: right;\n",
       "    }\n",
       "</style>\n",
       "<table border=\"1\" class=\"dataframe\">\n",
       "  <thead>\n",
       "    <tr style=\"text-align: right;\">\n",
       "      <th></th>\n",
       "      <th>name</th>\n",
       "      <th>sha256</th>\n",
       "      <th>year</th>\n",
       "      <th>tag</th>\n",
       "      <th>time</th>\n",
       "    </tr>\n",
       "    <tr>\n",
       "      <th>sha256</th>\n",
       "      <th></th>\n",
       "      <th></th>\n",
       "      <th></th>\n",
       "      <th></th>\n",
       "      <th></th>\n",
       "    </tr>\n",
       "  </thead>\n",
       "  <tbody>\n",
       "    <tr>\n",
       "      <th>638fa6169e06b3a4b6f9705c8fa9f158e7b22effcdb065b5c3fee7f1394bca92</th>\n",
       "      <td>com.explore.web.browser.apk</td>\n",
       "      <td>638fa6169e06b3a4b6f9705c8fa9f158e7b22effcdb065...</td>\n",
       "      <td>new</td>\n",
       "      <td>benign</td>\n",
       "      <td>2.904981</td>\n",
       "    </tr>\n",
       "    <tr>\n",
       "      <th>a54d3aec912ae24279c08d62966c897b96182bc18694253ffc7afce136ad454b</th>\n",
       "      <td>com.estrongs.android.taskmanager.apk</td>\n",
       "      <td>a54d3aec912ae24279c08d62966c897b96182bc1869425...</td>\n",
       "      <td>new</td>\n",
       "      <td>benign</td>\n",
       "      <td>2.567824</td>\n",
       "    </tr>\n",
       "  </tbody>\n",
       "</table>\n",
       "</div>"
      ],
      "text/plain": [
       "                                                                                    name  \\\n",
       "sha256                                                                                     \n",
       "638fa6169e06b3a4b6f9705c8fa9f158e7b22effcdb065b...           com.explore.web.browser.apk   \n",
       "a54d3aec912ae24279c08d62966c897b96182bc18694253...  com.estrongs.android.taskmanager.apk   \n",
       "\n",
       "                                                                                               sha256  \\\n",
       "sha256                                                                                                  \n",
       "638fa6169e06b3a4b6f9705c8fa9f158e7b22effcdb065b...  638fa6169e06b3a4b6f9705c8fa9f158e7b22effcdb065...   \n",
       "a54d3aec912ae24279c08d62966c897b96182bc18694253...  a54d3aec912ae24279c08d62966c897b96182bc1869425...   \n",
       "\n",
       "                                                   year     tag      time  \n",
       "sha256                                                                     \n",
       "638fa6169e06b3a4b6f9705c8fa9f158e7b22effcdb065b...  new  benign  2.904981  \n",
       "a54d3aec912ae24279c08d62966c897b96182bc18694253...  new  benign  2.567824  "
      ]
     },
     "execution_count": 125,
     "metadata": {},
     "output_type": "execute_result"
    }
   ],
   "source": []
  },
  {
   "cell_type": "code",
   "execution_count": 128,
   "metadata": {},
   "outputs": [
    {
     "data": {
      "text/plain": [
       "malware    29444\n",
       "benign         2\n",
       "Name: tag, dtype: int64"
      ]
     },
     "execution_count": 128,
     "metadata": {},
     "output_type": "execute_result"
    }
   ],
   "source": [
    "mamadroid_efficiency_df.tag.value_counts()"
   ]
  },
  {
   "cell_type": "code",
   "execution_count": null,
   "metadata": {},
   "outputs": [],
   "source": [
    "mamadroid_efficiency_df.local[]"
   ]
  },
  {
   "cell_type": "code",
   "execution_count": 124,
   "metadata": {},
   "outputs": [
    {
     "data": {
      "text/html": [
       "<div>\n",
       "<style scoped>\n",
       "    .dataframe tbody tr th:only-of-type {\n",
       "        vertical-align: middle;\n",
       "    }\n",
       "\n",
       "    .dataframe tbody tr th {\n",
       "        vertical-align: top;\n",
       "    }\n",
       "\n",
       "    .dataframe thead th {\n",
       "        text-align: right;\n",
       "    }\n",
       "</style>\n",
       "<table border=\"1\" class=\"dataframe\">\n",
       "  <thead>\n",
       "    <tr style=\"text-align: right;\">\n",
       "      <th></th>\n",
       "      <th>name</th>\n",
       "      <th>sha256</th>\n",
       "      <th>year</th>\n",
       "      <th>tag</th>\n",
       "      <th>time</th>\n",
       "    </tr>\n",
       "    <tr>\n",
       "      <th>sha256</th>\n",
       "      <th></th>\n",
       "      <th></th>\n",
       "      <th></th>\n",
       "      <th></th>\n",
       "      <th></th>\n",
       "    </tr>\n",
       "  </thead>\n",
       "  <tbody>\n",
       "    <tr>\n",
       "      <th>638fa6169e06b3a4b6f9705c8fa9f158e7b22effcdb065b5c3fee7f1394bca92</th>\n",
       "      <td>com.explore.web.browser.apk</td>\n",
       "      <td>638fa6169e06b3a4b6f9705c8fa9f158e7b22effcdb065...</td>\n",
       "      <td>new</td>\n",
       "      <td>benign</td>\n",
       "      <td>2.904981</td>\n",
       "    </tr>\n",
       "    <tr>\n",
       "      <th>a54d3aec912ae24279c08d62966c897b96182bc18694253ffc7afce136ad454b</th>\n",
       "      <td>com.estrongs.android.taskmanager.apk</td>\n",
       "      <td>a54d3aec912ae24279c08d62966c897b96182bc1869425...</td>\n",
       "      <td>new</td>\n",
       "      <td>benign</td>\n",
       "      <td>2.567824</td>\n",
       "    </tr>\n",
       "    <tr>\n",
       "      <th>06256b56bf0c217cd59e3e31c1f2252571d23b5e03efba90f58debda11069975</th>\n",
       "      <td>VirusShare_981e1561811e257e302f97d2559f162c</td>\n",
       "      <td>06256b56bf0c217cd59e3e31c1f2252571d23b5e03efba...</td>\n",
       "      <td>2013</td>\n",
       "      <td>malware</td>\n",
       "      <td>1.860964</td>\n",
       "    </tr>\n",
       "    <tr>\n",
       "      <th>be3ee01e8297f55afeb3049a87c6ea6bd160c7f5dbefebd1682dcf25a22b6296</th>\n",
       "      <td>VirusShare_3e01bfa41a1ae4c290b34c374f75f217</td>\n",
       "      <td>be3ee01e8297f55afeb3049a87c6ea6bd160c7f5dbefeb...</td>\n",
       "      <td>2013</td>\n",
       "      <td>malware</td>\n",
       "      <td>0.761971</td>\n",
       "    </tr>\n",
       "    <tr>\n",
       "      <th>fd690d4ce84e649f8522505fc097c6191c5bb35ebc718158b320844f39c0660d</th>\n",
       "      <td>VirusShare_24558f10ab352a8257de526905531f1e</td>\n",
       "      <td>fd690d4ce84e649f8522505fc097c6191c5bb35ebc7181...</td>\n",
       "      <td>2013</td>\n",
       "      <td>malware</td>\n",
       "      <td>0.784907</td>\n",
       "    </tr>\n",
       "  </tbody>\n",
       "</table>\n",
       "</div>"
      ],
      "text/plain": [
       "                                                                                           name  \\\n",
       "sha256                                                                                            \n",
       "638fa6169e06b3a4b6f9705c8fa9f158e7b22effcdb065b...                  com.explore.web.browser.apk   \n",
       "a54d3aec912ae24279c08d62966c897b96182bc18694253...         com.estrongs.android.taskmanager.apk   \n",
       "06256b56bf0c217cd59e3e31c1f2252571d23b5e03efba9...  VirusShare_981e1561811e257e302f97d2559f162c   \n",
       "be3ee01e8297f55afeb3049a87c6ea6bd160c7f5dbefebd...  VirusShare_3e01bfa41a1ae4c290b34c374f75f217   \n",
       "fd690d4ce84e649f8522505fc097c6191c5bb35ebc71815...  VirusShare_24558f10ab352a8257de526905531f1e   \n",
       "\n",
       "                                                                                               sha256  \\\n",
       "sha256                                                                                                  \n",
       "638fa6169e06b3a4b6f9705c8fa9f158e7b22effcdb065b...  638fa6169e06b3a4b6f9705c8fa9f158e7b22effcdb065...   \n",
       "a54d3aec912ae24279c08d62966c897b96182bc18694253...  a54d3aec912ae24279c08d62966c897b96182bc1869425...   \n",
       "06256b56bf0c217cd59e3e31c1f2252571d23b5e03efba9...  06256b56bf0c217cd59e3e31c1f2252571d23b5e03efba...   \n",
       "be3ee01e8297f55afeb3049a87c6ea6bd160c7f5dbefebd...  be3ee01e8297f55afeb3049a87c6ea6bd160c7f5dbefeb...   \n",
       "fd690d4ce84e649f8522505fc097c6191c5bb35ebc71815...  fd690d4ce84e649f8522505fc097c6191c5bb35ebc7181...   \n",
       "\n",
       "                                                    year      tag      time  \n",
       "sha256                                                                       \n",
       "638fa6169e06b3a4b6f9705c8fa9f158e7b22effcdb065b...   new   benign  2.904981  \n",
       "a54d3aec912ae24279c08d62966c897b96182bc18694253...   new   benign  2.567824  \n",
       "06256b56bf0c217cd59e3e31c1f2252571d23b5e03efba9...  2013  malware  1.860964  \n",
       "be3ee01e8297f55afeb3049a87c6ea6bd160c7f5dbefebd...  2013  malware  0.761971  \n",
       "fd690d4ce84e649f8522505fc097c6191c5bb35ebc71815...  2013  malware  0.784907  "
      ]
     },
     "execution_count": 124,
     "metadata": {},
     "output_type": "execute_result"
    }
   ],
   "source": [
    "mamadroid_efficiency_df.head()"
   ]
  },
  {
   "cell_type": "code",
   "execution_count": 113,
   "metadata": {},
   "outputs": [
    {
     "data": {
      "text/plain": [
       "count    43066.000000\n",
       "mean         2.303742\n",
       "std          3.327790\n",
       "min          0.400146\n",
       "25%          0.652506\n",
       "50%          0.892931\n",
       "75%          2.352675\n",
       "max         35.771906\n",
       "Name: time, dtype: float64"
      ]
     },
     "execution_count": 113,
     "metadata": {},
     "output_type": "execute_result"
    }
   ],
   "source": [
    "df.time.describe()"
   ]
  },
  {
   "cell_type": "code",
   "execution_count": 100,
   "metadata": {},
   "outputs": [
    {
     "data": {
      "text/plain": [
       "43066"
      ]
     },
     "execution_count": 100,
     "metadata": {},
     "output_type": "execute_result"
    }
   ],
   "source": [
    "len(resultList)"
   ]
  },
  {
   "cell_type": "markdown",
   "metadata": {},
   "source": [
    "### Drebin"
   ]
  },
  {
   "cell_type": "code",
   "execution_count": 33,
   "metadata": {},
   "outputs": [],
   "source": [
    "df = pd.read_msgpack('/ws/mnt/habouch/datasets/android_dataset/meta/drebin_meta.msg')\n",
    "fileNames  = df.sha256.to_list()"
   ]
  },
  {
   "cell_type": "code",
   "execution_count": 33,
   "metadata": {},
   "outputs": [],
   "source": [
    "outputRoot = '/ws/mnt/local/data/test/'\n",
    "inputRoot  = '/ws/mnt/habouch/datasets/android_dataset/samples/drebin_dataset/'\n",
    "\n",
    "VocabDict = pd.read_csv('dataset/InstructionDict.csv', index_col=0, names=['ID'])\n",
    "VocabDict = VocabDict.ID\n",
    "\n",
    "resultList = list()\n",
    "for name in fileNames:\n",
    "    parseTime = parseDex(name)\n",
    "    resultList.append((name, parseTime))\n",
    "\n",
    "df = pd.DataFrame(resultList, columns=['hash', 'time'])\n",
    "\n",
    "doneList = [name.split('/')[-1] for name in glob.glob(outputRoot + '*')]\n",
    "df = df.loc[df.hash.isin(doneList)]\n",
    "\n",
    "df.to_parquet('traces/drebin_efficiency.parquet')"
   ]
  },
  {
   "cell_type": "code",
   "execution_count": 9,
   "metadata": {},
   "outputs": [],
   "source": [
    "ddf = pd.read_msgpack('/ws/mnt/habouch/datasets/android_dataset/meta/drebin_meta.msg')"
   ]
  },
  {
   "cell_type": "code",
   "execution_count": 10,
   "metadata": {},
   "outputs": [],
   "source": [
    "zdf = pd.read_parquet('dataset/androzoo_meta.parquet')\n",
    "zdf = zdf.sample(20000, random_state=54)"
   ]
  },
  {
   "cell_type": "code",
   "execution_count": 39,
   "metadata": {},
   "outputs": [],
   "source": [
    "drebin_efficiency = pd.read_parquet('traces/drebin_efficiency.parquet')"
   ]
  },
  {
   "cell_type": "code",
   "execution_count": 40,
   "metadata": {},
   "outputs": [],
   "source": [
    "drebin_efficiency['label'] = 'Malware'"
   ]
  },
  {
   "cell_type": "code",
   "execution_count": 41,
   "metadata": {},
   "outputs": [],
   "source": [
    "minizoo_efficiency = pd.read_parquet('traces/minizoo_efficiency.parquet')\n",
    "zdf = zdf.loc[zdf.sha256.isin(minizoo_efficiency.hash)]\n",
    "minizoo_efficiency['label'] = 'Benign'"
   ]
  },
  {
   "cell_type": "code",
   "execution_count": 42,
   "metadata": {},
   "outputs": [],
   "source": [
    "zdf.index = zdf.sha256"
   ]
  },
  {
   "cell_type": "code",
   "execution_count": 43,
   "metadata": {},
   "outputs": [],
   "source": [
    "minizoo_efficiency.loc[list(zdf.loc[minizoo_efficiency.hash, 'vt_detection'] > 0), 'label'] = 'Malware'"
   ]
  },
  {
   "cell_type": "code",
   "execution_count": 45,
   "metadata": {},
   "outputs": [],
   "source": [
    "efficiency_df = pd.concat([drebin_efficiency, minizoo_efficiency])"
   ]
  },
  {
   "cell_type": "code",
   "execution_count": 79,
   "metadata": {},
   "outputs": [],
   "source": [
    "efficiency_df.to_parquet('traces/efficiency_df.parquet')"
   ]
  },
  {
   "cell_type": "code",
   "execution_count": 63,
   "metadata": {},
   "outputs": [
    {
     "data": {
      "text/plain": [
       "count    24701.000000\n",
       "mean         5.327044\n",
       "std          5.262122\n",
       "min          0.039133\n",
       "25%          1.133801\n",
       "50%          3.713357\n",
       "75%          8.086701\n",
       "max         29.998231\n",
       "Name: time, dtype: float64"
      ]
     },
     "execution_count": 63,
     "metadata": {},
     "output_type": "execute_result"
    }
   ],
   "source": [
    "efficiency_df.time.describe()"
   ]
  },
  {
   "cell_type": "code",
   "execution_count": 77,
   "metadata": {},
   "outputs": [],
   "source": [
    "%matplotlib inline\n",
    "import matplotlib\n",
    "import matplotlib.pyplot as plt\n",
    "import seaborn as sns"
   ]
  },
  {
   "cell_type": "code",
   "execution_count": null,
   "metadata": {},
   "outputs": [],
   "source": [
    "5.32+-5.26"
   ]
  },
  {
   "cell_type": "code",
   "execution_count": 78,
   "metadata": {},
   "outputs": [
    {
     "data": {
      "text/html": [
       "<div>\n",
       "<style scoped>\n",
       "    .dataframe tbody tr th:only-of-type {\n",
       "        vertical-align: middle;\n",
       "    }\n",
       "\n",
       "    .dataframe tbody tr th {\n",
       "        vertical-align: top;\n",
       "    }\n",
       "\n",
       "    .dataframe thead th {\n",
       "        text-align: right;\n",
       "    }\n",
       "</style>\n",
       "<table border=\"1\" class=\"dataframe\">\n",
       "  <thead>\n",
       "    <tr style=\"text-align: right;\">\n",
       "      <th></th>\n",
       "      <th>hash</th>\n",
       "      <th>time</th>\n",
       "      <th>label</th>\n",
       "    </tr>\n",
       "  </thead>\n",
       "  <tbody>\n",
       "    <tr>\n",
       "      <th>0</th>\n",
       "      <td>33573adee330e08649515394f0c433b3d18f1d657538f9...</td>\n",
       "      <td>0.107054</td>\n",
       "      <td>Malware</td>\n",
       "    </tr>\n",
       "    <tr>\n",
       "      <th>2</th>\n",
       "      <td>854babeb207acd013a6d4b7aacf780f00ed697bc91f0b1...</td>\n",
       "      <td>0.076319</td>\n",
       "      <td>Malware</td>\n",
       "    </tr>\n",
       "    <tr>\n",
       "      <th>3</th>\n",
       "      <td>498b425a8536ce03b5738e1ba3339f70ec2680bc437e16...</td>\n",
       "      <td>0.848063</td>\n",
       "      <td>Malware</td>\n",
       "    </tr>\n",
       "    <tr>\n",
       "      <th>4</th>\n",
       "      <td>8c2822a3f35cd93ba0470bb916fc1a6646ec7c8e89e19f...</td>\n",
       "      <td>0.128691</td>\n",
       "      <td>Malware</td>\n",
       "    </tr>\n",
       "    <tr>\n",
       "      <th>5</th>\n",
       "      <td>4dae15113eb12afb727961a3c853d1b28970cd5ea9c29e...</td>\n",
       "      <td>0.102657</td>\n",
       "      <td>Malware</td>\n",
       "    </tr>\n",
       "  </tbody>\n",
       "</table>\n",
       "</div>"
      ],
      "text/plain": [
       "                                                hash      time    label\n",
       "0  33573adee330e08649515394f0c433b3d18f1d657538f9...  0.107054  Malware\n",
       "2  854babeb207acd013a6d4b7aacf780f00ed697bc91f0b1...  0.076319  Malware\n",
       "3  498b425a8536ce03b5738e1ba3339f70ec2680bc437e16...  0.848063  Malware\n",
       "4  8c2822a3f35cd93ba0470bb916fc1a6646ec7c8e89e19f...  0.128691  Malware\n",
       "5  4dae15113eb12afb727961a3c853d1b28970cd5ea9c29e...  0.102657  Malware"
      ]
     },
     "execution_count": 78,
     "metadata": {},
     "output_type": "execute_result"
    }
   ],
   "source": [
    "efficiency_df.head()"
   ]
  },
  {
   "cell_type": "code",
   "execution_count": 219,
   "metadata": {},
   "outputs": [
    {
     "data": {
      "text/html": [
       "<div>\n",
       "<style scoped>\n",
       "    .dataframe tbody tr th:only-of-type {\n",
       "        vertical-align: middle;\n",
       "    }\n",
       "\n",
       "    .dataframe tbody tr th {\n",
       "        vertical-align: top;\n",
       "    }\n",
       "\n",
       "    .dataframe thead th {\n",
       "        text-align: right;\n",
       "    }\n",
       "</style>\n",
       "<table border=\"1\" class=\"dataframe\">\n",
       "  <thead>\n",
       "    <tr style=\"text-align: right;\">\n",
       "      <th></th>\n",
       "      <th>name</th>\n",
       "      <th>sha256</th>\n",
       "      <th>year</th>\n",
       "      <th>tag</th>\n",
       "      <th>time</th>\n",
       "    </tr>\n",
       "    <tr>\n",
       "      <th>sha256</th>\n",
       "      <th></th>\n",
       "      <th></th>\n",
       "      <th></th>\n",
       "      <th></th>\n",
       "      <th></th>\n",
       "    </tr>\n",
       "  </thead>\n",
       "  <tbody>\n",
       "    <tr>\n",
       "      <th>9900e806335f26dfd401087ad9b396faa77ee26136709b152d8ec50c983f23e3</th>\n",
       "      <td>com.andromo.dev245803.app277649-2.apk</td>\n",
       "      <td>9900e806335f26dfd401087ad9b396faa77ee26136709b...</td>\n",
       "      <td>old</td>\n",
       "      <td>benign</td>\n",
       "      <td>4.581892</td>\n",
       "    </tr>\n",
       "    <tr>\n",
       "      <th>c671eec269ee7d2149b84ae254a5c3ea1acd9dbf175ed09d6025d66073c28b87</th>\n",
       "      <td>appinventor.ai_bbutte26.OdysseyLandscaping-1.apk</td>\n",
       "      <td>c671eec269ee7d2149b84ae254a5c3ea1acd9dbf175ed0...</td>\n",
       "      <td>old</td>\n",
       "      <td>benign</td>\n",
       "      <td>9.250725</td>\n",
       "    </tr>\n",
       "    <tr>\n",
       "      <th>1b2d4cb6e799a6562e9bd1b7612fbca22e288abfcdf13b7be4b71283c9b5a53d</th>\n",
       "      <td>com.wVkusno-1412669826.apk</td>\n",
       "      <td>1b2d4cb6e799a6562e9bd1b7612fbca22e288abfcdf13b...</td>\n",
       "      <td>old</td>\n",
       "      <td>benign</td>\n",
       "      <td>3.072921</td>\n",
       "    </tr>\n",
       "    <tr>\n",
       "      <th>6e3d2728de569ed900f99a188421bd44b8822e0a84c786a8f49d55004cc1ba91</th>\n",
       "      <td>com.hespress.android-4.apk</td>\n",
       "      <td>6e3d2728de569ed900f99a188421bd44b8822e0a84c786...</td>\n",
       "      <td>old</td>\n",
       "      <td>benign</td>\n",
       "      <td>8.302589</td>\n",
       "    </tr>\n",
       "    <tr>\n",
       "      <th>81f18a464d766bd372f432f08465d7b38d497888624aefa48ad45efdce4c1ffb</th>\n",
       "      <td>baby.village.ani_card-2.apk</td>\n",
       "      <td>81f18a464d766bd372f432f08465d7b38d497888624aef...</td>\n",
       "      <td>old</td>\n",
       "      <td>benign</td>\n",
       "      <td>1.054777</td>\n",
       "    </tr>\n",
       "  </tbody>\n",
       "</table>\n",
       "</div>"
      ],
      "text/plain": [
       "                                                                                                name  \\\n",
       "sha256                                                                                                 \n",
       "9900e806335f26dfd401087ad9b396faa77ee26136709b1...             com.andromo.dev245803.app277649-2.apk   \n",
       "c671eec269ee7d2149b84ae254a5c3ea1acd9dbf175ed09...  appinventor.ai_bbutte26.OdysseyLandscaping-1.apk   \n",
       "1b2d4cb6e799a6562e9bd1b7612fbca22e288abfcdf13b7...                        com.wVkusno-1412669826.apk   \n",
       "6e3d2728de569ed900f99a188421bd44b8822e0a84c786a...                        com.hespress.android-4.apk   \n",
       "81f18a464d766bd372f432f08465d7b38d497888624aefa...                       baby.village.ani_card-2.apk   \n",
       "\n",
       "                                                                                               sha256  \\\n",
       "sha256                                                                                                  \n",
       "9900e806335f26dfd401087ad9b396faa77ee26136709b1...  9900e806335f26dfd401087ad9b396faa77ee26136709b...   \n",
       "c671eec269ee7d2149b84ae254a5c3ea1acd9dbf175ed09...  c671eec269ee7d2149b84ae254a5c3ea1acd9dbf175ed0...   \n",
       "1b2d4cb6e799a6562e9bd1b7612fbca22e288abfcdf13b7...  1b2d4cb6e799a6562e9bd1b7612fbca22e288abfcdf13b...   \n",
       "6e3d2728de569ed900f99a188421bd44b8822e0a84c786a...  6e3d2728de569ed900f99a188421bd44b8822e0a84c786...   \n",
       "81f18a464d766bd372f432f08465d7b38d497888624aefa...  81f18a464d766bd372f432f08465d7b38d497888624aef...   \n",
       "\n",
       "                                                   year     tag      time  \n",
       "sha256                                                                     \n",
       "9900e806335f26dfd401087ad9b396faa77ee26136709b1...  old  benign  4.581892  \n",
       "c671eec269ee7d2149b84ae254a5c3ea1acd9dbf175ed09...  old  benign  9.250725  \n",
       "1b2d4cb6e799a6562e9bd1b7612fbca22e288abfcdf13b7...  old  benign  3.072921  \n",
       "6e3d2728de569ed900f99a188421bd44b8822e0a84c786a...  old  benign  8.302589  \n",
       "81f18a464d766bd372f432f08465d7b38d497888624aefa...  old  benign  1.054777  "
      ]
     },
     "execution_count": 219,
     "metadata": {},
     "output_type": "execute_result"
    }
   ],
   "source": [
    "mamadroid_efficiency.head()"
   ]
  },
  {
   "cell_type": "code",
   "execution_count": 221,
   "metadata": {},
   "outputs": [],
   "source": [
    "mamadroid_efficiency = mamadroid_efficiency.loc[mamadroid_efficiency.time < 30]"
   ]
  },
  {
   "cell_type": "code",
   "execution_count": 222,
   "metadata": {},
   "outputs": [
    {
     "data": {
      "image/png": "[encoded data removed]",
      "text/plain": [
       "<Figure size 432x288 with 1 Axes>"
      ]
     },
     "metadata": {
      "needs_background": "light"
     },
     "output_type": "display_data"
    }
   ],
   "source": [
    "sns_plot = sns.boxplot(x='tag', y='time', data=mamadroid_efficiency, palette='Oranges')\n",
    "sns_plot.set(xlabel='', ylabel='Preprocessing Time (Seconds)')\n",
    "sns_plot.yaxis.set_ticks(range(0, 30, 4))\n",
    "sns.despine(offset=10, trim=True);\n",
    "plt.xticks(rotation=0)\n",
    "sns_plot.set_axisbelow(True)\n",
    "plt.grid(True)\n",
    "sns_plot.figure.savefig('./plots/petadroid_efficiency_performance.pdf', bbox_inches='tight', transparent=True)"
   ]
  },
  {
   "cell_type": "code",
   "execution_count": 57,
   "metadata": {},
   "outputs": [
    {
     "ename": "AttributeError",
     "evalue": "'Series' object has no attribute 'da'",
     "output_type": "error",
     "traceback": [
      "\u001b[0;31m---------------------------------------------------------------------------\u001b[0m",
      "\u001b[0;31mAttributeError\u001b[0m                            Traceback (most recent call last)",
      "\u001b[0;32m<ipython-input-57-2d0e251259b4>\u001b[0m in \u001b[0;36m<module>\u001b[0;34m\u001b[0m\n\u001b[0;32m----> 1\u001b[0;31m \u001b[0mefficiency_df\u001b[0m\u001b[0;34m.\u001b[0m\u001b[0mtime\u001b[0m\u001b[0;34m.\u001b[0m\u001b[0mda\u001b[0m\u001b[0;34m\u001b[0m\u001b[0;34m\u001b[0m\u001b[0m\n\u001b[0m",
      "\u001b[0;32m/opt/conda/envs/py36/lib/python3.6/site-packages/pandas/core/generic.py\u001b[0m in \u001b[0;36m__getattr__\u001b[0;34m(self, name)\u001b[0m\n\u001b[1;32m   5178\u001b[0m             \u001b[0;32mif\u001b[0m \u001b[0mself\u001b[0m\u001b[0;34m.\u001b[0m\u001b[0m_info_axis\u001b[0m\u001b[0;34m.\u001b[0m\u001b[0m_can_hold_identifiers_and_holds_name\u001b[0m\u001b[0;34m(\u001b[0m\u001b[0mname\u001b[0m\u001b[0;34m)\u001b[0m\u001b[0;34m:\u001b[0m\u001b[0;34m\u001b[0m\u001b[0;34m\u001b[0m\u001b[0m\n\u001b[1;32m   5179\u001b[0m                 \u001b[0;32mreturn\u001b[0m \u001b[0mself\u001b[0m\u001b[0;34m[\u001b[0m\u001b[0mname\u001b[0m\u001b[0;34m]\u001b[0m\u001b[0;34m\u001b[0m\u001b[0;34m\u001b[0m\u001b[0m\n\u001b[0;32m-> 5180\u001b[0;31m             \u001b[0;32mreturn\u001b[0m \u001b[0mobject\u001b[0m\u001b[0;34m.\u001b[0m\u001b[0m__getattribute__\u001b[0m\u001b[0;34m(\u001b[0m\u001b[0mself\u001b[0m\u001b[0;34m,\u001b[0m \u001b[0mname\u001b[0m\u001b[0;34m)\u001b[0m\u001b[0;34m\u001b[0m\u001b[0;34m\u001b[0m\u001b[0m\n\u001b[0m\u001b[1;32m   5181\u001b[0m \u001b[0;34m\u001b[0m\u001b[0m\n\u001b[1;32m   5182\u001b[0m     \u001b[0;32mdef\u001b[0m \u001b[0m__setattr__\u001b[0m\u001b[0;34m(\u001b[0m\u001b[0mself\u001b[0m\u001b[0;34m,\u001b[0m \u001b[0mname\u001b[0m\u001b[0;34m,\u001b[0m \u001b[0mvalue\u001b[0m\u001b[0;34m)\u001b[0m\u001b[0;34m:\u001b[0m\u001b[0;34m\u001b[0m\u001b[0;34m\u001b[0m\u001b[0m\n",
      "\u001b[0;31mAttributeError\u001b[0m: 'Series' object has no attribute 'da'"
     ]
    }
   ],
   "source": [
    "efficiency_df.time."
   ]
  },
  {
   "cell_type": "code",
   "execution_count": 81,
   "metadata": {},
   "outputs": [
    {
     "data": {
      "text/plain": [
       "count    24701.000000\n",
       "mean         5.327044\n",
       "std          5.262122\n",
       "min          0.039133\n",
       "25%          1.133801\n",
       "50%          3.713357\n",
       "75%          8.086701\n",
       "max         29.998231\n",
       "Name: time, dtype: float64"
      ]
     },
     "execution_count": 81,
     "metadata": {},
     "output_type": "execute_result"
    }
   ],
   "source": [
    "efficiency_df.time.describe()"
   ]
  },
  {
   "cell_type": "code",
   "execution_count": 83,
   "metadata": {},
   "outputs": [
    {
     "data": {
      "text/plain": [
       "count    9598.000000\n",
       "mean        2.640205\n",
       "std         3.948852\n",
       "min         0.039133\n",
       "25%         0.389146\n",
       "50%         1.064979\n",
       "75%         2.750740\n",
       "max        29.840792\n",
       "Name: time, dtype: float64"
      ]
     },
     "execution_count": 83,
     "metadata": {},
     "output_type": "execute_result"
    }
   ],
   "source": [
    "efficiency_df.loc[efficiency_df.label == 'Malware'].time.describe()"
   ]
  },
  {
   "cell_type": "code",
   "execution_count": 84,
   "metadata": {},
   "outputs": [
    {
     "data": {
      "text/plain": [
       "count    15103.000000\n",
       "mean         7.034538\n",
       "std          5.279681\n",
       "min          0.510546\n",
       "25%          2.807225\n",
       "50%          6.117907\n",
       "75%          9.722793\n",
       "max         29.998231\n",
       "Name: time, dtype: float64"
      ]
     },
     "execution_count": 84,
     "metadata": {},
     "output_type": "execute_result"
    }
   ],
   "source": [
    "efficiency_df.loc[efficiency_df.label == 'Benign'].time.describe()"
   ]
  },
  {
   "cell_type": "code",
   "execution_count": 64,
   "metadata": {},
   "outputs": [
    {
     "data": {
      "text/plain": [
       "19495"
      ]
     },
     "execution_count": 64,
     "metadata": {},
     "output_type": "execute_result"
    }
   ],
   "source": [
    "len(df)"
   ]
  },
  {
   "cell_type": "code",
   "execution_count": null,
   "metadata": {},
   "outputs": [],
   "source": [
    "import pandas as pd\n"
   ]
  },
  {
   "cell_type": "code",
   "execution_count": null,
   "metadata": {},
   "outputs": [],
   "source": []
  },
  {
   "cell_type": "code",
   "execution_count": 53,
   "metadata": {},
   "outputs": [],
   "source": [
    "df = pd.read_parquet('dataset/androzoo_meta.parquet')\n",
    "df = df.sample(20000, random_state=54)\n",
    "fileNames  = df.sha256.to_list()"
   ]
  },
  {
   "cell_type": "code",
   "execution_count": null,
   "metadata": {},
   "outputs": [],
   "source": []
  },
  {
   "cell_type": "code",
   "execution_count": 56,
   "metadata": {},
   "outputs": [],
   "source": [
    "import glob\n",
    "from multiprocessing import Pool\n",
    "mypool = Pool(processes=30)\n",
    "\n",
    "outputRoot = '/ws/mnt/local/data/test/'\n",
    "inputRoot  = '/ws/mnt/habouch/datasets/zoo_dataset/'\n",
    "\n",
    "VocabDict = pd.read_csv('dataset/InstructionDict.csv', index_col=0, names=['ID'])\n",
    "VocabDict = VocabDict.ID"
   ]
  },
  {
   "cell_type": "code",
   "execution_count": 57,
   "metadata": {},
   "outputs": [
    {
     "data": {
      "text/plain": [
       "20000"
      ]
     },
     "execution_count": 57,
     "metadata": {},
     "output_type": "execute_result"
    }
   ],
   "source": [
    "len(fileNames)"
   ]
  },
  {
   "cell_type": "code",
   "execution_count": 58,
   "metadata": {},
   "outputs": [],
   "source": [
    "resultList = mypool.map(parseDex, fileNames)\n",
    "mypool.close();\n",
    "mypool.join();"
   ]
  },
  {
   "cell_type": "code",
   "execution_count": 59,
   "metadata": {},
   "outputs": [],
   "source": [
    "df = pd.DataFrame(resultList, columns=['hash', 'time'])\n",
    "doneList = [name.split('/')[-1] for name in glob.glob(outputRoot + '*')]\n",
    "df = df.loc[df.hash.isin(doneList)]\n",
    "df.to_parquet('traces/minizoo_efficiency.parquet')"
   ]
  },
  {
   "cell_type": "code",
   "execution_count": null,
   "metadata": {},
   "outputs": [],
   "source": [
    "zoo"
   ]
  },
  {
   "cell_type": "code",
   "execution_count": 61,
   "metadata": {},
   "outputs": [
    {
     "data": {
      "text/plain": [
       "count    19495.000000\n",
       "mean         6.873035\n",
       "std          6.127411\n",
       "min          0.510546\n",
       "25%          2.328798\n",
       "50%          5.617222\n",
       "75%          9.557944\n",
       "max        168.358730\n",
       "Name: time, dtype: float64"
      ]
     },
     "execution_count": 61,
     "metadata": {},
     "output_type": "execute_result"
    }
   ],
   "source": [
    "df.time.describe()"
   ]
  },
  {
   "cell_type": "code",
   "execution_count": null,
   "metadata": {},
   "outputs": [],
   "source": []
  },
  {
   "cell_type": "code",
   "execution_count": null,
   "metadata": {},
   "outputs": [],
   "source": []
  },
  {
   "cell_type": "code",
   "execution_count": 42,
   "metadata": {},
   "outputs": [
    {
     "ename": "KeyboardInterrupt",
     "evalue": "",
     "output_type": "error",
     "traceback": [
      "\u001b[0;31m---------------------------------------------------------------------------\u001b[0m",
      "\u001b[0;31mKeyboardInterrupt\u001b[0m                         Traceback (most recent call last)",
      "\u001b[0;32m<ipython-input-42-f7a147fbe795>\u001b[0m in \u001b[0;36m<module>\u001b[0;34m\u001b[0m\n\u001b[1;32m      7\u001b[0m \u001b[0mresultList\u001b[0m \u001b[0;34m=\u001b[0m \u001b[0mlist\u001b[0m\u001b[0;34m(\u001b[0m\u001b[0;34m)\u001b[0m\u001b[0;34m\u001b[0m\u001b[0;34m\u001b[0m\u001b[0m\n\u001b[1;32m      8\u001b[0m \u001b[0;32mfor\u001b[0m \u001b[0mname\u001b[0m \u001b[0;32min\u001b[0m \u001b[0mfileNames\u001b[0m\u001b[0;34m:\u001b[0m\u001b[0;34m\u001b[0m\u001b[0;34m\u001b[0m\u001b[0m\n\u001b[0;32m----> 9\u001b[0;31m     \u001b[0mparseTime\u001b[0m \u001b[0;34m=\u001b[0m \u001b[0mparseDex\u001b[0m\u001b[0;34m(\u001b[0m\u001b[0mname\u001b[0m\u001b[0;34m)\u001b[0m\u001b[0;34m\u001b[0m\u001b[0;34m\u001b[0m\u001b[0m\n\u001b[0m\u001b[1;32m     10\u001b[0m     \u001b[0mresultList\u001b[0m\u001b[0;34m.\u001b[0m\u001b[0mappend\u001b[0m\u001b[0;34m(\u001b[0m\u001b[0;34m(\u001b[0m\u001b[0mname\u001b[0m\u001b[0;34m,\u001b[0m \u001b[0mparseTime\u001b[0m\u001b[0;34m)\u001b[0m\u001b[0;34m)\u001b[0m\u001b[0;34m\u001b[0m\u001b[0;34m\u001b[0m\u001b[0m\n\u001b[1;32m     11\u001b[0m \u001b[0;34m\u001b[0m\u001b[0m\n",
      "\u001b[0;32m<ipython-input-27-423fa7b5e710>\u001b[0m in \u001b[0;36mparseDex\u001b[0;34m(FileName)\u001b[0m\n\u001b[1;32m     42\u001b[0m     \u001b[0minputFilePath\u001b[0m  \u001b[0;34m=\u001b[0m \u001b[0minputRoot\u001b[0m  \u001b[0;34m+\u001b[0m \u001b[0mFileName\u001b[0m\u001b[0;34m\u001b[0m\u001b[0;34m\u001b[0m\u001b[0m\n\u001b[1;32m     43\u001b[0m \u001b[0;34m\u001b[0m\u001b[0m\n\u001b[0;32m---> 44\u001b[0;31m     \u001b[0mdex\u001b[0m \u001b[0;34m=\u001b[0m \u001b[0msubprocess\u001b[0m\u001b[0;34m.\u001b[0m\u001b[0mrun\u001b[0m\u001b[0;34m(\u001b[0m\u001b[0;34m[\u001b[0m\u001b[0;34m'dexdump'\u001b[0m\u001b[0;34m,\u001b[0m \u001b[0;34m'-d'\u001b[0m\u001b[0;34m,\u001b[0m \u001b[0minputFilePath\u001b[0m\u001b[0;34m]\u001b[0m\u001b[0;34m,\u001b[0m \u001b[0mstdout\u001b[0m\u001b[0;34m=\u001b[0m\u001b[0msubprocess\u001b[0m\u001b[0;34m.\u001b[0m\u001b[0mPIPE\u001b[0m\u001b[0;34m)\u001b[0m\u001b[0;34m.\u001b[0m\u001b[0mstdout\u001b[0m\u001b[0;34m.\u001b[0m\u001b[0mdecode\u001b[0m\u001b[0;34m(\u001b[0m\u001b[0mencoding\u001b[0m\u001b[0;34m=\u001b[0m\u001b[0;34m\"ISO-8859-1\"\u001b[0m\u001b[0;34m)\u001b[0m\u001b[0;34m\u001b[0m\u001b[0;34m\u001b[0m\u001b[0m\n\u001b[0m\u001b[1;32m     45\u001b[0m \u001b[0;34m\u001b[0m\u001b[0m\n\u001b[1;32m     46\u001b[0m     \u001b[0mcondidatClasses\u001b[0m \u001b[0;34m=\u001b[0m \u001b[0mre\u001b[0m\u001b[0;34m.\u001b[0m\u001b[0msplit\u001b[0m\u001b[0;34m(\u001b[0m\u001b[0;34m\"Class descriptor  : '\"\u001b[0m\u001b[0;34m,\u001b[0m \u001b[0mdex\u001b[0m\u001b[0;34m)\u001b[0m\u001b[0;34m[\u001b[0m\u001b[0;36m1\u001b[0m\u001b[0;34m:\u001b[0m\u001b[0;34m]\u001b[0m\u001b[0;34m\u001b[0m\u001b[0;34m\u001b[0m\u001b[0m\n",
      "\u001b[0;32m/opt/conda/envs/py36/lib/python3.6/subprocess.py\u001b[0m in \u001b[0;36mrun\u001b[0;34m(input, timeout, check, *popenargs, **kwargs)\u001b[0m\n\u001b[1;32m    423\u001b[0m     \u001b[0;32mwith\u001b[0m \u001b[0mPopen\u001b[0m\u001b[0;34m(\u001b[0m\u001b[0;34m*\u001b[0m\u001b[0mpopenargs\u001b[0m\u001b[0;34m,\u001b[0m \u001b[0;34m**\u001b[0m\u001b[0mkwargs\u001b[0m\u001b[0;34m)\u001b[0m \u001b[0;32mas\u001b[0m \u001b[0mprocess\u001b[0m\u001b[0;34m:\u001b[0m\u001b[0;34m\u001b[0m\u001b[0;34m\u001b[0m\u001b[0m\n\u001b[1;32m    424\u001b[0m         \u001b[0;32mtry\u001b[0m\u001b[0;34m:\u001b[0m\u001b[0;34m\u001b[0m\u001b[0;34m\u001b[0m\u001b[0m\n\u001b[0;32m--> 425\u001b[0;31m             \u001b[0mstdout\u001b[0m\u001b[0;34m,\u001b[0m \u001b[0mstderr\u001b[0m \u001b[0;34m=\u001b[0m \u001b[0mprocess\u001b[0m\u001b[0;34m.\u001b[0m\u001b[0mcommunicate\u001b[0m\u001b[0;34m(\u001b[0m\u001b[0minput\u001b[0m\u001b[0;34m,\u001b[0m \u001b[0mtimeout\u001b[0m\u001b[0;34m=\u001b[0m\u001b[0mtimeout\u001b[0m\u001b[0;34m)\u001b[0m\u001b[0;34m\u001b[0m\u001b[0;34m\u001b[0m\u001b[0m\n\u001b[0m\u001b[1;32m    426\u001b[0m         \u001b[0;32mexcept\u001b[0m \u001b[0mTimeoutExpired\u001b[0m\u001b[0;34m:\u001b[0m\u001b[0;34m\u001b[0m\u001b[0;34m\u001b[0m\u001b[0m\n\u001b[1;32m    427\u001b[0m             \u001b[0mprocess\u001b[0m\u001b[0;34m.\u001b[0m\u001b[0mkill\u001b[0m\u001b[0;34m(\u001b[0m\u001b[0;34m)\u001b[0m\u001b[0;34m\u001b[0m\u001b[0;34m\u001b[0m\u001b[0m\n",
      "\u001b[0;32m/opt/conda/envs/py36/lib/python3.6/subprocess.py\u001b[0m in \u001b[0;36mcommunicate\u001b[0;34m(self, input, timeout)\u001b[0m\n\u001b[1;32m    848\u001b[0m                 \u001b[0mself\u001b[0m\u001b[0;34m.\u001b[0m\u001b[0m_stdin_write\u001b[0m\u001b[0;34m(\u001b[0m\u001b[0minput\u001b[0m\u001b[0;34m)\u001b[0m\u001b[0;34m\u001b[0m\u001b[0;34m\u001b[0m\u001b[0m\n\u001b[1;32m    849\u001b[0m             \u001b[0;32melif\u001b[0m \u001b[0mself\u001b[0m\u001b[0;34m.\u001b[0m\u001b[0mstdout\u001b[0m\u001b[0;34m:\u001b[0m\u001b[0;34m\u001b[0m\u001b[0;34m\u001b[0m\u001b[0m\n\u001b[0;32m--> 850\u001b[0;31m                 \u001b[0mstdout\u001b[0m \u001b[0;34m=\u001b[0m \u001b[0mself\u001b[0m\u001b[0;34m.\u001b[0m\u001b[0mstdout\u001b[0m\u001b[0;34m.\u001b[0m\u001b[0mread\u001b[0m\u001b[0;34m(\u001b[0m\u001b[0;34m)\u001b[0m\u001b[0;34m\u001b[0m\u001b[0;34m\u001b[0m\u001b[0m\n\u001b[0m\u001b[1;32m    851\u001b[0m                 \u001b[0mself\u001b[0m\u001b[0;34m.\u001b[0m\u001b[0mstdout\u001b[0m\u001b[0;34m.\u001b[0m\u001b[0mclose\u001b[0m\u001b[0;34m(\u001b[0m\u001b[0;34m)\u001b[0m\u001b[0;34m\u001b[0m\u001b[0;34m\u001b[0m\u001b[0m\n\u001b[1;32m    852\u001b[0m             \u001b[0;32melif\u001b[0m \u001b[0mself\u001b[0m\u001b[0;34m.\u001b[0m\u001b[0mstderr\u001b[0m\u001b[0;34m:\u001b[0m\u001b[0;34m\u001b[0m\u001b[0;34m\u001b[0m\u001b[0m\n",
      "\u001b[0;31mKeyboardInterrupt\u001b[0m: "
     ]
    }
   ],
   "source": [
    "resultList = list()\n",
    "for name in fileNames:\n",
    "    parseTime = parseDex(name)\n",
    "    resultList.append((name, parseTime))\n",
    "\n",
    "df = pd.DataFrame(resultList, columns=['hash', 'time'])\n",
    "\n",
    "doneList = [name.split('/')[-1] for name in glob.glob(outputRoot + '*')]\n",
    "df = df.loc[df.hash.isin(doneList)]\n",
    "\n",
    "df.to_parquet('traces/minizoo_efficiency.parquet')"
   ]
  },
  {
   "cell_type": "code",
   "execution_count": null,
   "metadata": {},
   "outputs": [],
   "source": []
  },
  {
   "cell_type": "code",
   "execution_count": null,
   "metadata": {},
   "outputs": [],
   "source": []
  },
  {
   "cell_type": "code",
   "execution_count": null,
   "metadata": {},
   "outputs": [],
   "source": []
  },
  {
   "cell_type": "raw",
   "metadata": {},
   "source": [
    "df = pd.read_msgpack('/ws/mnt/habouch/datasets/android_dataset/meta/drebin_meta.msg')\n",
    "fileNames  = df.sha256.to_list()\n",
    "\n",
    "import glob\n",
    "from multiprocessing import Pool\n",
    "mypool = Pool(processes=40)\n",
    "\n",
    "outputRoot = '/ws/papers/active/petadroid/code/output/drebin/'\n",
    "inputRoot  = '/ws/mnt/habouch/datasets/android_dataset/samples/drebin_dataset/'\n",
    "\n",
    "VocabDict = pd.read_csv('dataset/InstructionDict.csv', index_col=0, names=['ID'])\n",
    "VocabDict = VocabDict.ID\n",
    "\n",
    "doneFileNames = [item.split('/')[-1] for item in glob.glob(outputRoot + '*')]\n",
    "todoFileNames = np.array(list(set(fileNames).difference(set(doneFileNames))))\n",
    "print(len(todoFileNames))"
   ]
  },
  {
   "cell_type": "raw",
   "metadata": {},
   "source": [
    "mypool.map(parseDex, todoFileNames)\n",
    "mypool.close();\n",
    "mypool.join();"
   ]
  },
  {
   "cell_type": "markdown",
   "metadata": {},
   "source": [
    "### MiniZoo"
   ]
  },
  {
   "cell_type": "raw",
   "metadata": {},
   "source": [
    "minizoo_df = pd.read_csv('dataset/minizoo_df.csv')\n",
    "minizoo_df = minizoo_df.sample(5000, random_state=54)\n",
    "fileNames  = minizoo_df.sha256.to_list()\n",
    "\n",
    "import glob\n",
    "from multiprocessing import Pool\n",
    "mypool = Pool(processes=40)\n",
    "\n",
    "outputRoot = '/ws/papers/active/petadroid/code/output/minizoo/'\n",
    "inputRoot  = '/ws/mnt/habouch/datasets/zoo_dataset/'\n",
    "\n",
    "VocabDict = pd.read_csv('dataset/InstructionDict.csv', index_col=0, names=['ID'])\n",
    "VocabDict = VocabDict.ID\n",
    "\n",
    "#fileNames     = [fileName.strip() for fileName in open('dataset/minizoo_df.txt', 'r').readlines()]\n",
    "\n",
    "\n",
    "doneFileNames = [item.split('/')[-1] for item in glob.glob(outputRoot + '*')]\n",
    "todoFileNames = np.array(list(set(fileNames).difference(set(doneFileNames))))\n",
    "print(len(todoFileNames))"
   ]
  },
  {
   "cell_type": "raw",
   "metadata": {},
   "source": [
    "mypool.map(parseDex, todoFileNames)\n",
    "mypool.close();\n",
    "mypool.join();"
   ]
  },
  {
   "cell_type": "markdown",
   "metadata": {},
   "source": [
    "### Drebin"
   ]
  },
  {
   "cell_type": "raw",
   "metadata": {},
   "source": [
    "df = pd.read_msgpack('/ws/mnt/habouch/datasets/android_dataset/meta/drebin_meta.msg')\n",
    "fileNames  = df.sha256.to_list()\n",
    "\n",
    "import glob\n",
    "from multiprocessing import Pool\n",
    "mypool = Pool(processes=40)\n",
    "\n",
    "outputRoot = '/ws/papers/active/petadroid/code/output/drebin/'\n",
    "inputRoot  = '/ws/mnt/habouch/datasets/android_dataset/samples/drebin_dataset/'\n",
    "\n",
    "VocabDict = pd.read_csv('dataset/InstructionDict.csv', index_col=0, names=['ID'])\n",
    "VocabDict = VocabDict.ID\n",
    "\n",
    "doneFileNames = [item.split('/')[-1] for item in glob.glob(outputRoot + '*')]\n",
    "todoFileNames = np.array(list(set(fileNames).difference(set(doneFileNames))))\n",
    "print(len(todoFileNames))"
   ]
  },
  {
   "cell_type": "raw",
   "metadata": {},
   "source": [
    "mypool.map(parseDex, todoFileNames)\n",
    "mypool.close();\n",
    "mypool.join();"
   ]
  },
  {
   "cell_type": "markdown",
   "metadata": {},
   "source": [
    "### MalGenome"
   ]
  },
  {
   "cell_type": "raw",
   "metadata": {},
   "source": [
    "df = pd.read_msgpack('/ws/mnt/habouch/datasets/android_dataset/meta/genome_meta.msg')\n",
    "fileNames = df.sha1.to_list()\n",
    "\n",
    "import glob\n",
    "from multiprocessing import Pool\n",
    "mypool = Pool(processes=40)\n",
    "\n",
    "outputRoot = '/ws/papers/active/petadroid/code/output/genome/'\n",
    "inputRoot  = '/ws/mnt/habouch/datasets/android_dataset/samples/genome_dataset/'\n",
    "\n",
    "VocabDict = pd.read_csv('dataset/InstructionDict.csv', index_col=0, names=['ID'])\n",
    "VocabDict = VocabDict.ID\n",
    "\n",
    "doneFileNames = [item.split('/')[-1] for item in glob.glob(outputRoot + '*')]\n",
    "todoFileNames = np.array(list(set(fileNames).difference(set(doneFileNames))))\n",
    "print(len(todoFileNames))"
   ]
  },
  {
   "cell_type": "raw",
   "metadata": {},
   "source": [
    "mypool.map(parseDex, todoFileNames)\n",
    "mypool.close();\n",
    "mypool.join();"
   ]
  },
  {
   "cell_type": "markdown",
   "metadata": {},
   "source": [
    "### Maldozer"
   ]
  },
  {
   "cell_type": "raw",
   "metadata": {},
   "source": [
    "df = pd.read_msgpack('/ws/mnt/habouch/datasets/android_dataset/meta/maldozer_meta.msg')\n",
    "fileNames = df.md5.to_list()\n",
    "\n",
    "import glob\n",
    "from multiprocessing import Pool\n",
    "mypool = Pool(processes=40)\n",
    "\n",
    "outputRoot = '/ws/papers/active/petadroid/code/output/maldozer/'\n",
    "inputRoot  = '/ws/mnt/habouch/datasets/android_dataset/samples/maldozer_dataset/'\n",
    "\n",
    "VocabDict = pd.read_csv('dataset/InstructionDict.csv', index_col=0, names=['ID'])\n",
    "VocabDict = VocabDict.ID\n",
    "\n",
    "doneFileNames = [item.split('/')[-1] for item in glob.glob(outputRoot + '*')]\n",
    "todoFileNames = np.array(list(set(fileNames).difference(set(doneFileNames))))\n",
    "print(len(todoFileNames))"
   ]
  },
  {
   "cell_type": "raw",
   "metadata": {},
   "source": [
    "mypool.map(parseDex, todoFileNames)\n",
    "mypool.close();\n",
    "mypool.join();"
   ]
  },
  {
   "cell_type": "markdown",
   "metadata": {},
   "source": [
    "### AMD"
   ]
  },
  {
   "cell_type": "raw",
   "metadata": {},
   "source": [
    "df = pd.read_msgpack('/ws/mnt/habouch/datasets/android_dataset/meta/amd_meta.msg')\n",
    "fileNames = df.md5.to_list()"
   ]
  },
  {
   "cell_type": "raw",
   "metadata": {},
   "source": [
    "import glob\n",
    "from multiprocessing import Pool\n",
    "mypool = Pool(processes=40)\n",
    "\n",
    "outputRoot = '/ws/papers/active/petadroid/code/output/amd/'\n",
    "inputRoot  = '/ws/mnt/habouch/datasets/android_dataset/samples/amd_dataset/'\n",
    "\n",
    "VocabDict = pd.read_csv('dataset/InstructionDict.csv', index_col=0, names=['ID'])\n",
    "VocabDict = VocabDict.ID\n",
    "\n",
    "doneFileNames = [item.split('/')[-1] for item in glob.glob(outputRoot + '*')]\n",
    "todoFileNames = np.array(list(set(fileNames).difference(set(doneFileNames))))\n",
    "print(len(todoFileNames))"
   ]
  },
  {
   "cell_type": "raw",
   "metadata": {},
   "source": [
    "mypool.map(parseDex, todoFileNames)\n",
    "mypool.close();\n",
    "mypool.join();"
   ]
  },
  {
   "cell_type": "markdown",
   "metadata": {},
   "source": [
    "### Benign"
   ]
  },
  {
   "cell_type": "code",
   "execution_count": 5,
   "metadata": {},
   "outputs": [],
   "source": [
    "df = pd.read_csv('/ws/mnt/habouch/datasets/zoows/history/latest.csv')\n",
    "df['sha256'] = df.sha256.str.lower()\n",
    "df = df.loc[df.vt_detection == 0]\n",
    "fileNames = df.sha256.sample(50000, random_state=54).to_list()"
   ]
  },
  {
   "cell_type": "code",
   "execution_count": 9,
   "metadata": {},
   "outputs": [
    {
     "name": "stdout",
     "output_type": "stream",
     "text": [
      "1263\n"
     ]
    }
   ],
   "source": [
    "import glob\n",
    "from multiprocessing import Pool\n",
    "mypool = Pool(processes=40)\n",
    "\n",
    "outputRoot = '/ws/papers/active/petadroid/code/output/benign/'\n",
    "inputRoot  = '/ws/mnt/habouch/datasets/zoo_dataset/'\n",
    "\n",
    "VocabDict = pd.read_csv('dataset/InstructionDict.csv', index_col=0, names=['ID'])\n",
    "VocabDict = VocabDict.ID\n",
    "\n",
    "doneFileNames = [item.split('/')[-1] for item in glob.glob(outputRoot + '*')]\n",
    "todoFileNames = np.array(list(set(fileNames).difference(set(doneFileNames))))\n",
    "print(len(todoFileNames))"
   ]
  },
  {
   "cell_type": "code",
   "execution_count": 10,
   "metadata": {},
   "outputs": [],
   "source": [
    "mypool.map(parseDex, todoFileNames)\n",
    "mypool.close();\n",
    "mypool.join();"
   ]
  },
  {
   "cell_type": "markdown",
   "metadata": {},
   "source": [
    "### Obfuscated Malgenome (praguard)"
   ]
  },
  {
   "cell_type": "code",
   "execution_count": 13,
   "metadata": {},
   "outputs": [],
   "source": [
    "df = pd.read_msgpack('/ws/mnt/habouch/datasets/android_dataset/android_meta/praguard_meta_df.msg')\n",
    "fileNames = df.md5.to_list()"
   ]
  },
  {
   "cell_type": "code",
   "execution_count": 14,
   "metadata": {},
   "outputs": [
    {
     "name": "stdout",
     "output_type": "stream",
     "text": [
      "10370\n"
     ]
    }
   ],
   "source": [
    "import glob\n",
    "from multiprocessing import Pool\n",
    "mypool = Pool(processes=40)\n",
    "\n",
    "outputRoot = '/ws/papers/active/petadroid/code/output/praguard/'\n",
    "inputRoot  = '/ws/mnt/habouch/datasets/android_dataset/samples/praguard_dataset/files/'\n",
    "\n",
    "VocabDict = pd.read_csv('dataset/InstructionDict.csv', index_col=0, names=['ID'])\n",
    "VocabDict = VocabDict.ID\n",
    "\n",
    "doneFileNames = [item.split('/')[-1] for item in glob.glob(outputRoot + '*')]\n",
    "todoFileNames = np.array(list(set(fileNames).difference(set(doneFileNames))))\n",
    "print(len(todoFileNames))"
   ]
  },
  {
   "cell_type": "code",
   "execution_count": 15,
   "metadata": {},
   "outputs": [],
   "source": [
    "mypool.map(parseDex, todoFileNames)\n",
    "mypool.close();\n",
    "mypool.join();"
   ]
  },
  {
   "cell_type": "markdown",
   "metadata": {},
   "source": [
    "### Obfuscated Drebin (charmilion)"
   ]
  },
  {
   "cell_type": "code",
   "execution_count": 4,
   "metadata": {},
   "outputs": [
    {
     "data": {
      "text/plain": [
       "['000146786111132694d5f0d8f89e17c6',\n",
       " '000379d1a9201758fdae17ccfad374f5',\n",
       " '0006d3fc1fcd3277451fe676fe13b1c9',\n",
       " '0008ac38b8c073e5bab4a7c8b4120fcd',\n",
       " '000909e08eeee76eb4a00a922333da62']"
      ]
     },
     "execution_count": 4,
     "metadata": {},
     "output_type": "execute_result"
    }
   ],
   "source": [
    "df = pd.read_msgpack('/ws/mnt/habouch/datasets/android_dataset/meta/drebin_obfus_meta.msg')\n",
    "fileNames = df.md5.to_list()\n",
    "fileNames[:5]"
   ]
  },
  {
   "cell_type": "code",
   "execution_count": 6,
   "metadata": {},
   "outputs": [
    {
     "name": "stdout",
     "output_type": "stream",
     "text": [
      "49625\n"
     ]
    }
   ],
   "source": [
    "import glob\n",
    "from multiprocessing import Pool\n",
    "mypool = Pool(processes=40)\n",
    "\n",
    "outputRoot = '/ws/papers/active/petadroid/code/output/charmi/'\n",
    "inputRoot  = '/ws/mnt/habouch/datasets/android_dataset/samples/drebin_obfus_dataset/files/'\n",
    "\n",
    "VocabDict = pd.read_csv('dataset/InstructionDict.csv', index_col=0, names=['ID'])\n",
    "VocabDict = VocabDict.ID\n",
    "\n",
    "doneFileNames = [item.split('/')[-1] for item in glob.glob(outputRoot + '*')]\n",
    "todoFileNames = np.array(list(set(fileNames).difference(set(doneFileNames))))\n",
    "print(len(todoFileNames))"
   ]
  },
  {
   "cell_type": "code",
   "execution_count": 7,
   "metadata": {},
   "outputs": [],
   "source": [
    "mypool.map(parseDex, todoFileNames)\n",
    "mypool.close();\n",
    "mypool.join();"
   ]
  },
  {
   "cell_type": "markdown",
   "metadata": {},
   "source": [
    "### Obfuscated benign (charmilion)"
   ]
  },
  {
   "cell_type": "code",
   "execution_count": 7,
   "metadata": {},
   "outputs": [
    {
     "data": {
      "text/plain": [
       "['0001928ff53c44ca2af68152af336a25',\n",
       " '0002461ffb54834a257c9d4eecd2ebb2',\n",
       " '000315d021e6ba52e1bc1d30ffe592b5',\n",
       " '000497a806c495c4b7b385b155e72ce6',\n",
       " '000520fe345eae9567fdb283161bbe28']"
      ]
     },
     "execution_count": 7,
     "metadata": {},
     "output_type": "execute_result"
    }
   ],
   "source": [
    "df = pd.read_msgpack('/ws/mnt/habouch/datasets/android_dataset/meta/benign_obfus_meta_df.msg')\n",
    "fileNames = df.md5.to_list()\n",
    "fileNames[:5]"
   ]
  },
  {
   "cell_type": "code",
   "execution_count": 8,
   "metadata": {},
   "outputs": [
    {
     "name": "stdout",
     "output_type": "stream",
     "text": [
      "41067\n"
     ]
    }
   ],
   "source": [
    "import glob\n",
    "from multiprocessing import Pool\n",
    "mypool = Pool(processes=40)\n",
    "\n",
    "outputRoot = '/ws/papers/active/petadroid/code/output/benign_obfus/'\n",
    "inputRoot  = '/ws/mnt/habouch/datasets/android_dataset/samples/benign_obfus/files/'\n",
    "\n",
    "VocabDict = pd.read_csv('dataset/InstructionDict.csv', index_col=0, names=['ID'])\n",
    "VocabDict = VocabDict.ID\n",
    "\n",
    "doneFileNames = [item.split('/')[-1] for item in glob.glob(outputRoot + '*')]\n",
    "todoFileNames = np.array(list(set(fileNames).difference(set(doneFileNames))))\n",
    "print(len(todoFileNames))"
   ]
  },
  {
   "cell_type": "code",
   "execution_count": 9,
   "metadata": {},
   "outputs": [],
   "source": [
    "mypool.map(parseDex, todoFileNames)\n",
    "mypool.close();\n",
    "mypool.join();"
   ]
  },
  {
   "cell_type": "markdown",
   "metadata": {},
   "source": [
    "### Not Obfuscated benign"
   ]
  },
  {
   "cell_type": "code",
   "execution_count": 13,
   "metadata": {},
   "outputs": [
    {
     "data": {
      "text/plain": [
       "['cf23b28b6e396b70baafa11fb27d3c9792590b6e9dcb0bbf9d0f70b0a2742ec6',\n",
       " '0866ea2f7b8ea45fe9947ab9c44d45b2424cfca0ba2a9f21686f67cc95ff6df8',\n",
       " '8822d55bb6a75c8745d426653ecd8041e4a5e84b062062f53b9ae542bb8afbc7',\n",
       " '273979aadfda6f72ee3c6d02aed768a18787afdc4dd3a77c2df6e473d3909d66',\n",
       " '98a634d1ff7cc79b675f2406a1dfea96a2617d65d8ee4cc418b86368d274cb38']"
      ]
     },
     "execution_count": 13,
     "metadata": {},
     "output_type": "execute_result"
    }
   ],
   "source": [
    "df = pd.read_msgpack('/ws/mnt/habouch/datasets/android_dataset/meta/benign_notobfus_meta_df.msg')\n",
    "fileNames = df.sha256.str.lower().to_list()\n",
    "fileNames[:5]"
   ]
  },
  {
   "cell_type": "code",
   "execution_count": 14,
   "metadata": {},
   "outputs": [
    {
     "name": "stdout",
     "output_type": "stream",
     "text": [
      "5500\n"
     ]
    }
   ],
   "source": [
    "import glob\n",
    "from multiprocessing import Pool\n",
    "mypool = Pool(processes=40)\n",
    "\n",
    "outputRoot = '/ws/papers/active/petadroid/code/output/benign_notobfus/'\n",
    "inputRoot  = '/ws/mnt/habouch/datasets/zoo_dataset/'\n",
    "\n",
    "VocabDict = pd.read_csv('dataset/InstructionDict.csv', index_col=0, names=['ID'])\n",
    "VocabDict = VocabDict.ID\n",
    "\n",
    "doneFileNames = [item.split('/')[-1] for item in glob.glob(outputRoot + '*')]\n",
    "todoFileNames = np.array(list(set(fileNames).difference(set(doneFileNames))))\n",
    "print(len(todoFileNames))"
   ]
  },
  {
   "cell_type": "code",
   "execution_count": 15,
   "metadata": {},
   "outputs": [],
   "source": [
    "mypool.map(parseDex, todoFileNames)\n",
    "mypool.close();\n",
    "mypool.join();"
   ]
  },
  {
   "cell_type": "markdown",
   "metadata": {},
   "source": [
    "### VirusShare"
   ]
  },
  {
   "cell_type": "code",
   "execution_count": 3,
   "metadata": {},
   "outputs": [
    {
     "data": {
      "text/plain": [
       "['18750d3a30a52e508aa4a03fdada630e',\n",
       " '1874ed85ba7160d4b8002f682d8b3102',\n",
       " '1873ebb0538fc2656ea67aa93815dba6',\n",
       " '1873ea2a9e071290ff5a2d1b90efbc4e',\n",
       " '187347fd95d5675ac183f86f8409789b']"
      ]
     },
     "execution_count": 3,
     "metadata": {},
     "output_type": "execute_result"
    }
   ],
   "source": [
    "df = pd.read_msgpack('/ws/mnt/habouch/datasets/android_dataset/meta/vshare_meta.msg')\n",
    "fileNames = df.md5.to_list()\n",
    "fileNames[:5]"
   ]
  },
  {
   "cell_type": "code",
   "execution_count": 6,
   "metadata": {},
   "outputs": [
    {
     "name": "stdout",
     "output_type": "stream",
     "text": [
      "30340\n"
     ]
    }
   ],
   "source": [
    "import glob\n",
    "from multiprocessing import Pool\n",
    "mypool = Pool(processes=40)\n",
    "\n",
    "outputRoot = '/ws/papers/active/petadroid/code/output/vshare/'\n",
    "inputRoot  = '/ws/mnt/habouch/datasets/android_dataset/samples/vshare_dataset/'\n",
    "\n",
    "VocabDict = pd.read_csv('dataset/InstructionDict.csv', index_col=0, names=['ID'])\n",
    "VocabDict = VocabDict.ID\n",
    "\n",
    "doneFileNames = [item.split('/')[-1] for item in glob.glob(outputRoot + '*')]\n",
    "todoFileNames = np.array(list(set(fileNames).difference(set(doneFileNames))))\n",
    "print(len(todoFileNames))"
   ]
  },
  {
   "cell_type": "code",
   "execution_count": 7,
   "metadata": {},
   "outputs": [],
   "source": [
    "mypool.map(parseDex, todoFileNames)\n",
    "mypool.close();\n",
    "mypool.join();"
   ]
  },
  {
   "cell_type": "markdown",
   "metadata": {},
   "source": [
    "### Zoo Malware"
   ]
  },
  {
   "cell_type": "code",
   "execution_count": 8,
   "metadata": {},
   "outputs": [],
   "source": [
    "df = pd.read_csv('/ws/mnt/habouch/datasets/zoows/history/latest.csv')\n",
    "df['sha256'] = df.sha256.str.lower()\n",
    "df = df.loc[df.vt_detection != 0]\n",
    "fileNames = df.sha256.sample(50000, random_state=54).to_list()"
   ]
  },
  {
   "cell_type": "code",
   "execution_count": 10,
   "metadata": {},
   "outputs": [
    {
     "name": "stdout",
     "output_type": "stream",
     "text": [
      "50000\n"
     ]
    }
   ],
   "source": [
    "import glob\n",
    "from multiprocessing import Pool\n",
    "mypool = Pool(processes=40)\n",
    "\n",
    "outputRoot = '/ws/papers/active/petadroid/code/output/zoomalware/'\n",
    "inputRoot  = '/ws/mnt/habouch/datasets/zoo_dataset/'\n",
    "\n",
    "VocabDict = pd.read_csv('dataset/InstructionDict.csv', index_col=0, names=['ID'])\n",
    "VocabDict = VocabDict.ID\n",
    "\n",
    "doneFileNames = [item.split('/')[-1] for item in glob.glob(outputRoot + '*')]\n",
    "todoFileNames = np.array(list(set(fileNames).difference(set(doneFileNames))))\n",
    "print(len(todoFileNames))"
   ]
  },
  {
   "cell_type": "code",
   "execution_count": 11,
   "metadata": {},
   "outputs": [],
   "source": [
    "mypool.map(parseDex, todoFileNames)\n",
    "mypool.close();\n",
    "mypool.join();"
   ]
  }
 ],
 "metadata": {
  "kernelspec": {
   "display_name": "pysciws",
   "language": "python",
   "name": "sciws"
  },
  "language_info": {
   "codemirror_mode": {
    "name": "ipython",
    "version": 3
   },
   "file_extension": ".py",
   "mimetype": "text/x-python",
   "name": "python",
   "nbconvert_exporter": "python",
   "pygments_lexer": "ipython3",
   "version": "3.7.10"
  }
 },
 "nbformat": 4,
 "nbformat_minor": 4
}
