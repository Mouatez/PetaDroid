{
 "cells": [
  {
   "cell_type": "code",
   "execution_count": null,
   "metadata": {},
   "outputs": [],
   "source": [
    "import pandas as pd\n",
    "from bs4 import BeautifulSoup\n",
    "from urllib.request import urlopen"
   ]
  },
  {
   "cell_type": "markdown",
   "metadata": {},
   "source": [
    "## Android Classes' Collection"
   ]
  },
  {
   "cell_type": "code",
   "execution_count": 45,
   "metadata": {},
   "outputs": [],
   "source": [
    "dfs = []"
   ]
  },
  {
   "cell_type": "code",
   "execution_count": 46,
   "metadata": {},
   "outputs": [
    {
     "name": "stdout",
     "output_type": "stream",
     "text": [
      "4554\n"
     ]
    }
   ],
   "source": [
    "# Platform\n",
    "optionsUrl = 'https://developer.android.com/reference/classes'\n",
    "optionsPage = urlopen(optionsUrl)\n",
    "soup = BeautifulSoup(optionsPage)\n",
    "\n",
    "trs = soup.find_all('tr')\n",
    "trs = [tr for tr in trs if 'data-version-added' in tr.attrs.keys()]\n",
    "\n",
    "def getClassinfo(tr):\n",
    "    android_added_version = tr.attrs['data-version-added']\n",
    "    a = tr.find('a')\n",
    "    className = a.text\n",
    "    classLink = a.attrs['href']\n",
    "    classPath = classLink[11:-5].replace('/', '.')\n",
    "    classLink = 'https://developer.android.com' + classLink\n",
    "    return (className, classLink, classPath, android_added_version)\n",
    "\n",
    "df = pd.DataFrame([getClassinfo(tr) for tr in trs], columns=['className', 'classLink', 'classPath', 'android_added_version'])\n",
    "df['library'] = 'platform'\n",
    "print(len(df))\n",
    "dfs.append(df)"
   ]
  },
  {
   "cell_type": "code",
   "execution_count": 47,
   "metadata": {},
   "outputs": [
    {
     "name": "stdout",
     "output_type": "stream",
     "text": [
      "951\n"
     ]
    }
   ],
   "source": [
    "# Support\n",
    "optionsUrl = 'https://developer.android.com/reference/android/support/classes#letter_X'\n",
    "optionsPage = urlopen(optionsUrl)\n",
    "soup = BeautifulSoup(optionsPage)\n",
    "\n",
    "trs = soup.find_all('tr')\n",
    "trs = [tr for tr in trs if 'data-version-added' in tr.attrs.keys()]\n",
    "\n",
    "def getClassinfo(tr):\n",
    "    android_added_version = tr.attrs['data-version-added']\n",
    "    a = tr.find('a')\n",
    "    className = a.text\n",
    "    classLink = a.attrs['href']\n",
    "    classPath = classLink[11:-5].replace('/', '.')\n",
    "    classLink = 'https://developer.android.com' + classLink\n",
    "    return (className, classLink, classPath, android_added_version)\n",
    "\n",
    "df = pd.DataFrame([getClassinfo(tr) for tr in trs], columns=['className', 'classLink', 'classPath', 'android_added_version'])\n",
    "\n",
    "df['library'] = 'support'\n",
    "print(len(df))\n",
    "dfs.append(df)"
   ]
  },
  {
   "cell_type": "code",
   "execution_count": 48,
   "metadata": {},
   "outputs": [
    {
     "name": "stdout",
     "output_type": "stream",
     "text": [
      "50\n"
     ]
    }
   ],
   "source": [
    "# Arch\n",
    "optionsUrl = 'https://developer.android.com/reference/android/arch/classes#letter_V'\n",
    "optionsPage = urlopen(optionsUrl)\n",
    "soup = BeautifulSoup(optionsPage)\n",
    "\n",
    "trs = soup.find_all('tr')\n",
    "trs = [tr for tr in trs if 'data-version-added' in tr.attrs.keys()]\n",
    "\n",
    "def getClassinfo(tr):\n",
    "    android_added_version = tr.attrs['data-version-added']\n",
    "    a = tr.find('a')\n",
    "    className = a.text\n",
    "    classLink = a.attrs['href']\n",
    "    classPath = classLink[11:-5].replace('/', '.')\n",
    "    classLink = 'https://developer.android.com' + classLink\n",
    "    return (className, classLink, classPath, android_added_version)\n",
    "\n",
    "df = pd.DataFrame([getClassinfo(tr) for tr in trs], columns=['className', 'classLink', 'classPath', 'android_added_version'])\n",
    "\n",
    "df['library'] = 'arch'\n",
    "print(len(df))\n",
    "dfs.append(df)"
   ]
  },
  {
   "cell_type": "code",
   "execution_count": 49,
   "metadata": {},
   "outputs": [
    {
     "name": "stdout",
     "output_type": "stream",
     "text": [
      "33\n"
     ]
    }
   ],
   "source": [
    "# Car\n",
    "optionsUrl = 'https://developer.android.com/reference/android/car/classes.html#letter_V'\n",
    "optionsPage = urlopen(optionsUrl)\n",
    "soup = BeautifulSoup(optionsPage)\n",
    "\n",
    "trs = soup.find_all('tr')\n",
    "#trs = [tr for tr in trs if 'data-version-added' in tr.attrs.keys()]\n",
    "\n",
    "def getClassinfo(tr):\n",
    "    android_added_version = ''\n",
    "    a = tr.find('a')\n",
    "    className = a.text\n",
    "    classLink = a.attrs['href']\n",
    "    classPath = classLink[11:-5].replace('/', '.')\n",
    "    classLink = classLink\n",
    "    return (className, classLink, classPath, android_added_version)\n",
    "\n",
    "df = pd.DataFrame([getClassinfo(tr) for tr in trs], columns=['className', 'classLink', 'classPath', 'android_added_version'])\n",
    "\n",
    "df['library'] = 'car'\n",
    "print(len(df))\n",
    "dfs.append(df)"
   ]
  },
  {
   "cell_type": "code",
   "execution_count": 50,
   "metadata": {},
   "outputs": [
    {
     "name": "stdout",
     "output_type": "stream",
     "text": [
      "42\n"
     ]
    }
   ],
   "source": [
    "# Databinding\n",
    "optionsUrl = 'https://developer.android.com/reference/android/databinding/classes#letter_V'\n",
    "optionsPage = urlopen(optionsUrl)\n",
    "soup = BeautifulSoup(optionsPage)\n",
    "\n",
    "trs = soup.find_all('tr')\n",
    "#trs = [tr for tr in trs if 'data-version-added' in tr.attrs.keys()]\n",
    "\n",
    "def getClassinfo(tr):\n",
    "    android_added_version = ''\n",
    "    a = tr.find('a')\n",
    "    className = a.text\n",
    "    classLink = a.attrs['href']\n",
    "    classPath = classLink[11:-5].replace('/', '.')\n",
    "    classLink = 'https://developer.android.com' + classLink\n",
    "    return (className, classLink, classPath, android_added_version)\n",
    "\n",
    "df = pd.DataFrame([getClassinfo(tr) for tr in trs], columns=['className', 'classLink', 'classPath', 'android_added_version'])\n",
    "\n",
    "df['library'] = 'databinding'\n",
    "print(len(df))\n",
    "dfs.append(df)"
   ]
  },
  {
   "cell_type": "code",
   "execution_count": 51,
   "metadata": {},
   "outputs": [
    {
     "name": "stdout",
     "output_type": "stream",
     "text": [
      "18\n"
     ]
    }
   ],
   "source": [
    "# Constraint\n",
    "optionsUrl = 'https://developer.android.com/reference/android/support/constraint/classes#letter_T'\n",
    "optionsPage = urlopen(optionsUrl)\n",
    "soup = BeautifulSoup(optionsPage)\n",
    "\n",
    "trs = soup.find_all('tr')\n",
    "#trs = [tr for tr in trs if 'data-version-added' in tr.attrs.keys()]\n",
    "\n",
    "def getClassinfo(tr):\n",
    "    android_added_version = '' #tr.attrs['data-version-added']\n",
    "    a = tr.find('a')\n",
    "    className = a.text\n",
    "    classLink = a.attrs['href']\n",
    "    classPath = classLink[11:-5].replace('/', '.')\n",
    "    classLink = 'https://developer.android.com' + classLink\n",
    "    return (className, classLink, classPath, android_added_version)\n",
    "\n",
    "df = pd.DataFrame([getClassinfo(tr) for tr in trs], columns=['className', 'classLink', 'classPath', 'android_added_version'])\n",
    "\n",
    "df['library'] = 'constraint'\n",
    "print(len(df))\n",
    "dfs.append(df)"
   ]
  },
  {
   "cell_type": "code",
   "execution_count": 52,
   "metadata": {},
   "outputs": [
    {
     "name": "stdout",
     "output_type": "stream",
     "text": [
      "157\n"
     ]
    }
   ],
   "source": [
    "# Material\n",
    "optionsUrl = 'https://developer.android.com/reference/com/google/android/material/classes.html#letter_T'\n",
    "optionsPage = urlopen(optionsUrl)\n",
    "soup = BeautifulSoup(optionsPage)\n",
    "\n",
    "trs = soup.find_all('tr')\n",
    "#trs = [tr for tr in trs if 'data-version-added' in tr.attrs.keys()]\n",
    "\n",
    "def getClassinfo(tr):\n",
    "    android_added_version = '' #tr.attrs['data-version-added']\n",
    "    a = tr.find('a')\n",
    "    className = a.text\n",
    "    classLink = a.attrs['href']\n",
    "    classPath = classLink[11:-5].replace('/', '.')\n",
    "    classLink = 'https://developer.android.com' + classLink\n",
    "    return (className, classLink, classPath, android_added_version)\n",
    "\n",
    "df = pd.DataFrame([getClassinfo(tr) for tr in trs], columns=['className', 'classLink', 'classPath', 'android_added_version'])\n",
    "\n",
    "df['library'] = 'material'\n",
    "print(len(df))\n",
    "dfs.append(df)"
   ]
  },
  {
   "cell_type": "code",
   "execution_count": 53,
   "metadata": {},
   "outputs": [
    {
     "name": "stdout",
     "output_type": "stream",
     "text": [
      "132\n"
     ]
    }
   ],
   "source": [
    "# Wearable\n",
    "optionsUrl = 'https://developer.android.com/reference/android/support/wearable/classes.html#letter_W'\n",
    "optionsPage = urlopen(optionsUrl)\n",
    "soup = BeautifulSoup(optionsPage)\n",
    "\n",
    "trs = soup.find_all('tr')\n",
    "#trs = [tr for tr in trs if 'data-version-added' in tr.attrs.keys()]\n",
    "\n",
    "def getClassinfo(tr):\n",
    "    android_added_version = '' #tr.attrs['data-version-added']\n",
    "    a = tr.find('a')\n",
    "    className = a.text\n",
    "    classLink = a.attrs['href']\n",
    "    classPath = classLink[11:-5].replace('/', '.')\n",
    "    classLink = classLink\n",
    "    return (className, classLink, classPath, android_added_version)\n",
    "\n",
    "df = pd.DataFrame([getClassinfo(tr) for tr in trs], columns=['className', 'classLink', 'classPath', 'android_added_version'])\n",
    "\n",
    "df['library'] = 'wearable'\n",
    "print(len(df))\n",
    "dfs.append(df)"
   ]
  },
  {
   "cell_type": "code",
   "execution_count": 54,
   "metadata": {},
   "outputs": [
    {
     "name": "stdout",
     "output_type": "stream",
     "text": [
      "38\n"
     ]
    }
   ],
   "source": [
    "# Billingclient\n",
    "optionsUrl = 'https://developer.android.com/reference/com/android/billingclient/classes#letter_S'\n",
    "optionsPage = urlopen(optionsUrl)\n",
    "soup = BeautifulSoup(optionsPage)\n",
    "\n",
    "trs = soup.find_all('tr')\n",
    "#trs = [tr for tr in trs if 'data-version-added' in tr.attrs.keys()]\n",
    "\n",
    "def getClassinfo(tr):\n",
    "    android_added_version = '' #tr.attrs['data-version-added']\n",
    "    a = tr.find('a')\n",
    "    className = a.text\n",
    "    classLink = a.attrs['href']\n",
    "    classPath = classLink[11:-5].replace('/', '.')\n",
    "    classLink = 'https://developer.android.com' + classLink\n",
    "    return (className, classLink, classPath, android_added_version)\n",
    "\n",
    "df = pd.DataFrame([getClassinfo(tr) for tr in trs], columns=['className', 'classLink', 'classPath', 'android_added_version'])\n",
    "\n",
    "df['library'] = 'billingclient'\n",
    "print(len(df))\n",
    "dfs.append(df)"
   ]
  },
  {
   "cell_type": "code",
   "execution_count": 55,
   "metadata": {},
   "outputs": [
    {
     "name": "stdout",
     "output_type": "stream",
     "text": [
      "35\n"
     ]
    }
   ],
   "source": [
    "# play core\n",
    "optionsUrl = 'https://developer.android.com/reference/com/google/android/play/core/classes#letter_U'\n",
    "optionsPage = urlopen(optionsUrl)\n",
    "soup = BeautifulSoup(optionsPage)\n",
    "\n",
    "trs = soup.find_all('tr')\n",
    "#trs = [tr for tr in trs if 'data-version-added' in tr.attrs.keys()]\n",
    "\n",
    "def getClassinfo(tr):\n",
    "    android_added_version = '' #tr.attrs['data-version-added']\n",
    "    a = tr.find('a')\n",
    "    className = a.text\n",
    "    classLink = a.attrs['href']\n",
    "    classPath = classLink[11:-5].replace('/', '.')\n",
    "    classLink = classLink\n",
    "    return (className, classLink, classPath, android_added_version)\n",
    "\n",
    "df = pd.DataFrame([getClassinfo(tr) for tr in trs], columns=['className', 'classLink', 'classPath', 'android_added_version'])\n",
    "\n",
    "df['library'] = 'playcore'\n",
    "print(len(df))\n",
    "dfs.append(df)"
   ]
  },
  {
   "cell_type": "code",
   "execution_count": 56,
   "metadata": {},
   "outputs": [
    {
     "name": "stdout",
     "output_type": "stream",
     "text": [
      "6\n"
     ]
    }
   ],
   "source": [
    "# play installreferrer\n",
    "optionsUrl = 'https://developer.android.com/reference/com/android/installreferrer/classes.html#letter_R'\n",
    "optionsPage = urlopen(optionsUrl)\n",
    "soup = BeautifulSoup(optionsPage)\n",
    "\n",
    "trs = soup.find_all('tr')\n",
    "#trs = [tr for tr in trs if 'data-version-added' in tr.attrs.keys()]\n",
    "\n",
    "def getClassinfo(tr):\n",
    "    android_added_version = '' #tr.attrs['data-version-added']\n",
    "    a = tr.find('a')\n",
    "    className = a.text\n",
    "    classLink = a.attrs['href']\n",
    "    classPath = classLink[11:-5].replace('/', '.')\n",
    "    classLink = 'https://developer.android.com' + classLink\n",
    "    return (className, classLink, classPath, android_added_version)\n",
    "\n",
    "df = pd.DataFrame([getClassinfo(tr) for tr in trs], columns=['className', 'classLink', 'classPath', 'android_added_version'])\n",
    "\n",
    "df['library'] = 'playinstallreferrer'\n",
    "print(len(df))\n",
    "dfs.append(df)"
   ]
  },
  {
   "cell_type": "code",
   "execution_count": 57,
   "metadata": {},
   "outputs": [
    {
     "name": "stdout",
     "output_type": "stream",
     "text": [
      "73\n"
     ]
    }
   ],
   "source": [
    "# things\n",
    "optionsUrl = 'https://developer.android.com/reference/com/google/android/things/classes.html#letter_W'\n",
    "optionsPage = urlopen(optionsUrl)\n",
    "soup = BeautifulSoup(optionsPage)\n",
    "\n",
    "trs = soup.find_all('tr')\n",
    "#trs = [tr for tr in trs if 'data-version-added' in tr.attrs.keys()]\n",
    "\n",
    "def getClassinfo(tr):\n",
    "    android_added_version = '' #tr.attrs['data-version-added']\n",
    "    a = tr.find('a')\n",
    "    className = a.text\n",
    "    classLink = a.attrs['href']\n",
    "    classPath = classLink[11:-5].replace('/', '.')\n",
    "    classLink = 'https://developer.android.com' + classLink\n",
    "    return (className, classLink, classPath, android_added_version)\n",
    "\n",
    "df = pd.DataFrame([getClassinfo(tr) for tr in trs], columns=['className', 'classLink', 'classPath', 'android_added_version'])\n",
    "\n",
    "df['library'] = 'things'\n",
    "print(len(df))\n",
    "dfs.append(df)"
   ]
  },
  {
   "cell_type": "code",
   "execution_count": 58,
   "metadata": {},
   "outputs": [],
   "source": [
    "androidClasses_df = pd.concat(dfs)"
   ]
  },
  {
   "cell_type": "code",
   "execution_count": 59,
   "metadata": {},
   "outputs": [
    {
     "data": {
      "text/plain": [
       "platform               4554\n",
       "support                 951\n",
       "material                157\n",
       "wearable                132\n",
       "things                   73\n",
       "arch                     50\n",
       "databinding              42\n",
       "billingclient            38\n",
       "playcore                 35\n",
       "car                      33\n",
       "constraint               18\n",
       "playinstallreferrer       6\n",
       "Name: library, dtype: int64"
      ]
     },
     "execution_count": 59,
     "metadata": {},
     "output_type": "execute_result"
    }
   ],
   "source": [
    "androidClasses_df.library.value_counts()"
   ]
  },
  {
   "cell_type": "code",
   "execution_count": 60,
   "metadata": {},
   "outputs": [
    {
     "data": {
      "text/plain": [
       "6089"
      ]
     },
     "execution_count": 60,
     "metadata": {},
     "output_type": "execute_result"
    }
   ],
   "source": [
    "len(androidClasses_df)"
   ]
  },
  {
   "cell_type": "code",
   "execution_count": 61,
   "metadata": {},
   "outputs": [],
   "source": [
    "androidClasses_df.to_csv('dataset/androidClasses.csv')"
   ]
  },
  {
   "cell_type": "markdown",
   "metadata": {},
   "source": [
    "## Android Methods' Collection"
   ]
  },
  {
   "cell_type": "code",
   "execution_count": 8,
   "metadata": {},
   "outputs": [],
   "source": [
    "import pandas as pd\n",
    "from bs4 import BeautifulSoup\n",
    "from urllib.request import urlopen"
   ]
  },
  {
   "cell_type": "code",
   "execution_count": 9,
   "metadata": {},
   "outputs": [],
   "source": [
    "def GetMethodInfo(classInfo):\n",
    "    class_dfs = pd.read_html(classInfo.classLink)\n",
    "    class_dfs = [df for df in class_dfs if df.columns[0] == 'Public methods']\n",
    "\n",
    "    if len(class_dfs) > 0:\n",
    "        df = class_dfs[0]\n",
    "        publicMethods = list(df['Public methods.1'].apply(lambda x: x.split('(')[0]))\n",
    "        methodInfoList =  [(method, \n",
    "                      classInfo.className,\n",
    "                      classInfo.classPath,\n",
    "                      classInfo.className + '->' + method,\n",
    "                      classInfo.classPath + '->' + method,\n",
    "                      classInfo.android_added_version,\n",
    "                      classInfo.library) \n",
    "                     for method in publicMethods]\n",
    "        return pd.DataFrame(methodInfoList, columns=['methodName', 'className', 'classPath', 'methodPath', 'methodCompletePath', 'android_added_version', 'library'])\n",
    "    else:\n",
    "        return pd.DataFrame(columns=['methodName', 'className', 'classPath', 'methodPath', 'methodCompletePath', 'android_added_version', 'library'])"
   ]
  },
  {
   "cell_type": "code",
   "execution_count": 10,
   "metadata": {},
   "outputs": [
    {
     "data": {
      "text/plain": [
       "6089"
      ]
     },
     "execution_count": 10,
     "metadata": {},
     "output_type": "execute_result"
    }
   ],
   "source": [
    "androidClasses_df = pd.read_csv('dataset/androidClasses.csv', index_col=0)\n",
    "len(androidClasses_df)"
   ]
  },
  {
   "cell_type": "code",
   "execution_count": 62,
   "metadata": {},
   "outputs": [
    {
     "data": {
      "text/plain": [
       "material               157\n",
       "wearable               132\n",
       "things                  73\n",
       "databinding             42\n",
       "billingclient           38\n",
       "playcore                35\n",
       "car                     33\n",
       "constraint              18\n",
       "playinstallreferrer      6\n",
       "Name: library, dtype: int64"
      ]
     },
     "execution_count": 62,
     "metadata": {},
     "output_type": "execute_result"
    }
   ],
   "source": [
    "rest_df.library.value_counts()"
   ]
  },
  {
   "cell_type": "code",
   "execution_count": null,
   "metadata": {},
   "outputs": [],
   "source": [
    "method_dfs = []\n",
    "for idx in range(len(androidClasses_df)):\n",
    "    classInfo = androidClasses_df.iloc[idx]\n",
    "    print(classInfo.classLink)\n",
    "    method_dfs.append(GetMethodInfo(classInfo))\n",
    "    \n",
    "    if idx % 99 == 1:\n",
    "        print(idx)\n",
    "    #breakz"
   ]
  },
  {
   "cell_type": "code",
   "execution_count": 65,
   "metadata": {},
   "outputs": [
    {
     "data": {
      "text/plain": [
       "534"
      ]
     },
     "execution_count": 65,
     "metadata": {},
     "output_type": "execute_result"
    }
   ],
   "source": [
    "len(method_dfs)"
   ]
  },
  {
   "cell_type": "code",
   "execution_count": 66,
   "metadata": {},
   "outputs": [],
   "source": [
    "method_dfs = [df for df in method_dfs if len(df) != 0]"
   ]
  },
  {
   "cell_type": "code",
   "execution_count": 67,
   "metadata": {},
   "outputs": [
    {
     "data": {
      "text/plain": [
       "403"
      ]
     },
     "execution_count": 67,
     "metadata": {},
     "output_type": "execute_result"
    }
   ],
   "source": [
    "len(method_dfs)"
   ]
  },
  {
   "cell_type": "code",
   "execution_count": 68,
   "metadata": {},
   "outputs": [],
   "source": [
    "androidMethods_df = pd.concat(method_dfs)"
   ]
  },
  {
   "cell_type": "code",
   "execution_count": 69,
   "metadata": {},
   "outputs": [
    {
     "data": {
      "text/plain": [
       "3382"
      ]
     },
     "execution_count": 69,
     "metadata": {},
     "output_type": "execute_result"
    }
   ],
   "source": [
    "len(androidMethods_df)"
   ]
  },
  {
   "cell_type": "code",
   "execution_count": 70,
   "metadata": {},
   "outputs": [],
   "source": [
    "androidMethods_df.to_csv('dataset/androidMethods.csv')"
   ]
  },
  {
   "cell_type": "markdown",
   "metadata": {},
   "source": [
    "## Android Packages' Collection"
   ]
  },
  {
   "cell_type": "code",
   "execution_count": 124,
   "metadata": {},
   "outputs": [],
   "source": [
    "dfs = []"
   ]
  },
  {
   "cell_type": "code",
   "execution_count": 125,
   "metadata": {},
   "outputs": [
    {
     "name": "stdout",
     "output_type": "stream",
     "text": [
      "211\n"
     ]
    }
   ],
   "source": [
    "# Platform\n",
    "optionsUrl = 'https://developer.android.com/reference/packages'\n",
    "df = pd.read_html(optionsUrl)[0]\n",
    "print(len(df))\n",
    "dfs.append(df)"
   ]
  },
  {
   "cell_type": "code",
   "execution_count": 126,
   "metadata": {},
   "outputs": [
    {
     "name": "stdout",
     "output_type": "stream",
     "text": [
      "109\n"
     ]
    }
   ],
   "source": [
    "# Support\n",
    "optionsUrl = 'https://developer.android.com/reference/android/support/packages'\n",
    "df = pd.read_html(optionsUrl)[0]\n",
    "print(len(df))\n",
    "dfs.append(df)"
   ]
  },
  {
   "cell_type": "code",
   "execution_count": 127,
   "metadata": {},
   "outputs": [
    {
     "name": "stdout",
     "output_type": "stream",
     "text": [
      "9\n"
     ]
    }
   ],
   "source": [
    "# Arch\n",
    "optionsUrl = 'https://developer.android.com/reference/android/arch/packages'\n",
    "df = pd.read_html(optionsUrl)[0]\n",
    "print(len(df))\n",
    "dfs.append(df)"
   ]
  },
  {
   "cell_type": "code",
   "execution_count": 128,
   "metadata": {},
   "outputs": [
    {
     "name": "stdout",
     "output_type": "stream",
     "text": [
      "8\n"
     ]
    }
   ],
   "source": [
    "# Car\n",
    "optionsUrl = 'https://developer.android.com/reference/android/car/packages'\n",
    "df = pd.read_html(optionsUrl)[0]\n",
    "print(len(df))\n",
    "dfs.append(df)"
   ]
  },
  {
   "cell_type": "code",
   "execution_count": 129,
   "metadata": {},
   "outputs": [
    {
     "name": "stdout",
     "output_type": "stream",
     "text": [
      "2\n"
     ]
    }
   ],
   "source": [
    "# Databinding\n",
    "optionsUrl = 'https://developer.android.com/reference/android/databinding/packages'\n",
    "df = pd.read_html(optionsUrl)[0]\n",
    "print(len(df))\n",
    "dfs.append(df)"
   ]
  },
  {
   "cell_type": "code",
   "execution_count": 130,
   "metadata": {},
   "outputs": [
    {
     "name": "stdout",
     "output_type": "stream",
     "text": [
      "4\n"
     ]
    }
   ],
   "source": [
    "# Constraint\n",
    "optionsUrl = 'https://developer.android.com/reference/android/support/constraint/packages'\n",
    "df = pd.read_html(optionsUrl)[0]\n",
    "print(len(df))\n",
    "dfs.append(df)"
   ]
  },
  {
   "cell_type": "code",
   "execution_count": 131,
   "metadata": {},
   "outputs": [
    {
     "name": "stdout",
     "output_type": "stream",
     "text": [
      "33\n"
     ]
    }
   ],
   "source": [
    "# Material\n",
    "optionsUrl = 'https://developer.android.com/reference/com/google/android/material/packages'\n",
    "df = pd.read_html(optionsUrl)[0]\n",
    "print(len(df))\n",
    "dfs.append(df)"
   ]
  },
  {
   "cell_type": "code",
   "execution_count": 132,
   "metadata": {},
   "outputs": [
    {
     "name": "stdout",
     "output_type": "stream",
     "text": [
      "17\n"
     ]
    }
   ],
   "source": [
    "# Wearable\n",
    "optionsUrl = 'https://developer.android.com/reference/android/support/wearable/packages'\n",
    "df = pd.read_html(optionsUrl)[0]\n",
    "print(len(df))\n",
    "dfs.append(df)"
   ]
  },
  {
   "cell_type": "code",
   "execution_count": 133,
   "metadata": {},
   "outputs": [
    {
     "name": "stdout",
     "output_type": "stream",
     "text": [
      "2\n"
     ]
    }
   ],
   "source": [
    "# Billingclient\n",
    "optionsUrl = 'https://developer.android.com/reference/com/android/billingclient/packages'\n",
    "df = pd.read_html(optionsUrl)[0]\n",
    "print(len(df))\n",
    "dfs.append(df)"
   ]
  },
  {
   "cell_type": "code",
   "execution_count": 134,
   "metadata": {},
   "outputs": [
    {
     "name": "stdout",
     "output_type": "stream",
     "text": [
      "10\n"
     ]
    }
   ],
   "source": [
    "# play core\n",
    "optionsUrl = 'https://developer.android.com/reference/com/google/android/play/core/packages'\n",
    "df = pd.read_html(optionsUrl)[0]\n",
    "print(len(df))\n",
    "dfs.append(df)"
   ]
  },
  {
   "cell_type": "code",
   "execution_count": 135,
   "metadata": {},
   "outputs": [
    {
     "name": "stdout",
     "output_type": "stream",
     "text": [
      "2\n"
     ]
    }
   ],
   "source": [
    "# play installreferrer\n",
    "optionsUrl = 'https://developer.android.com/reference/com/android/installreferrer/packages'\n",
    "df = pd.read_html(optionsUrl)[0]\n",
    "print(len(df))\n",
    "dfs.append(df)"
   ]
  },
  {
   "cell_type": "code",
   "execution_count": 136,
   "metadata": {},
   "outputs": [
    {
     "name": "stdout",
     "output_type": "stream",
     "text": [
      "12\n"
     ]
    }
   ],
   "source": [
    "# things\n",
    "optionsUrl = 'https://developer.android.com/reference/com/google/android/things/packages'\n",
    "df = pd.read_html(optionsUrl)[0]\n",
    "print(len(df))\n",
    "dfs.append(df)"
   ]
  },
  {
   "cell_type": "code",
   "execution_count": 137,
   "metadata": {},
   "outputs": [],
   "source": [
    "androidPackages_df = pd.concat(dfs)"
   ]
  },
  {
   "cell_type": "code",
   "execution_count": 138,
   "metadata": {},
   "outputs": [],
   "source": [
    "androidPackages_df.to_csv('dataset/androidPackages.csv')"
   ]
  },
  {
   "cell_type": "markdown",
   "metadata": {},
   "source": [
    "## Google Classes' Collection"
   ]
  },
  {
   "cell_type": "code",
   "execution_count": 2,
   "metadata": {},
   "outputs": [],
   "source": [
    "import pandas as pd\n",
    "from bs4 import BeautifulSoup\n",
    "from urllib.request import urlopen"
   ]
  },
  {
   "cell_type": "code",
   "execution_count": null,
   "metadata": {},
   "outputs": [],
   "source": [
    "googleMethods_df.packageName.unique()"
   ]
  },
  {
   "cell_type": "code",
   "execution_count": 60,
   "metadata": {},
   "outputs": [
    {
     "name": "stdout",
     "output_type": "stream",
     "text": [
      "143\n"
     ]
    }
   ],
   "source": [
    "dfs = []\n",
    "\n",
    "# Google Packages\n",
    "soup = BeautifulSoup(urlopen('https://developers.google.com/android/reference/packages'))\n",
    "\n",
    "packageLinks = soup.find('article', {'class': 'devsite-article-inner'})\n",
    "packageLinks = packageLinks.find_all('a')\n",
    "packageLinks = [(a.text.strip(), a.attrs['href'].strip()) for a in packageLinks if a.attrs['href'].endswith('/package-summary.html')]\n",
    "\n",
    "print(len(packageLinks))"
   ]
  },
  {
   "cell_type": "raw",
   "metadata": {},
   "source": [
    "donePackages_df = googleMethods_df.packageName.unique()\n",
    "packageLinks = [pkg for pkg in packageLinks if pkg[0] not in donePackages_df]"
   ]
  },
  {
   "cell_type": "code",
   "execution_count": 61,
   "metadata": {},
   "outputs": [],
   "source": [
    "dfs = []\n",
    "#pkgLink = packageLinks[0]\n",
    "counter = 0\n",
    "for pkgLink in packageLinks:\n",
    "    pkgsoup = BeautifulSoup(urlopen(pkgLink[1]))\n",
    "    classLinks = pkgsoup.find_all('td', {'class': 'jd-linkcol'})\n",
    "    classLinks = [(td.find('a').text.strip(), td.find('a').attrs['href'].strip(), pkgLink[0], pkgLink[1]) for td in classLinks if td.find('a').attrs['href'].startswith('https://developers.google.com/android/reference/')]\n",
    "    classLinks_df = pd.DataFrame(classLinks, columns=['className', 'classLink', 'packageName', 'packageLink'])\n",
    "    dfs.append(classLinks_df)"
   ]
  },
  {
   "cell_type": "code",
   "execution_count": 63,
   "metadata": {},
   "outputs": [],
   "source": [
    "googleClasses_df = pd.concat(dfs)"
   ]
  },
  {
   "cell_type": "code",
   "execution_count": 65,
   "metadata": {},
   "outputs": [],
   "source": [
    "googleClasses_df.to_csv('dataset/googleClasses.csv')"
   ]
  },
  {
   "cell_type": "code",
   "execution_count": 33,
   "metadata": {},
   "outputs": [
    {
     "name": "stdout",
     "output_type": "stream",
     "text": [
      "1   0\n",
      "2   0\n",
      "3   0\n",
      "4   0\n"
     ]
    }
   ],
   "source": [
    "#pkgLink = packageLinks[0]\n",
    "counter = 0\n",
    "for pkgLink in packageLinks:\n",
    "    pkgsoup = BeautifulSoup(urlopen(pkgLink[1]))\n",
    "    classLinks = pkgsoup.find_all('td', {'class': 'jd-linkcol'})\n",
    "    classLinks = [(td.find('a').text.strip(), td.find('a').attrs['href'].strip(), pkgLink[0], pkgLink[1]) for td in classLinks if td.find('a').attrs['href'].startswith('https://developers.google.com/android/reference/')]\n",
    "\n",
    "    #clsLink = classLinks[20]\n",
    "    for clsLink in classLinks:\n",
    "        try:\n",
    "            df = pd.read_html(clsLink[1], attrs = {'id': 'pubmethods'})\n",
    "\n",
    "            if len(df) > 0:\n",
    "                methodInfo = [(method, clsLink[0], clsLink[1], clsLink[2], clsLink[3]) for method in list(df[0][1].apply(lambda x: x.split('(')[0]))]\n",
    "                methodInfo_df = pd.DataFrame(methodInfo, columns=['methodName', 'className', 'classLink', 'packageName', 'packageLink'])\n",
    "                dfs.append(methodInfo_df)\n",
    "        except:\n",
    "            #print(clsLink[1])\n",
    "            pass\n",
    "    counter += 1\n",
    "    print(counter, ' ', len(dfs))"
   ]
  },
  {
   "cell_type": "code",
   "execution_count": 35,
   "metadata": {},
   "outputs": [],
   "source": [
    "googleMethods_df.to_csv('dataset/googleMethods.csv')"
   ]
  },
  {
   "cell_type": "markdown",
   "metadata": {},
   "source": [
    "## Finalize Vocabulary List"
   ]
  },
  {
   "cell_type": "code",
   "execution_count": 174,
   "metadata": {},
   "outputs": [],
   "source": [
    "androidClasses_df = pd.read_csv('dataset/androidClasses.csv', index_col=0)"
   ]
  },
  {
   "cell_type": "code",
   "execution_count": 175,
   "metadata": {},
   "outputs": [],
   "source": [
    "androidMethods_df = pd.read_csv('dataset/androidMethods.csv', index_col=0)"
   ]
  },
  {
   "cell_type": "code",
   "execution_count": 176,
   "metadata": {},
   "outputs": [],
   "source": [
    "androidClasses_df['package'] = androidClasses_df[['className', 'classPath']].apply(lambda x:  x[1].replace('.' + x[0], ''),  axis=1)"
   ]
  },
  {
   "cell_type": "code",
   "execution_count": 179,
   "metadata": {},
   "outputs": [],
   "source": [
    "androidMethods_df['package'] = androidMethods_df[['className', 'classPath']].apply(lambda x:  x[1].replace('.' + x[0], ''),  axis=1)"
   ]
  },
  {
   "cell_type": "code",
   "execution_count": 182,
   "metadata": {},
   "outputs": [],
   "source": [
    "androidClasses_df.to_csv('dataset/androidClasses.csv')"
   ]
  },
  {
   "cell_type": "code",
   "execution_count": 183,
   "metadata": {},
   "outputs": [],
   "source": [
    "androidMethods_df.to_csv('dataset/androidMethods.csv')"
   ]
  },
  {
   "cell_type": "markdown",
   "metadata": {},
   "source": [
    "- use only classes for more intersection\n",
    "- replace **init** function with only the class name\n",
    "- "
   ]
  },
  {
   "cell_type": "markdown",
   "metadata": {},
   "source": [
    "### Build Crawl Instruction Dictionary"
   ]
  },
  {
   "cell_type": "code",
   "execution_count": 114,
   "metadata": {},
   "outputs": [],
   "source": [
    "androidMethods_df = pd.read_csv('dataset/androidMethods.csv', index_col=0)\n",
    "androidMethods_df['MethodID'] = androidMethods_df.methodCompletePath.apply(lambda x: 'L'+ x.replace('.', '/'))\n",
    "androidMethods_df.drop_duplicates(subset='MethodID', inplace=True)"
   ]
  },
  {
   "cell_type": "code",
   "execution_count": 115,
   "metadata": {},
   "outputs": [],
   "source": [
    "androidClasses_df = pd.read_csv('dataset/androidClasses.csv', index_col=0)\n",
    "androidClasses_df['ClassID'] = androidClasses_df.classPath.apply(lambda x: 'L'+ x.replace('.', '/'))"
   ]
  },
  {
   "cell_type": "code",
   "execution_count": 116,
   "metadata": {},
   "outputs": [],
   "source": [
    "googleClasses_df = pd.read_csv('dataset/googleClasses.csv', index_col=0)\n",
    "googleClasses_df['ClassID'] = googleClasses_df.packageName.apply(lambda x: 'L'+ x.replace('.', '/')) + '/' + googleClasses_df.className"
   ]
  },
  {
   "cell_type": "code",
   "execution_count": 117,
   "metadata": {},
   "outputs": [],
   "source": [
    "googleMethods_df = pd.read_csv('dataset/googleMethods.csv', index_col=0)\n",
    "googleMethods_df['MethodID'] = googleMethods_df.packageName.apply(lambda x: 'L'+ x.replace('.', '/')) + '/' + googleMethods_df.className + '->' + googleMethods_df.methodName\n",
    "googleMethods_df.drop_duplicates(subset='MethodID', inplace=True)"
   ]
  },
  {
   "cell_type": "code",
   "execution_count": 156,
   "metadata": {},
   "outputs": [
    {
     "data": {
      "text/plain": [
       "True"
      ]
     },
     "execution_count": 156,
     "metadata": {},
     "output_type": "execute_result"
    }
   ],
   "source": [
    "methodDict_df = pd.concat([androidMethods_df.MethodID, googleMethods_df.MethodID])\n",
    "methodDict_df.drop_duplicates(inplace=True)\n",
    "methodDict_df.reset_index(inplace=True, drop=True)\n",
    "methodDict_df.is_unique"
   ]
  },
  {
   "cell_type": "code",
   "execution_count": 157,
   "metadata": {},
   "outputs": [
    {
     "name": "stderr",
     "output_type": "stream",
     "text": [
      "/opt/conda/envs/py36/lib/python3.6/site-packages/ipykernel_launcher.py:1: FutureWarning: The signature of `Series.to_csv` was aligned to that of `DataFrame.to_csv`, and argument 'header' will change its default value from False to True: please pass an explicit value to suppress this warning.\n",
      "  \"\"\"Entry point for launching an IPython kernel.\n"
     ]
    }
   ],
   "source": [
    "methodDict_df.to_csv('dataset/MethodDict.csv')"
   ]
  },
  {
   "cell_type": "code",
   "execution_count": 158,
   "metadata": {},
   "outputs": [
    {
     "data": {
      "text/plain": [
       "True"
      ]
     },
     "execution_count": 158,
     "metadata": {},
     "output_type": "execute_result"
    }
   ],
   "source": [
    "classDict_df = pd.concat([androidClasses_df.ClassID, googleClasses_df.ClassID])\n",
    "classDict_df.drop_duplicates(inplace=True)\n",
    "classDict_df.reset_index(inplace=True, drop=True)\n",
    "classDict_df.is_unique"
   ]
  },
  {
   "cell_type": "code",
   "execution_count": 159,
   "metadata": {},
   "outputs": [
    {
     "name": "stderr",
     "output_type": "stream",
     "text": [
      "/opt/conda/envs/py36/lib/python3.6/site-packages/ipykernel_launcher.py:1: FutureWarning: The signature of `Series.to_csv` was aligned to that of `DataFrame.to_csv`, and argument 'header' will change its default value from False to True: please pass an explicit value to suppress this warning.\n",
      "  \"\"\"Entry point for launching an IPython kernel.\n"
     ]
    }
   ],
   "source": [
    "classDict_df.to_csv('dataset/ClassDict.csv')"
   ]
  },
  {
   "cell_type": "code",
   "execution_count": 1,
   "metadata": {},
   "outputs": [],
   "source": [
    "import pandas as pd"
   ]
  },
  {
   "cell_type": "code",
   "execution_count": 2,
   "metadata": {},
   "outputs": [],
   "source": [
    "df = pd.read_csv('dataset/ClassDict.csv')"
   ]
  },
  {
   "cell_type": "code",
   "execution_count": 3,
   "metadata": {},
   "outputs": [
    {
     "data": {
      "text/plain": [
       "7781"
      ]
     },
     "execution_count": 3,
     "metadata": {},
     "output_type": "execute_result"
    }
   ],
   "source": [
    "len(df)"
   ]
  },
  {
   "cell_type": "code",
   "execution_count": 160,
   "metadata": {},
   "outputs": [],
   "source": [
    "opcodeDict_df = pd.read_csv('assets/dalvik_opcode.csv', index_col=0)\n",
    "opcodeDict_df = opcodeDict_df.opcode.reset_index(drop=True)\n",
    "InstructionDict_df = pd.concat([classDict_df, methodDict_df, opcodeDict_df])\n",
    "InstructionDict_df = InstructionDict_df.to_frame()\n",
    "InstructionDict_df.columns = ['Instruction']"
   ]
  },
  {
   "cell_type": "code",
   "execution_count": 174,
   "metadata": {},
   "outputs": [],
   "source": [
    "InstructionDict_df['ID'] = list(range(1, len(InstructionDict_df)+1))"
   ]
  },
  {
   "cell_type": "code",
   "execution_count": 176,
   "metadata": {},
   "outputs": [],
   "source": [
    "InstructionDict_df.index = InstructionDict_df.Instruction"
   ]
  },
  {
   "cell_type": "code",
   "execution_count": 179,
   "metadata": {},
   "outputs": [
    {
     "data": {
      "text/html": [
       "<div>\n",
       "<style scoped>\n",
       "    .dataframe tbody tr th:only-of-type {\n",
       "        vertical-align: middle;\n",
       "    }\n",
       "\n",
       "    .dataframe tbody tr th {\n",
       "        vertical-align: top;\n",
       "    }\n",
       "\n",
       "    .dataframe thead th {\n",
       "        text-align: right;\n",
       "    }\n",
       "</style>\n",
       "<table border=\"1\" class=\"dataframe\">\n",
       "  <thead>\n",
       "    <tr style=\"text-align: right;\">\n",
       "      <th></th>\n",
       "      <th>Instruction</th>\n",
       "      <th>ID</th>\n",
       "    </tr>\n",
       "    <tr>\n",
       "      <th>Instruction</th>\n",
       "      <th></th>\n",
       "      <th></th>\n",
       "    </tr>\n",
       "  </thead>\n",
       "  <tbody>\n",
       "    <tr>\n",
       "      <th>Landroid/widget/AbsListView</th>\n",
       "      <td>Landroid/widget/AbsListView</td>\n",
       "      <td>1</td>\n",
       "    </tr>\n",
       "    <tr>\n",
       "      <th>Landroid/widget/AbsListView/LayoutParams</th>\n",
       "      <td>Landroid/widget/AbsListView/LayoutParams</td>\n",
       "      <td>2</td>\n",
       "    </tr>\n",
       "    <tr>\n",
       "      <th>Landroid/widget/AbsListView/MultiChoiceModeListener</th>\n",
       "      <td>Landroid/widget/AbsListView/MultiChoiceModeLis...</td>\n",
       "      <td>3</td>\n",
       "    </tr>\n",
       "    <tr>\n",
       "      <th>Landroid/widget/AbsListView/OnScrollListener</th>\n",
       "      <td>Landroid/widget/AbsListView/OnScrollListener</td>\n",
       "      <td>4</td>\n",
       "    </tr>\n",
       "    <tr>\n",
       "      <th>Landroid/widget/AbsListView/RecyclerListener</th>\n",
       "      <td>Landroid/widget/AbsListView/RecyclerListener</td>\n",
       "      <td>5</td>\n",
       "    </tr>\n",
       "  </tbody>\n",
       "</table>\n",
       "</div>"
      ],
      "text/plain": [
       "                                                                                          Instruction  \\\n",
       "Instruction                                                                                             \n",
       "Landroid/widget/AbsListView                                               Landroid/widget/AbsListView   \n",
       "Landroid/widget/AbsListView/LayoutParams                     Landroid/widget/AbsListView/LayoutParams   \n",
       "Landroid/widget/AbsListView/MultiChoiceModeList...  Landroid/widget/AbsListView/MultiChoiceModeLis...   \n",
       "Landroid/widget/AbsListView/OnScrollListener             Landroid/widget/AbsListView/OnScrollListener   \n",
       "Landroid/widget/AbsListView/RecyclerListener             Landroid/widget/AbsListView/RecyclerListener   \n",
       "\n",
       "                                                    ID  \n",
       "Instruction                                             \n",
       "Landroid/widget/AbsListView                          1  \n",
       "Landroid/widget/AbsListView/LayoutParams             2  \n",
       "Landroid/widget/AbsListView/MultiChoiceModeList...   3  \n",
       "Landroid/widget/AbsListView/OnScrollListener         4  \n",
       "Landroid/widget/AbsListView/RecyclerListener         5  "
      ]
     },
     "execution_count": 179,
     "metadata": {},
     "output_type": "execute_result"
    }
   ],
   "source": [
    "InstructionDict_df.head()"
   ]
  },
  {
   "cell_type": "code",
   "execution_count": 180,
   "metadata": {},
   "outputs": [],
   "source": [
    "InstructionDict_df.to_csv('dataset/InstructionDict.csv')"
   ]
  },
  {
   "cell_type": "code",
   "execution_count": 181,
   "metadata": {},
   "outputs": [],
   "source": [
    "df = pd.read_msgpack('assets/function_dict_df.msg')"
   ]
  },
  {
   "cell_type": "markdown",
   "metadata": {},
   "source": [
    "### Build Dataset Instruction Dictionary"
   ]
  },
  {
   "cell_type": "code",
   "execution_count": 1,
   "metadata": {},
   "outputs": [],
   "source": [
    "import pandas as pd"
   ]
  },
  {
   "cell_type": "code",
   "execution_count": 2,
   "metadata": {},
   "outputs": [],
   "source": [
    "methodCalls_df          = pd.read_csv('dataset/functionMethodCallsVocabDict.csv')\n",
    "methodCalls_df['ClassID'] = methodCalls_df.instruction.apply(lambda x: x.split('->')[0])"
   ]
  },
  {
   "cell_type": "code",
   "execution_count": 3,
   "metadata": {},
   "outputs": [],
   "source": [
    "MethodsVocabDict = methodCalls_df\n",
    "MethodsVocabDict['MethodID'] = MethodsVocabDict.instruction\n",
    "MethodsVocabDict.index = MethodsVocabDict.MethodID\n",
    "MethodsVocabDict['ID'] = list(range(len(MethodsVocabDict)))\n",
    "MethodsVocabDict['ID'] = MethodsVocabDict['ID'] + 1\n",
    "MethodsVocabDict       = MethodsVocabDict[['ID']]\n",
    "MethodsVocabDict.to_csv('dataset/MethodsVocabDict.csv')"
   ]
  },
  {
   "cell_type": "code",
   "execution_count": 7,
   "metadata": {},
   "outputs": [
    {
     "name": "stderr",
     "output_type": "stream",
     "text": [
      "/opt/conda/envs/py36/lib/python3.6/site-packages/ipykernel_launcher.py:3: SettingWithCopyWarning: \n",
      "A value is trying to be set on a copy of a slice from a DataFrame.\n",
      "Try using .loc[row_indexer,col_indexer] = value instead\n",
      "\n",
      "See the caveats in the documentation: http://pandas.pydata.org/pandas-docs/stable/indexing.html#indexing-view-versus-copy\n",
      "  This is separate from the ipykernel package so we can avoid doing imports until\n",
      "/opt/conda/envs/py36/lib/python3.6/site-packages/ipykernel_launcher.py:4: SettingWithCopyWarning: \n",
      "A value is trying to be set on a copy of a slice from a DataFrame.\n",
      "Try using .loc[row_indexer,col_indexer] = value instead\n",
      "\n",
      "See the caveats in the documentation: http://pandas.pydata.org/pandas-docs/stable/indexing.html#indexing-view-versus-copy\n",
      "  after removing the cwd from sys.path.\n"
     ]
    }
   ],
   "source": [
    "ClassesVocabDict = methodCalls_df.drop_duplicates(subset='ClassID')\n",
    "ClassesVocabDict.index = ClassesVocabDict.ClassID\n",
    "ClassesVocabDict['ID'] = list(range(len(ClassesVocabDict)))\n",
    "ClassesVocabDict['ID'] = ClassesVocabDict['ID'] + 1\n",
    "ClassesVocabDict       = ClassesVocabDict[['ID']]\n",
    "ClassesVocabDict.to_csv('dataset/ClassesVocabDict.csv')"
   ]
  },
  {
   "cell_type": "code",
   "execution_count": 6,
   "metadata": {},
   "outputs": [],
   "source": [
    "OpcodesVocabDict       = pd.read_csv('assets/dalvik_opcode.csv', index_col=0)\n",
    "OpcodesVocabDict['ID'] = list(range(len(OpcodesVocabDict)))\n",
    "OpcodesVocabDict['ID'] = OpcodesVocabDict['ID'] + 1\n",
    "OpcodesVocabDict       = OpcodesVocabDict[['ID']]\n",
    "OpcodesVocabDict.to_csv('dataset/OpcodesVocabDict.csv')"
   ]
  },
  {
   "cell_type": "code",
   "execution_count": null,
   "metadata": {},
   "outputs": [],
   "source": []
  }
 ],
 "metadata": {
  "kernelspec": {
   "display_name": "pysciws",
   "language": "python",
   "name": "sciws"
  },
  "language_info": {
   "codemirror_mode": {
    "name": "ipython",
    "version": 3
   },
   "file_extension": ".py",
   "mimetype": "text/x-python",
   "name": "python",
   "nbconvert_exporter": "python",
   "pygments_lexer": "ipython3",
   "version": "3.7.10"
  }
 },
 "nbformat": 4,
 "nbformat_minor": 4
}
