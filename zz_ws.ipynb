{
 "cells": [
  {
   "cell_type": "code",
   "execution_count": 1,
   "metadata": {},
   "outputs": [],
   "source": [
    "import torch\n",
    "import torch.nn as nn\n",
    "import torch.nn.functional as F\n",
    "import torch.optim as optim\n",
    "\n",
    "from torch.optim.lr_scheduler import ReduceLROnPlateau\n",
    "from torch.utils.data import DataLoader\n",
    "from torch.utils.data import Dataset\n",
    "from torch.utils.tensorboard import SummaryWriter\n",
    "\n",
    "import numpy as np\n",
    "import pandas as pd\n",
    "import hashlib\n",
    "import shutil\n",
    "import glob\n",
    "import time\n",
    "import re\n",
    "import os\n",
    "\n",
    "from tqdm import tqdm\n",
    "from datetime import datetime\n",
    "from sklearn.metrics import f1_score, recall_score, precision_score, accuracy_score\n",
    "   "
   ]
  },
  {
   "cell_type": "code",
   "execution_count": 2,
   "metadata": {},
   "outputs": [],
   "source": [
    "%matplotlib inline\n",
    "import matplotlib.pyplot as plt\n",
    "import seaborn as sns"
   ]
  },
  {
   "cell_type": "code",
   "execution_count": 39,
   "metadata": {},
   "outputs": [
    {
     "name": "stderr",
     "output_type": "stream",
     "text": [
      "/opt/conda/envs/py36/lib/python3.6/site-packages/IPython/core/interactiveshell.py:3326: FutureWarning: The read_msgpack is deprecated and will be removed in a future version.\n",
      "It is recommended to use pyarrow for on-the-wire transmission of pandas objects.\n",
      "  exec(code_obj, self.user_global_ns, self.user_ns)\n"
     ]
    }
   ],
   "source": [
    "pragaurd = pd.read_msgpack('/ws/mnt/habouch/datasets/android_dataset/meta/genome_obfus_meta.msg')"
   ]
  },
  {
   "cell_type": "code",
   "execution_count": 40,
   "metadata": {},
   "outputs": [
    {
     "data": {
      "text/html": [
       "<div>\n",
       "<style scoped>\n",
       "    .dataframe tbody tr th:only-of-type {\n",
       "        vertical-align: middle;\n",
       "    }\n",
       "\n",
       "    .dataframe tbody tr th {\n",
       "        vertical-align: top;\n",
       "    }\n",
       "\n",
       "    .dataframe thead th {\n",
       "        text-align: right;\n",
       "    }\n",
       "</style>\n",
       "<table border=\"1\" class=\"dataframe\">\n",
       "  <thead>\n",
       "    <tr style=\"text-align: right;\">\n",
       "      <th></th>\n",
       "      <th>permission_len</th>\n",
       "      <th>dex_opcode_len</th>\n",
       "      <th>dex_method_len</th>\n",
       "      <th>dex_api_len</th>\n",
       "      <th>dex_apil2_len</th>\n",
       "      <th>native_opcode_len</th>\n",
       "      <th>native_functions_len</th>\n",
       "      <th>md5</th>\n",
       "      <th>obfustype</th>\n",
       "      <th>family</th>\n",
       "      <th>dataset</th>\n",
       "    </tr>\n",
       "  </thead>\n",
       "  <tbody>\n",
       "    <tr>\n",
       "      <th>0003a4cb962a89fb372b73106a999024</th>\n",
       "      <td>5</td>\n",
       "      <td>20093</td>\n",
       "      <td>3120</td>\n",
       "      <td>3120</td>\n",
       "      <td>2184</td>\n",
       "      <td>1268</td>\n",
       "      <td>86</td>\n",
       "      <td>0003a4cb962a89fb372b73106a999024</td>\n",
       "      <td>TRIVIAL+STRING_ENCRYPTION+REFLECTION+CLASS_ENC...</td>\n",
       "      <td>DroidKungFu2</td>\n",
       "      <td>Genome</td>\n",
       "    </tr>\n",
       "    <tr>\n",
       "      <th>0011c0672e7069b78007f04056c1c31f</th>\n",
       "      <td>18</td>\n",
       "      <td>36707</td>\n",
       "      <td>7269</td>\n",
       "      <td>7269</td>\n",
       "      <td>5071</td>\n",
       "      <td>0</td>\n",
       "      <td>0</td>\n",
       "      <td>0011c0672e7069b78007f04056c1c31f</td>\n",
       "      <td>TRIVIAL+STRING_ENCRYPT_APK</td>\n",
       "      <td>KMin</td>\n",
       "      <td>Genome</td>\n",
       "    </tr>\n",
       "    <tr>\n",
       "      <th>0015397ee26b7cfb78f20287b74b08c1</th>\n",
       "      <td>11</td>\n",
       "      <td>31301</td>\n",
       "      <td>4894</td>\n",
       "      <td>4894</td>\n",
       "      <td>3436</td>\n",
       "      <td>1268</td>\n",
       "      <td>86</td>\n",
       "      <td>0015397ee26b7cfb78f20287b74b08c1</td>\n",
       "      <td>CLASS_ENCRYPTION_APK</td>\n",
       "      <td>DroidKungFu3</td>\n",
       "      <td>Genome</td>\n",
       "    </tr>\n",
       "    <tr>\n",
       "      <th>0019abca6cbe1d0753f19fb7de070b9e</th>\n",
       "      <td>16</td>\n",
       "      <td>32146</td>\n",
       "      <td>6941</td>\n",
       "      <td>6941</td>\n",
       "      <td>3977</td>\n",
       "      <td>0</td>\n",
       "      <td>0</td>\n",
       "      <td>0019abca6cbe1d0753f19fb7de070b9e</td>\n",
       "      <td>TRIVIAL+STRING_ENCRYPT_APK</td>\n",
       "      <td>BaseBridge</td>\n",
       "      <td>Genome</td>\n",
       "    </tr>\n",
       "    <tr>\n",
       "      <th>001c97d9341f1ffddffbff77c5ee7a58</th>\n",
       "      <td>9</td>\n",
       "      <td>54918</td>\n",
       "      <td>9954</td>\n",
       "      <td>9954</td>\n",
       "      <td>3339</td>\n",
       "      <td>48404</td>\n",
       "      <td>1</td>\n",
       "      <td>001c97d9341f1ffddffbff77c5ee7a58</td>\n",
       "      <td>TRIVIAL+STRING_ENCRYPT_APK</td>\n",
       "      <td>BeanBot</td>\n",
       "      <td>Genome</td>\n",
       "    </tr>\n",
       "  </tbody>\n",
       "</table>\n",
       "</div>"
      ],
      "text/plain": [
       "                                  permission_len  dex_opcode_len  \\\n",
       "0003a4cb962a89fb372b73106a999024               5           20093   \n",
       "0011c0672e7069b78007f04056c1c31f              18           36707   \n",
       "0015397ee26b7cfb78f20287b74b08c1              11           31301   \n",
       "0019abca6cbe1d0753f19fb7de070b9e              16           32146   \n",
       "001c97d9341f1ffddffbff77c5ee7a58               9           54918   \n",
       "\n",
       "                                  dex_method_len  dex_api_len  dex_apil2_len  \\\n",
       "0003a4cb962a89fb372b73106a999024            3120         3120           2184   \n",
       "0011c0672e7069b78007f04056c1c31f            7269         7269           5071   \n",
       "0015397ee26b7cfb78f20287b74b08c1            4894         4894           3436   \n",
       "0019abca6cbe1d0753f19fb7de070b9e            6941         6941           3977   \n",
       "001c97d9341f1ffddffbff77c5ee7a58            9954         9954           3339   \n",
       "\n",
       "                                  native_opcode_len  native_functions_len  \\\n",
       "0003a4cb962a89fb372b73106a999024               1268                    86   \n",
       "0011c0672e7069b78007f04056c1c31f                  0                     0   \n",
       "0015397ee26b7cfb78f20287b74b08c1               1268                    86   \n",
       "0019abca6cbe1d0753f19fb7de070b9e                  0                     0   \n",
       "001c97d9341f1ffddffbff77c5ee7a58              48404                     1   \n",
       "\n",
       "                                                               md5  \\\n",
       "0003a4cb962a89fb372b73106a999024  0003a4cb962a89fb372b73106a999024   \n",
       "0011c0672e7069b78007f04056c1c31f  0011c0672e7069b78007f04056c1c31f   \n",
       "0015397ee26b7cfb78f20287b74b08c1  0015397ee26b7cfb78f20287b74b08c1   \n",
       "0019abca6cbe1d0753f19fb7de070b9e  0019abca6cbe1d0753f19fb7de070b9e   \n",
       "001c97d9341f1ffddffbff77c5ee7a58  001c97d9341f1ffddffbff77c5ee7a58   \n",
       "\n",
       "                                                                          obfustype  \\\n",
       "0003a4cb962a89fb372b73106a999024  TRIVIAL+STRING_ENCRYPTION+REFLECTION+CLASS_ENC...   \n",
       "0011c0672e7069b78007f04056c1c31f                         TRIVIAL+STRING_ENCRYPT_APK   \n",
       "0015397ee26b7cfb78f20287b74b08c1                               CLASS_ENCRYPTION_APK   \n",
       "0019abca6cbe1d0753f19fb7de070b9e                         TRIVIAL+STRING_ENCRYPT_APK   \n",
       "001c97d9341f1ffddffbff77c5ee7a58                         TRIVIAL+STRING_ENCRYPT_APK   \n",
       "\n",
       "                                        family dataset  \n",
       "0003a4cb962a89fb372b73106a999024  DroidKungFu2  Genome  \n",
       "0011c0672e7069b78007f04056c1c31f          KMin  Genome  \n",
       "0015397ee26b7cfb78f20287b74b08c1  DroidKungFu3  Genome  \n",
       "0019abca6cbe1d0753f19fb7de070b9e    BaseBridge  Genome  \n",
       "001c97d9341f1ffddffbff77c5ee7a58       BeanBot  Genome  "
      ]
     },
     "execution_count": 40,
     "metadata": {},
     "output_type": "execute_result"
    }
   ],
   "source": [
    "pragaurd.head()"
   ]
  },
  {
   "cell_type": "code",
   "execution_count": 109,
   "metadata": {},
   "outputs": [
    {
     "name": "stderr",
     "output_type": "stream",
     "text": [
      "/opt/conda/envs/py36/lib/python3.6/site-packages/IPython/core/interactiveshell.py:3326: FutureWarning: The read_msgpack is deprecated and will be removed in a future version.\n",
      "It is recommended to use pyarrow for on-the-wire transmission of pandas objects.\n",
      "  exec(code_obj, self.user_global_ns, self.user_ns)\n"
     ]
    }
   ],
   "source": [
    "vshare_df = pd.read_msgpack('/ws/mnt/habouch/datasets/android_dataset/meta/vshare_meta.msg')"
   ]
  },
  {
   "cell_type": "code",
   "execution_count": 112,
   "metadata": {},
   "outputs": [],
   "source": [
    "vshare_df = vshare_df.loc[vshare_df.sha256.isin(androzoo_df.sha256)]"
   ]
  },
  {
   "cell_type": "code",
   "execution_count": null,
   "metadata": {},
   "outputs": [],
   "source": [
    "vshare_df = vshare_df.sha256"
   ]
  },
  {
   "cell_type": "code",
   "execution_count": 113,
   "metadata": {},
   "outputs": [
    {
     "data": {
      "text/plain": [
       "29179"
      ]
     },
     "execution_count": 113,
     "metadata": {},
     "output_type": "execute_result"
    }
   ],
   "source": [
    "len(vshare_df)"
   ]
  },
  {
   "cell_type": "code",
   "execution_count": 118,
   "metadata": {},
   "outputs": [],
   "source": [
    "vshare_df.index = vshare_df.sha256"
   ]
  },
  {
   "cell_type": "code",
   "execution_count": 116,
   "metadata": {},
   "outputs": [],
   "source": [
    "zooshare_df = androzoo_df.loc[androzoo_df.sha256.isin(vshare_df.sha256)]"
   ]
  },
  {
   "cell_type": "code",
   "execution_count": 119,
   "metadata": {},
   "outputs": [],
   "source": [
    "zooshare_df.index = zooshare_df.sha256"
   ]
  },
  {
   "cell_type": "code",
   "execution_count": 122,
   "metadata": {},
   "outputs": [
    {
     "name": "stderr",
     "output_type": "stream",
     "text": [
      "/opt/conda/envs/py36/lib/python3.6/site-packages/ipykernel_launcher.py:1: SettingWithCopyWarning: \n",
      "A value is trying to be set on a copy of a slice from a DataFrame.\n",
      "Try using .loc[row_indexer,col_indexer] = value instead\n",
      "\n",
      "See the caveats in the documentation: http://pandas.pydata.org/pandas-docs/stable/user_guide/indexing.html#returning-a-view-versus-a-copy\n",
      "  \"\"\"Entry point for launching an IPython kernel.\n"
     ]
    }
   ],
   "source": [
    "vshare_df['vt_detection'] = zooshare_df.loc[vshare_df.sha256, 'vt_detection']"
   ]
  },
  {
   "cell_type": "code",
   "execution_count": 125,
   "metadata": {},
   "outputs": [
    {
     "data": {
      "text/plain": [
       "False    28627\n",
       "True       552\n",
       "Name: vt_detection, dtype: int64"
      ]
     },
     "execution_count": 125,
     "metadata": {},
     "output_type": "execute_result"
    }
   ],
   "source": [
    "(vshare_df['vt_detection'] == 0).value_counts()"
   ]
  },
  {
   "cell_type": "code",
   "execution_count": 115,
   "metadata": {},
   "outputs": [
    {
     "data": {
      "text/html": [
       "<div>\n",
       "<style scoped>\n",
       "    .dataframe tbody tr th:only-of-type {\n",
       "        vertical-align: middle;\n",
       "    }\n",
       "\n",
       "    .dataframe tbody tr th {\n",
       "        vertical-align: top;\n",
       "    }\n",
       "\n",
       "    .dataframe thead th {\n",
       "        text-align: right;\n",
       "    }\n",
       "</style>\n",
       "<table border=\"1\" class=\"dataframe\">\n",
       "  <thead>\n",
       "    <tr style=\"text-align: right;\">\n",
       "      <th></th>\n",
       "      <th>sha256</th>\n",
       "      <th>sha1</th>\n",
       "      <th>md5</th>\n",
       "      <th>dex_date</th>\n",
       "      <th>apk_size</th>\n",
       "      <th>pkg_name</th>\n",
       "      <th>vercode</th>\n",
       "      <th>vt_detection</th>\n",
       "      <th>vt_scan_date</th>\n",
       "      <th>dex_size</th>\n",
       "      <th>markets</th>\n",
       "      <th>label</th>\n",
       "      <th>scan_date</th>\n",
       "    </tr>\n",
       "    <tr>\n",
       "      <th>scan_date</th>\n",
       "      <th></th>\n",
       "      <th></th>\n",
       "      <th></th>\n",
       "      <th></th>\n",
       "      <th></th>\n",
       "      <th></th>\n",
       "      <th></th>\n",
       "      <th></th>\n",
       "      <th></th>\n",
       "      <th></th>\n",
       "      <th></th>\n",
       "      <th></th>\n",
       "      <th></th>\n",
       "    </tr>\n",
       "  </thead>\n",
       "  <tbody>\n",
       "    <tr>\n",
       "      <th>2016-06-15 15:26:44</th>\n",
       "      <td>0000003b455a6c7af837ef90f2eaffd856e3b5cf49f5e2...</td>\n",
       "      <td>9c14d537a7adb4cfc43d291352f73e05e0ccdd4a</td>\n",
       "      <td>3edfc78ab53521942798ad551027d04f</td>\n",
       "      <td>2016-04-05 17:58:46</td>\n",
       "      <td>10386469</td>\n",
       "      <td>com.zte.bamachaye</td>\n",
       "      <td>121.0</td>\n",
       "      <td>0.0</td>\n",
       "      <td>2016-06-15 15:26:44</td>\n",
       "      <td>4765888</td>\n",
       "      <td>anzhi</td>\n",
       "      <td>0</td>\n",
       "      <td>2016-06-15 15:26:44</td>\n",
       "    </tr>\n",
       "    <tr>\n",
       "      <th>2016-11-20 10:26:31</th>\n",
       "      <td>0000014a634db98f85038b833a8dfc50d5fb13a464e0b2...</td>\n",
       "      <td>c3ebec52c9388bf67479ff1385a56c59b3e39e81</td>\n",
       "      <td>0a146750fb447cf3859c9cb659ab04f1</td>\n",
       "      <td>2014-08-20 13:58:10</td>\n",
       "      <td>3537486</td>\n",
       "      <td>com.tanersenel.onlinetvizle</td>\n",
       "      <td>16.0</td>\n",
       "      <td>0.0</td>\n",
       "      <td>2016-11-20 10:26:31</td>\n",
       "      <td>3170096</td>\n",
       "      <td>PlayDrone</td>\n",
       "      <td>0</td>\n",
       "      <td>2016-11-20 10:26:31</td>\n",
       "    </tr>\n",
       "    <tr>\n",
       "      <th>2017-12-03 06:50:28</th>\n",
       "      <td>000002b63fad4b030787f6de4081dc1e12325026eb7dda...</td>\n",
       "      <td>dd723b32edd9f70aadbd66846621967157df9bd4</td>\n",
       "      <td>985e601c17f0a9346590ae92a5ad664e</td>\n",
       "      <td>1980-01-01 00:00:00</td>\n",
       "      <td>4300370</td>\n",
       "      <td>com.deperu.sitiosarequipa</td>\n",
       "      <td>10000.0</td>\n",
       "      <td>0.0</td>\n",
       "      <td>2017-12-03 06:50:28</td>\n",
       "      <td>4211104</td>\n",
       "      <td>play.google.com</td>\n",
       "      <td>0</td>\n",
       "      <td>2017-12-03 06:50:28</td>\n",
       "    </tr>\n",
       "    <tr>\n",
       "      <th>2019-06-25 08:55:42</th>\n",
       "      <td>000003d3981dc548a772a30d688f424cfb88561a63a2dd...</td>\n",
       "      <td>6ae9f138f7e0c63e5d58cc7e82fb05a50f041637</td>\n",
       "      <td>f4789023733e41ee883208acbc956020</td>\n",
       "      <td>1980-01-01 00:00:00</td>\n",
       "      <td>12958838</td>\n",
       "      <td>com.safetravels.safetravelsmain</td>\n",
       "      <td>400125.0</td>\n",
       "      <td>0.0</td>\n",
       "      <td>2019-06-25 08:55:42</td>\n",
       "      <td>7813520</td>\n",
       "      <td>play.google.com</td>\n",
       "      <td>0</td>\n",
       "      <td>2019-06-25 08:55:42</td>\n",
       "    </tr>\n",
       "    <tr>\n",
       "      <th>2014-04-27 06:30:31</th>\n",
       "      <td>00000439a3ffa123c3f9bc45e5e821351b1a5c276871b3...</td>\n",
       "      <td>375d6ffd167bb5e7e2935b1b927f87d8e44a9ab4</td>\n",
       "      <td>9283c74dd8356c18bb6d94b88b8fdd9b</td>\n",
       "      <td>2011-10-25 02:30:56</td>\n",
       "      <td>1044597</td>\n",
       "      <td>bmthx.god102409paperi</td>\n",
       "      <td>6.0</td>\n",
       "      <td>1.0</td>\n",
       "      <td>2014-04-27 06:30:31</td>\n",
       "      <td>105660</td>\n",
       "      <td>appchina</td>\n",
       "      <td>1</td>\n",
       "      <td>2014-04-27 06:30:31</td>\n",
       "    </tr>\n",
       "  </tbody>\n",
       "</table>\n",
       "</div>"
      ],
      "text/plain": [
       "                                                                sha256  \\\n",
       "scan_date                                                                \n",
       "2016-06-15 15:26:44  0000003b455a6c7af837ef90f2eaffd856e3b5cf49f5e2...   \n",
       "2016-11-20 10:26:31  0000014a634db98f85038b833a8dfc50d5fb13a464e0b2...   \n",
       "2017-12-03 06:50:28  000002b63fad4b030787f6de4081dc1e12325026eb7dda...   \n",
       "2019-06-25 08:55:42  000003d3981dc548a772a30d688f424cfb88561a63a2dd...   \n",
       "2014-04-27 06:30:31  00000439a3ffa123c3f9bc45e5e821351b1a5c276871b3...   \n",
       "\n",
       "                                                         sha1  \\\n",
       "scan_date                                                       \n",
       "2016-06-15 15:26:44  9c14d537a7adb4cfc43d291352f73e05e0ccdd4a   \n",
       "2016-11-20 10:26:31  c3ebec52c9388bf67479ff1385a56c59b3e39e81   \n",
       "2017-12-03 06:50:28  dd723b32edd9f70aadbd66846621967157df9bd4   \n",
       "2019-06-25 08:55:42  6ae9f138f7e0c63e5d58cc7e82fb05a50f041637   \n",
       "2014-04-27 06:30:31  375d6ffd167bb5e7e2935b1b927f87d8e44a9ab4   \n",
       "\n",
       "                                                  md5             dex_date  \\\n",
       "scan_date                                                                    \n",
       "2016-06-15 15:26:44  3edfc78ab53521942798ad551027d04f  2016-04-05 17:58:46   \n",
       "2016-11-20 10:26:31  0a146750fb447cf3859c9cb659ab04f1  2014-08-20 13:58:10   \n",
       "2017-12-03 06:50:28  985e601c17f0a9346590ae92a5ad664e  1980-01-01 00:00:00   \n",
       "2019-06-25 08:55:42  f4789023733e41ee883208acbc956020  1980-01-01 00:00:00   \n",
       "2014-04-27 06:30:31  9283c74dd8356c18bb6d94b88b8fdd9b  2011-10-25 02:30:56   \n",
       "\n",
       "                     apk_size                         pkg_name   vercode  \\\n",
       "scan_date                                                                  \n",
       "2016-06-15 15:26:44  10386469                com.zte.bamachaye     121.0   \n",
       "2016-11-20 10:26:31   3537486      com.tanersenel.onlinetvizle      16.0   \n",
       "2017-12-03 06:50:28   4300370        com.deperu.sitiosarequipa   10000.0   \n",
       "2019-06-25 08:55:42  12958838  com.safetravels.safetravelsmain  400125.0   \n",
       "2014-04-27 06:30:31   1044597            bmthx.god102409paperi       6.0   \n",
       "\n",
       "                     vt_detection         vt_scan_date  dex_size  \\\n",
       "scan_date                                                          \n",
       "2016-06-15 15:26:44           0.0  2016-06-15 15:26:44   4765888   \n",
       "2016-11-20 10:26:31           0.0  2016-11-20 10:26:31   3170096   \n",
       "2017-12-03 06:50:28           0.0  2017-12-03 06:50:28   4211104   \n",
       "2019-06-25 08:55:42           0.0  2019-06-25 08:55:42   7813520   \n",
       "2014-04-27 06:30:31           1.0  2014-04-27 06:30:31    105660   \n",
       "\n",
       "                             markets  label           scan_date  \n",
       "scan_date                                                        \n",
       "2016-06-15 15:26:44            anzhi      0 2016-06-15 15:26:44  \n",
       "2016-11-20 10:26:31        PlayDrone      0 2016-11-20 10:26:31  \n",
       "2017-12-03 06:50:28  play.google.com      0 2017-12-03 06:50:28  \n",
       "2019-06-25 08:55:42  play.google.com      0 2019-06-25 08:55:42  \n",
       "2014-04-27 06:30:31         appchina      1 2014-04-27 06:30:31  "
      ]
     },
     "execution_count": 115,
     "metadata": {},
     "output_type": "execute_result"
    }
   ],
   "source": [
    "androzoo_df.head()"
   ]
  },
  {
   "cell_type": "code",
   "execution_count": 108,
   "metadata": {},
   "outputs": [
    {
     "data": {
      "text/plain": [
       "9417991"
      ]
     },
     "execution_count": 108,
     "metadata": {},
     "output_type": "execute_result"
    }
   ],
   "source": [
    "len(androzoo_df)"
   ]
  },
  {
   "cell_type": "code",
   "execution_count": 43,
   "metadata": {},
   "outputs": [],
   "source": [
    "import matplotlib\n",
    "import matplotlib.pyplot as plt\n",
    "import numpy as np"
   ]
  },
  {
   "cell_type": "markdown",
   "metadata": {},
   "source": []
  },
  {
   "cell_type": "raw",
   "metadata": {},
   "source": [
    "AMD       homogeneity score:96.55 numClusters:100 coverage:50\\% size:11609\n",
    "DREBIN    homogeneity score:92.28 numClusters:27  coverage:49\\% size:2645\n",
    "MALDOZER  homogeneity score:91.27 numClusters:97  coverage:55\\% size:11048\n",
    "GENOME    homogeneity score:90.00 numClusters:6   coverage:37\\% size:471"
   ]
  },
  {
   "cell_type": "code",
   "execution_count": 611,
   "metadata": {},
   "outputs": [],
   "source": [
    "sns.set(style=\"white\", color_codes=True, font_scale=1.5)"
   ]
  },
  {
   "cell_type": "code",
   "execution_count": 612,
   "metadata": {},
   "outputs": [
    {
     "data": {
      "image/png": "[encoded data removed]",
      "text/plain": [
       "<Figure size 432x288 with 1 Axes>"
      ]
     },
     "metadata": {},
     "output_type": "display_data"
    }
   ],
   "source": [
    "labels = ['AMD', 'DREBIN', 'MALDOZER', 'GENOME']\n",
    "men_means = [96.55, 92.28, 91.27, 90.00]\n",
    "women_means = [50, 49, 55, 37]\n",
    "\n",
    "x = np.arange(len(labels))  # the label locations\n",
    "width = 0.35  # the width of the bars\n",
    "\n",
    "fig, ax = plt.subplots()\n",
    "#patterns = ('-', '+', 'x', '\\\\', '*', 'o', 'O', '.')\n",
    "rects1 = ax.bar(x - width/2, men_means, width, label='Homogenity', hatch=\"*\", alpha=0.8)\n",
    "rects2 = ax.bar(x + width/2, women_means, width, label='Coverage', hatch=\"x\", alpha=0.7)\n",
    "\n",
    "# Add some text for labels, title and custom x-axis tick labels, etc.\n",
    "ax.set_ylabel('')\n",
    "ax.set_title('')\n",
    "ax.set_xticks(x)\n",
    "ax.set_xticklabels(labels)\n",
    "ax.legend(loc='lower right')\n",
    "\n",
    "\n",
    "def autolabel(rects):\n",
    "    \"\"\"Attach a text label above each bar in *rects*, displaying its height.\"\"\"\n",
    "    for rect in rects:\n",
    "        height = rect.get_height()\n",
    "        ax.annotate('{}'.format(height),\n",
    "                    xy=(rect.get_x() + rect.get_width() / 2, height),\n",
    "                    xytext=(0, 3),  # 3 points vertical offset\n",
    "                    textcoords=\"offset points\",\n",
    "                    ha='center', va='bottom')\n",
    "\n",
    "\n",
    "autolabel(rects1)\n",
    "autolabel(rects2)\n",
    "\n",
    "sns.despine(offset=10, trim=True);\n",
    "plt.xticks(rotation=0)\n",
    "\n",
    "fig.tight_layout()\n",
    "#plt.grid(True)\n",
    "\n",
    "plt.savefig('./plots/petadroid_family_clustering.pdf', bbox_inches='tight', transparent=True)"
   ]
  },
  {
   "cell_type": "code",
   "execution_count": 106,
   "metadata": {},
   "outputs": [
    {
     "name": "stdout",
     "output_type": "stream",
     "text": [
      "petadroid_family_clustering\n"
     ]
    }
   ],
   "source": [
    "print('petadroid_family_clustering')"
   ]
  },
  {
   "cell_type": "markdown",
   "metadata": {},
   "source": []
  },
  {
   "cell_type": "code",
   "execution_count": 74,
   "metadata": {},
   "outputs": [],
   "source": [
    "mamadroid_efficiency = pd.read_parquet('traces/mamadroid_efficiency.parquet')"
   ]
  },
  {
   "cell_type": "code",
   "execution_count": 77,
   "metadata": {},
   "outputs": [
    {
     "data": {
      "text/plain": [
       "count    7630.000000\n",
       "mean        5.541067\n",
       "std         5.121218\n",
       "min         0.470590\n",
       "25%         1.619512\n",
       "50%         3.982715\n",
       "75%         7.718285\n",
       "max        61.986970\n",
       "Name: time, dtype: float64"
      ]
     },
     "execution_count": 77,
     "metadata": {},
     "output_type": "execute_result"
    }
   ],
   "source": [
    "mamadroid_efficiency.loc[mamadroid_efficiency.tag == 'benign', 'time'].describe()"
   ]
  },
  {
   "cell_type": "code",
   "execution_count": 78,
   "metadata": {},
   "outputs": [
    {
     "data": {
      "text/plain": [
       "count    29442.000000\n",
       "mean         3.080547\n",
       "std          3.780154\n",
       "min          0.425270\n",
       "25%          0.849647\n",
       "50%          1.617126\n",
       "75%          3.429858\n",
       "max         35.771906\n",
       "Name: time, dtype: float64"
      ]
     },
     "execution_count": 78,
     "metadata": {},
     "output_type": "execute_result"
    }
   ],
   "source": [
    "mamadroid_efficiency.loc[mamadroid_efficiency.tag == 'malware', 'time'].describe()"
   ]
  },
  {
   "cell_type": "code",
   "execution_count": 107,
   "metadata": {},
   "outputs": [
    {
     "data": {
      "text/plain": [
       "count    37072.000000\n",
       "mean         3.586961\n",
       "std          4.211344\n",
       "min          0.425270\n",
       "25%          0.940418\n",
       "50%          1.896338\n",
       "75%          4.223997\n",
       "max         61.986970\n",
       "Name: time, dtype: float64"
      ]
     },
     "execution_count": 107,
     "metadata": {},
     "output_type": "execute_result"
    }
   ],
   "source": [
    "mamadroid_efficiency.time.describe()"
   ]
  },
  {
   "cell_type": "markdown",
   "metadata": {},
   "source": [
    "labels = ['Bengin', 'Malware']\n",
    "means = [5.54, 3.08]\n",
    "stds =  [5.12, 3.78]"
   ]
  },
  {
   "cell_type": "markdown",
   "metadata": {},
   "source": [
    "labels = ['Bengin', 'Malware', 'All']\n",
    "means = [5.54, 3.08, 3.58]\n",
    "stds =  [5.12, 3.78]"
   ]
  },
  {
   "cell_type": "code",
   "execution_count": 607,
   "metadata": {},
   "outputs": [],
   "source": [
    "sns.set(style=\"white\", color_codes=True, font_scale=1.7)"
   ]
  },
  {
   "cell_type": "code",
   "execution_count": 608,
   "metadata": {},
   "outputs": [
    {
     "data": {
      "image/png": "[encoded data removed]",
      "text/plain": [
       "<Figure size 432x288 with 1 Axes>"
      ]
     },
     "metadata": {},
     "output_type": "display_data"
    }
   ],
   "source": [
    "labels = ['Bengin', 'Malware', 'All']\n",
    "means = [5.54, 3.08, 3.58]\n",
    "stds =  [5.12, 3.78]\n",
    "\n",
    "x = np.arange(len(labels))  # the label locations\n",
    "#width = 0.35  # the width of the bars\n",
    "\n",
    "fig, ax = plt.subplots()\n",
    "#patterns = ('-', '+', 'x', '\\\\', '*', 'o', 'O', '.')\n",
    "rects1 = ax.bar(x[0], means[0], width, label='Homogenity', hatch=\"*\", edgecolor='black', align='center', alpha=0.8, ecolor='black')\n",
    "rects1 = ax.bar(x[1], means[1], width, label='Homogenity', hatch=\"O\", edgecolor='black', align='center', alpha=0.8, ecolor='black')\n",
    "rects1 = ax.bar(x[2], means[2], width, label='Homogenity', hatch=\"/\", edgecolor='black', align='center', alpha=0.8, ecolor='black')\n",
    "\n",
    "# Add some text for labels, title and custom x-axis tick labels, etc.\n",
    "ax.set_ylabel('')\n",
    "ax.set_title('')\n",
    "ax.set_xticks(x)\n",
    "ax.set_xticklabels(labels)\n",
    "ax.set_yticks(range(0, 7))\n",
    "\n",
    "sns.despine(offset=10, trim=True);\n",
    "fig.tight_layout()\n",
    "\n",
    "plt.savefig('./plots/petadroid_efficiency_performance.pdf', bbox_inches='tight', transparent=True)"
   ]
  },
  {
   "cell_type": "code",
   "execution_count": null,
   "metadata": {},
   "outputs": [],
   "source": [
    "sns.set(font_scale=1.5, style='white')\n",
    "sns.set_style(\"ticks\", {\"xtick.major.size\": 6, \"ytick.major.size\": 6})\n",
    "\n",
    "viper_attribution_df = pd.read_msgpack('01_bow/viper_attribution_results_df.msg')\n",
    "\n",
    "viper_attribution_df['score'] = viper_attribution_df.f1_score.apply(int)\n",
    "\n",
    "hashing_scores = viper_attribution_df.loc[viper_attribution_df.preprocessing_type == 'hashing'].pivot('classifier_name', 'split_line', 'score')\n",
    "fig, ax = plt.subplots(figsize=(9, 6))\n",
    "sns_plot = sns.heatmap(hashing_scores, annot=True, fmt=\"d\", cbar=False, linewidths=.9, ax=ax)\n",
    "sns_plot.set(ylabel='Model, F1-Score(%)', xlabel='Training Set #Samples ')\n",
    "sns_plot.yaxis.set_ticklabels(classifier_lst);\n",
    "sns_plot.set_axisbelow(True)\n",
    "plt.grid(True)\n",
    "sns_plot.figure.savefig('./plots/maldy_viper_trainsize_hashing_performance.pdf', bbox_inches='tight', transparent=True)"
   ]
  },
  {
   "cell_type": "code",
   "execution_count": 74,
   "metadata": {},
   "outputs": [
    {
     "data": {
      "image/png": "[encoded data removed]",
      "text/plain": [
       "<Figure size 432x288 with 1 Axes>"
      ]
     },
     "metadata": {
      "needs_background": "light"
     },
     "output_type": "display_data"
    }
   ],
   "source": [
    "sns_plot = sns.boxplot(x='tag', y='time', data=mamadroid_efficiency, palette='Oranges')\n",
    "sns_plot.set(xlabel='', ylabel='Preprocessing Time (Seconds)')\n",
    "sns_plot.yaxis.set_ticks(range(0, 30, 4))\n",
    "sns.despine(offset=10, trim=True);\n",
    "plt.xticks(rotation=0)\n",
    "sns_plot.set_axisbelow(True)\n",
    "plt.grid(True)\n",
    "sns_plot.figure.savefig('./plots/petadroid_efficiency_performance.pdf', bbox_inches='tight', transparent=True)"
   ]
  },
  {
   "cell_type": "code",
   "execution_count": 42,
   "metadata": {},
   "outputs": [
    {
     "data": {
      "text/plain": [
       "CLASS_ENCRYPTION_APK                                         1486\n",
       "STRING_ENCRYPTION_APK                                        1486\n",
       "TRIVIAL_APK                                                  1485\n",
       "TRIVIAL+STRING_ENCRYPTION+REFLECTION+CLASS_ENCRYPTION_APK    1483\n",
       "REFLECTION_APK                                               1471\n",
       "TRIVIAL+STRING_ENCRYPT_APK                                   1462\n",
       "TRIVIAL+STRING_ENCRYTPION+REFLECTION_APK                     1461\n",
       "Name: obfustype, dtype: int64"
      ]
     },
     "execution_count": 42,
     "metadata": {},
     "output_type": "execute_result"
    }
   ],
   "source": [
    "pragaurd.obfustype.value_counts()"
   ]
  },
  {
   "cell_type": "code",
   "execution_count": 3,
   "metadata": {},
   "outputs": [],
   "source": [
    "androzoo_df = pd.read_parquet('dataset/androzoo_meta.parquet')"
   ]
  },
  {
   "cell_type": "code",
   "execution_count": 4,
   "metadata": {},
   "outputs": [],
   "source": []
  },
  {
   "cell_type": "code",
   "execution_count": 9,
   "metadata": {},
   "outputs": [
    {
     "data": {
      "text/plain": [
       "0    7345058\n",
       "1    2072933\n",
       "Name: label, dtype: int64"
      ]
     },
     "execution_count": 9,
     "metadata": {},
     "output_type": "execute_result"
    }
   ],
   "source": [
    "androzoo_df.label.value_counts()"
   ]
  },
  {
   "cell_type": "code",
   "execution_count": null,
   "metadata": {},
   "outputs": [],
   "source": [
    "sns.set(font_scale=1.5, style='white')\n",
    "sns.set_style(\"ticks\", {\"xtick.major.size\": 6, \"ytick.major.size\": 6})\n",
    "\n",
    "viper_attribution_df = pd.read_msgpack('01_bow/viper_attribution_results_df.msg')\n",
    "\n",
    "viper_attribution_df['score'] = viper_attribution_df.f1_score.apply(int)\n",
    "\n",
    "hashing_scores = viper_attribution_df.loc[viper_attribution_df.preprocessing_type == 'hashing'].pivot('classifier_name', 'split_line', 'score')\n",
    "fig, ax = plt.subplots(figsize=(9, 6))\n",
    "sns_plot = sns.heatmap(hashing_scores, annot=True, fmt=\"d\", cbar=False, linewidths=.9, ax=ax)\n",
    "sns_plot.set(ylabel='Model, F1-Score(%)', xlabel='Training Set #Samples ')\n",
    "sns_plot.yaxis.set_ticklabels(classifier_lst);\n",
    "sns_plot.set_axisbelow(True)\n",
    "plt.grid(True)\n",
    "sns_plot.figure.savefig('./plots/maldy_viper_trainsize_hashing_performance.pdf', bbox_inches='tight', transparent=True)"
   ]
  },
  {
   "cell_type": "code",
   "execution_count": 7,
   "metadata": {},
   "outputs": [
    {
     "data": {
      "text/plain": [
       "sha256                  object\n",
       "sha1                    object\n",
       "md5                     object\n",
       "dex_date                object\n",
       "apk_size                 int64\n",
       "pkg_name                object\n",
       "vercode                float64\n",
       "vt_detection           float64\n",
       "vt_scan_date            object\n",
       "dex_size                 int64\n",
       "markets                 object\n",
       "label                    int64\n",
       "scan_date       datetime64[ns]\n",
       "dtype: object"
      ]
     },
     "execution_count": 7,
     "metadata": {},
     "output_type": "execute_result"
    }
   ],
   "source": [
    "androzoo_df.dtypes"
   ]
  },
  {
   "cell_type": "code",
   "execution_count": 617,
   "metadata": {},
   "outputs": [],
   "source": [
    "androzoo_df['scan_date'] = pd.to_datetime(androzoo_df.vt_scan_date)"
   ]
  },
  {
   "cell_type": "code",
   "execution_count": 621,
   "metadata": {},
   "outputs": [],
   "source": [
    "androzoo_df['label'] = (androzoo_df.vt_detection > 0).apply(int)"
   ]
  },
  {
   "cell_type": "code",
   "execution_count": 622,
   "metadata": {},
   "outputs": [],
   "source": [
    "androzoo_df.index = androzoo_df['scan_date']"
   ]
  },
  {
   "cell_type": "code",
   "execution_count": 623,
   "metadata": {},
   "outputs": [],
   "source": [
    "malzoo_df = androzoo_df.loc[androzoo_df.label == 1]"
   ]
  },
  {
   "cell_type": "code",
   "execution_count": 624,
   "metadata": {},
   "outputs": [],
   "source": [
    "benzoo_df = androzoo_df.loc[androzoo_df.label == 0]"
   ]
  },
  {
   "cell_type": "code",
   "execution_count": 625,
   "metadata": {},
   "outputs": [],
   "source": [
    "sampler = androzoo_df.sha256.resample('3M')"
   ]
  },
  {
   "cell_type": "code",
   "execution_count": 626,
   "metadata": {},
   "outputs": [],
   "source": [
    "malsampler = malzoo_df.sha256.resample('3M')"
   ]
  },
  {
   "cell_type": "code",
   "execution_count": 627,
   "metadata": {},
   "outputs": [],
   "source": [
    "bensampler = benzoo_df.sha256.resample('3M')"
   ]
  },
  {
   "cell_type": "code",
   "execution_count": 632,
   "metadata": {},
   "outputs": [],
   "source": [
    "sns.set(style=\"whitegrid\", color_codes=True, font_scale=1.1)"
   ]
  },
  {
   "cell_type": "code",
   "execution_count": 655,
   "metadata": {},
   "outputs": [
    {
     "data": {
      "image/png": "[encoded data removed]",
      "text/plain": [
       "<Figure size 432x288 with 1 Axes>"
      ]
     },
     "metadata": {},
     "output_type": "display_data"
    }
   ],
   "source": [
    "#fig = sampler.count().plot()\n",
    "mfig = malsampler.count().plot()\n",
    "bfig = bensampler.count().plot()\n",
    "bfig.set_xlabel('')\n",
    "#bfig.set_yticklabels([round(x, 2) for x in np.linspace(0, 1, num=len(bfig.get_yticklabels()))])\n",
    "sns.despine(offset=10, trim=False);\n",
    "plt.xticks(rotation=0)\n",
    "\n",
    "plt.grid(True)\n",
    "plt.legend(('Malware', 'Bengin'))\n",
    "plt.savefig('./plots/androzoo_distribution_overtime.pdf', bbox_inches='tight', transparent=True)"
   ]
  },
  {
   "cell_type": "code",
   "execution_count": null,
   "metadata": {},
   "outputs": [],
   "source": [
    "bfig.set_xlabel('')"
   ]
  },
  {
   "cell_type": "code",
   "execution_count": 652,
   "metadata": {},
   "outputs": [
    {
     "data": {
      "text/plain": [
       "[Text(480, 0, '0.0'),\n",
       " Text(492, 0, '0.14'),\n",
       " Text(504, 0, '0.29'),\n",
       " Text(516, 0, '0.43'),\n",
       " Text(528, 0, '0.57'),\n",
       " Text(540, 0, '0.71'),\n",
       " Text(552, 0, '0.86'),\n",
       " Text(564, 0, '1.0')]"
      ]
     },
     "execution_count": 652,
     "metadata": {},
     "output_type": "execute_result"
    }
   ],
   "source": [
    "bfig.set_xticklabels([round(x, 2) for x in np.linspace(0, 1, num=len(bfig.get_yticklabels()))])"
   ]
  },
  {
   "cell_type": "code",
   "execution_count": 640,
   "metadata": {},
   "outputs": [
    {
     "data": {
      "text/plain": [
       "8"
      ]
     },
     "execution_count": 640,
     "metadata": {},
     "output_type": "execute_result"
    }
   ],
   "source": [
    "range(0., 1., len(bfig.get_yticklabels())"
   ]
  },
  {
   "cell_type": "code",
   "execution_count": 643,
   "metadata": {},
   "outputs": [
    {
     "ename": "TypeError",
     "evalue": "'float' object cannot be interpreted as an integer",
     "output_type": "error",
     "traceback": [
      "\u001b[0;31m---------------------------------------------------------------------------\u001b[0m",
      "\u001b[0;31mTypeError\u001b[0m                                 Traceback (most recent call last)",
      "\u001b[0;32m<ipython-input-643-2d36b8b90dfb>\u001b[0m in \u001b[0;36m<module>\u001b[0;34m\u001b[0m\n\u001b[0;32m----> 1\u001b[0;31m \u001b[0mrange\u001b[0m\u001b[0;34m(\u001b[0m\u001b[0;36m0.\u001b[0m\u001b[0;34m,\u001b[0m \u001b[0;36m1.\u001b[0m\u001b[0;34m,\u001b[0m \u001b[0;36m4\u001b[0m\u001b[0;34m)\u001b[0m\u001b[0;34m\u001b[0m\u001b[0;34m\u001b[0m\u001b[0m\n\u001b[0m",
      "\u001b[0;31mTypeError\u001b[0m: 'float' object cannot be interpreted as an integer"
     ]
    }
   ],
   "source": [
    "range(0., 1., 4)"
   ]
  },
  {
   "cell_type": "code",
   "execution_count": 651,
   "metadata": {},
   "outputs": [
    {
     "data": {
      "text/plain": [
       "[0.0, 0.14, 0.29, 0.43, 0.57, 0.71, 0.86, 1.0]"
      ]
     },
     "execution_count": 651,
     "metadata": {},
     "output_type": "execute_result"
    }
   ],
   "source": [
    "[round(x, 2) for x in np.linspace(0, 1, num=len(bfig.get_yticklabels()))]"
   ]
  },
  {
   "cell_type": "code",
   "execution_count": null,
   "metadata": {},
   "outputs": [],
   "source": [
    "\n",
    "\n"
   ]
  },
  {
   "cell_type": "code",
   "execution_count": 553,
   "metadata": {},
   "outputs": [],
   "source": [
    "def evalDataset(result_df, mask, tag, probaUpperBorn = 0.9,  probaLowerBorn = 0.1):\n",
    "    results   = np.vstack(result_df.Proba.values)\n",
    "\n",
    "    truth         = result_df.Truth.iloc[0][mask]\n",
    "    paths         = result_df.Path.iloc[0][mask]\n",
    "    result_mean   = results.mean(axis=0)[mask]\n",
    "    predicted     = (result_mean > 0.5).astype('int')\n",
    "    f1score       = f1_score(truth, predicted)\n",
    "    recall        = recall_score(truth, predicted)\n",
    "    precision     = precision_score(truth, predicted)\n",
    "    \n",
    "    vtruth        = truth[(result_mean >= probaUpperBorn) | (result_mean <= probaLowerBorn)]\n",
    "    vpaths        = paths[(result_mean >= probaUpperBorn) | (result_mean <= probaLowerBorn)]\n",
    "    vresult_prob  = result_mean[(result_mean >= probaUpperBorn) | (result_mean <= probaLowerBorn)]\n",
    "    vpredicted    = (vresult_prob > 0.5).astype('int')\n",
    "    vcoverage     = (len(vtruth)/len(truth))\n",
    "    vextendSize   = len(vtruth)\n",
    "    vf1score      = f1_score(vtruth, vpredicted)\n",
    "    vrecall       = recall_score(vtruth, vpredicted)\n",
    "    vprecision    = precision_score(vtruth, vpredicted)\n",
    "    \n",
    "    message  = f'{tag:4d} '\n",
    "    message += f'f1score={f1score*100:2.4f}, recall={recall*100:2.4f}, precision={precision*100:2.4f}, '\n",
    "    message += f'vf1score={vf1score*100:2.4f}, vrecall={vrecall*100:2.4f}, vprecision={vprecision*100:2.4f}, vcoverage={vcoverage*100:2.4f}, '\n",
    "    #message += f'ecoverage={ecoverage*100:2.4f}, ef1score={ef1score*100:2.4f}, erestSize={erestSize}'\n",
    "\n",
    "    print(message)"
   ]
  },
  {
   "cell_type": "code",
   "execution_count": 554,
   "metadata": {},
   "outputs": [],
   "source": [
    "dataset_metaList = glob.glob('traces/detectionWS04/*.pickle')\n",
    "\n",
    "dataset_metaList = [ 'traces/detectionWS04/2013.pickle',\n",
    "                     'traces/detectionWS04/2014.pickle',\n",
    "                     'traces/detectionWS04/2015.pickle',\n",
    "                     'traces/detectionWS04/2016.pickle',\n",
    "                     'traces/detectionWS04/2017.pickle',\n",
    "                     'traces/detectionWS04/2018.pickle',\n",
    "                     'traces/detectionWS04/2019.pickle']\n",
    "timedf = pd.read_parquet('dataset/timedf.parquet')\n",
    "years = [2013, 2014, 2015, 2016, 2017, 2018, 2019]"
   ]
  },
  {
   "cell_type": "code",
   "execution_count": 555,
   "metadata": {},
   "outputs": [],
   "source": [
    "ensembleSize = 6"
   ]
  },
  {
   "cell_type": "code",
   "execution_count": 556,
   "metadata": {},
   "outputs": [
    {
     "name": "stdout",
     "output_type": "stream",
     "text": [
      "traces/detectionWS04/2013.pickle\n",
      "2014 f1score=94.9535, recall=90.8800, precision=99.4093, vf1score=98.1737, vrecall=96.5125, vprecision=99.8930, vcoverage=87.2800, \n",
      "2015 f1score=91.4027, recall=84.8400, precision=99.0659, vf1score=96.1052, vrecall=92.5721, vprecision=99.9187, vcoverage=87.8500, \n",
      "2016 f1score=77.5236, recall=63.3600, precision=99.8424, vf1score=83.0170, vrecall=70.9650, vprecision=100.0000, vcoverage=84.5100, \n",
      "2017 f1score=71.8934, recall=56.1200, precision=100.0000, vf1score=70.6061, vrecall=54.5668, vprecision=100.0000, vcoverage=83.9800, \n",
      "2018 f1score=56.3631, recall=39.2400, precision=100.0000, vf1score=54.8221, vrecall=37.7620, vprecision=100.0000, vcoverage=77.9000, \n",
      "2019 f1score=44.4790, recall=28.6000, precision=100.0000, vf1score=55.5974, vrecall=38.5017, vprecision=100.0000, vcoverage=70.9900, \n",
      "traces/detectionWS04/2014.pickle\n",
      "2013 f1score=96.5668, recall=97.3200, precision=95.8251, vf1score=98.6255, vrecall=98.6047, vprecision=98.6464, vcoverage=91.5000, \n",
      "2015 f1score=96.1004, recall=93.4000, precision=98.9616, vf1score=98.4138, vrecall=96.9642, vprecision=99.9073, vcoverage=91.9400, \n",
      "2016 f1score=84.0499, recall=72.7200, precision=99.5619, vf1score=88.5899, vrecall=79.5369, vprecision=99.9684, vcoverage=88.3700, \n",
      "2017 f1score=74.1095, recall=58.8800, precision=99.9660, vf1score=76.2183, vrecall=61.5747, vprecision=100.0000, vcoverage=85.6300, \n",
      "2018 f1score=67.4702, recall=50.9400, precision=99.8824, vf1score=71.8700, vrecall=56.0915, vprecision=100.0000, vcoverage=81.5200, \n",
      "2019 f1score=60.4463, recall=43.3400, precision=99.8618, vf1score=76.5987, vrecall=62.0728, vprecision=100.0000, vcoverage=76.7500, \n",
      "traces/detectionWS04/2015.pickle\n",
      "2013 f1score=94.5726, recall=97.5800, precision=91.7450, vf1score=98.0311, vrecall=99.0576, vprecision=97.0256, vcoverage=87.7000, \n",
      "2014 f1score=97.2754, recall=98.5400, precision=96.0429, vf1score=99.2935, vrecall=99.5770, vprecision=99.0116, vcoverage=91.6800, \n",
      "2016 f1score=94.1436, recall=89.7000, precision=99.0504, vf1score=97.4975, vrecall=95.3015, vprecision=99.7971, vcoverage=88.4400, \n",
      "2017 f1score=78.4056, recall=64.5200, precision=99.9071, vf1score=81.0731, vrecall=68.1705, vprecision=100.0000, vcoverage=85.2200, \n",
      "2018 f1score=80.6859, recall=67.7600, precision=99.7057, vf1score=85.4929, vrecall=74.7087, vprecision=99.9158, vcoverage=79.7100, \n",
      "2019 f1score=90.4236, recall=82.6200, precision=99.8550, vf1score=93.7684, vrecall=88.2679, vprecision=100.0000, vcoverage=90.1000, \n",
      "traces/detectionWS04/2016.pickle\n",
      "2013 f1score=92.8287, recall=97.8600, precision=88.2894, vf1score=97.7964, vrecall=99.2968, vprecision=96.3407, vcoverage=81.3800, \n",
      "2014 f1score=95.5911, recall=98.0000, precision=93.2978, vf1score=98.7260, vrecall=99.4607, vprecision=98.0021, vcoverage=83.7400, \n",
      "2015 f1score=96.5876, recall=98.5000, precision=94.7480, vf1score=98.9965, vrecall=99.5539, vprecision=98.4454, vcoverage=86.3200, \n",
      "2017 f1score=82.9553, recall=70.9600, precision=99.8312, vf1score=84.5751, vrecall=73.2728, vprecision=100.0000, vcoverage=82.7400, \n",
      "2018 f1score=86.8851, recall=77.1800, precision=99.3819, vf1score=93.3069, vrecall=87.5077, vprecision=99.9292, vcoverage=80.1900, \n",
      "2019 f1score=94.7114, recall=90.0800, precision=99.8448, vf1score=97.4552, vrecall=95.0367, vprecision=100.0000, vcoverage=89.8200, \n",
      "traces/detectionWS04/2017.pickle\n",
      "2013 f1score=82.3060, recall=99.0800, precision=70.3893, vf1score=90.0715, vrecall=99.8147, vprecision=82.0613, vcoverage=74.1000, \n",
      "2014 f1score=88.6092, recall=99.2600, precision=80.0226, vf1score=94.8148, vrecall=99.8959, vprecision=90.2256, vcoverage=78.3800, \n",
      "2015 f1score=89.5314, recall=98.7800, precision=81.8664, vf1score=94.9055, vrecall=99.7712, vprecision=90.4924, vcoverage=83.4000, \n",
      "2016 f1score=93.3020, recall=95.4200, precision=91.2761, vf1score=97.4197, vrecall=98.4812, vprecision=96.3809, vcoverage=86.0200, \n",
      "2018 f1score=94.2107, recall=90.4800, precision=98.2624, vf1score=97.7427, vrecall=96.1510, vprecision=99.3879, vcoverage=87.0100, \n",
      "2019 f1score=96.6311, recall=94.0800, precision=99.3243, vf1score=98.4169, vrecall=96.9976, vprecision=99.8783, vcoverage=89.3100, \n",
      "traces/detectionWS04/2018.pickle\n",
      "2013 f1score=80.8801, recall=99.6200, precision=68.0743, vf1score=91.7247, vrecall=99.9792, vprecision=84.7293, vcoverage=64.2500, \n",
      "2014 f1score=86.0417, recall=99.1200, precision=76.0123, vf1score=94.6934, vrecall=99.7309, vprecision=90.1403, vcoverage=67.7900, \n",
      "2015 f1score=87.7829, recall=99.3000, precision=78.6597, vf1score=94.5863, vrecall=99.8127, vprecision=89.8801, vcoverage=70.2600, \n",
      "2016 f1score=91.6833, recall=96.6800, precision=87.1776, vf1score=97.4604, vrecall=99.1650, vprecision=95.8133, vcoverage=71.4000, \n",
      "2017 f1score=97.2751, recall=97.1000, precision=97.4508, vf1score=99.4814, vrecall=99.3554, vprecision=99.6077, vcoverage=82.8800, \n",
      "2019 f1score=97.8935, recall=96.6600, precision=99.1588, vf1score=99.4071, vrecall=99.0335, vprecision=99.7836, vcoverage=92.9800, \n",
      "traces/detectionWS04/2019.pickle\n",
      "2013 f1score=79.0145, recall=99.7400, precision=65.4204, vf1score=89.4665, vrecall=99.9795, vprecision=80.9540, vcoverage=67.5300, \n",
      "2014 f1score=85.4858, recall=99.4200, precision=74.9774, vf1score=93.4940, vrecall=99.8559, vprecision=87.8942, vcoverage=70.1100, \n",
      "2015 f1score=87.0735, recall=99.0200, precision=77.6993, vf1score=93.9977, vrecall=99.8762, vprecision=88.7727, vcoverage=74.6200, \n",
      "2016 f1score=90.8045, recall=96.2800, precision=85.9183, vf1score=96.3288, vrecall=98.8794, vprecision=93.9065, vcoverage=76.0300, \n",
      "2017 f1score=94.5577, recall=92.7800, precision=96.4048, vf1score=98.6951, vrecall=98.3193, vprecision=99.0738, vcoverage=77.9200, \n",
      "2018 f1score=95.0979, recall=93.7000, precision=96.5382, vf1score=98.2493, vrecall=97.6943, vprecision=98.8106, vcoverage=87.6600, \n"
     ]
    }
   ],
   "source": [
    "for dbPath in dataset_metaList:\n",
    "    print(dbPath)\n",
    "    df = pd.read_pickle(dbPath)\n",
    "    for year in years:\n",
    "\n",
    "        models_df = df.models.iloc[0]\n",
    "        result_df = df.evalResuls.iloc[0]\n",
    "        models_df.sort_values(by=['vloss', 'tloss'], inplace=True)\n",
    "        selectedModelPaths = models_df.path.iloc[:ensembleSize].tolist()\n",
    "        current_result_df = result_df.loc[result_df.name.isin(selectedModelPaths)]\n",
    "        yearHashes = timedf.loc[timedf.year == year, 'sha256'].to_list()\n",
    "        masklst = np.array([True if x.split('/')[-1] in yearHashes else False for x in result_df.Path.iloc[0].tolist()])\n",
    "        if masklst.sum() != 0:\n",
    "            evalDataset(current_result_df, masklst, year)"
   ]
  },
  {
   "cell_type": "code",
   "execution_count": 278,
   "metadata": {},
   "outputs": [
    {
     "name": "stdout",
     "output_type": "stream",
     "text": [
      "traces/detectionWS04/2013.pickle\n",
      "2014 f1score=94.9535, recall=90.8800, precision=99.4093, vf1score=98.1737, vrecall=96.5125, vprecision=99.8930, vcoverage=87.2800, \n",
      "2015 f1score=91.4027, recall=84.8400, precision=99.0659, vf1score=96.1052, vrecall=92.5721, vprecision=99.9187, vcoverage=87.8500, \n",
      "2016 f1score=77.5236, recall=63.3600, precision=99.8424, vf1score=83.0170, vrecall=70.9650, vprecision=100.0000, vcoverage=84.5100, \n",
      "2017 f1score=71.8934, recall=56.1200, precision=100.0000, vf1score=70.6061, vrecall=54.5668, vprecision=100.0000, vcoverage=83.9800, \n",
      "2018 f1score=56.3631, recall=39.2400, precision=100.0000, vf1score=54.8221, vrecall=37.7620, vprecision=100.0000, vcoverage=77.9000, \n",
      "2019 f1score=44.4790, recall=28.6000, precision=100.0000, vf1score=55.5974, vrecall=38.5017, vprecision=100.0000, vcoverage=70.9900, \n",
      "traces/detectionWS04/2014.pickle\n",
      "2013 f1score=96.5668, recall=97.3200, precision=95.8251, vf1score=98.6255, vrecall=98.6047, vprecision=98.6464, vcoverage=91.5000, \n",
      "2015 f1score=96.1004, recall=93.4000, precision=98.9616, vf1score=98.4138, vrecall=96.9642, vprecision=99.9073, vcoverage=91.9400, \n",
      "2016 f1score=84.0499, recall=72.7200, precision=99.5619, vf1score=88.5899, vrecall=79.5369, vprecision=99.9684, vcoverage=88.3700, \n",
      "2017 f1score=74.1095, recall=58.8800, precision=99.9660, vf1score=76.2183, vrecall=61.5747, vprecision=100.0000, vcoverage=85.6300, \n",
      "2018 f1score=67.4702, recall=50.9400, precision=99.8824, vf1score=71.8700, vrecall=56.0915, vprecision=100.0000, vcoverage=81.5200, \n",
      "2019 f1score=60.4463, recall=43.3400, precision=99.8618, vf1score=76.5987, vrecall=62.0728, vprecision=100.0000, vcoverage=76.7500, \n",
      "traces/detectionWS04/2015.pickle\n",
      "2013 f1score=94.5726, recall=97.5800, precision=91.7450, vf1score=98.0311, vrecall=99.0576, vprecision=97.0256, vcoverage=87.7000, \n",
      "2014 f1score=97.2754, recall=98.5400, precision=96.0429, vf1score=99.2935, vrecall=99.5770, vprecision=99.0116, vcoverage=91.6800, \n",
      "2016 f1score=94.1436, recall=89.7000, precision=99.0504, vf1score=97.4975, vrecall=95.3015, vprecision=99.7971, vcoverage=88.4400, \n",
      "2017 f1score=78.4056, recall=64.5200, precision=99.9071, vf1score=81.0731, vrecall=68.1705, vprecision=100.0000, vcoverage=85.2200, \n",
      "2018 f1score=80.6859, recall=67.7600, precision=99.7057, vf1score=85.4929, vrecall=74.7087, vprecision=99.9158, vcoverage=79.7100, \n",
      "2019 f1score=90.4236, recall=82.6200, precision=99.8550, vf1score=93.7684, vrecall=88.2679, vprecision=100.0000, vcoverage=90.1000, \n",
      "traces/detectionWS04/2016.pickle\n",
      "2013 f1score=92.8287, recall=97.8600, precision=88.2894, vf1score=97.7964, vrecall=99.2968, vprecision=96.3407, vcoverage=81.3800, \n",
      "2014 f1score=95.5911, recall=98.0000, precision=93.2978, vf1score=98.7260, vrecall=99.4607, vprecision=98.0021, vcoverage=83.7400, \n",
      "2015 f1score=96.5876, recall=98.5000, precision=94.7480, vf1score=98.9965, vrecall=99.5539, vprecision=98.4454, vcoverage=86.3200, \n",
      "2017 f1score=82.9553, recall=70.9600, precision=99.8312, vf1score=84.5751, vrecall=73.2728, vprecision=100.0000, vcoverage=82.7400, \n",
      "2018 f1score=86.8851, recall=77.1800, precision=99.3819, vf1score=93.3069, vrecall=87.5077, vprecision=99.9292, vcoverage=80.1900, \n",
      "2019 f1score=94.7114, recall=90.0800, precision=99.8448, vf1score=97.4552, vrecall=95.0367, vprecision=100.0000, vcoverage=89.8200, \n",
      "traces/detectionWS04/2017.pickle\n",
      "2013 f1score=82.3060, recall=99.0800, precision=70.3893, vf1score=90.0715, vrecall=99.8147, vprecision=82.0613, vcoverage=74.1000, \n",
      "2014 f1score=88.6092, recall=99.2600, precision=80.0226, vf1score=94.8148, vrecall=99.8959, vprecision=90.2256, vcoverage=78.3800, \n",
      "2015 f1score=89.5314, recall=98.7800, precision=81.8664, vf1score=94.9055, vrecall=99.7712, vprecision=90.4924, vcoverage=83.4000, \n",
      "2016 f1score=93.3020, recall=95.4200, precision=91.2761, vf1score=97.4197, vrecall=98.4812, vprecision=96.3809, vcoverage=86.0200, \n",
      "2018 f1score=94.2107, recall=90.4800, precision=98.2624, vf1score=97.7427, vrecall=96.1510, vprecision=99.3879, vcoverage=87.0100, \n",
      "2019 f1score=96.6311, recall=94.0800, precision=99.3243, vf1score=98.4169, vrecall=96.9976, vprecision=99.8783, vcoverage=89.3100, \n",
      "traces/detectionWS04/2018.pickle\n",
      "2013 f1score=80.8801, recall=99.6200, precision=68.0743, vf1score=91.7247, vrecall=99.9792, vprecision=84.7293, vcoverage=64.2500, \n",
      "2014 f1score=86.0417, recall=99.1200, precision=76.0123, vf1score=94.6934, vrecall=99.7309, vprecision=90.1403, vcoverage=67.7900, \n",
      "2015 f1score=87.7829, recall=99.3000, precision=78.6597, vf1score=94.5863, vrecall=99.8127, vprecision=89.8801, vcoverage=70.2600, \n",
      "2016 f1score=91.6833, recall=96.6800, precision=87.1776, vf1score=97.4604, vrecall=99.1650, vprecision=95.8133, vcoverage=71.4000, \n",
      "2017 f1score=97.2751, recall=97.1000, precision=97.4508, vf1score=99.4814, vrecall=99.3554, vprecision=99.6077, vcoverage=82.8800, \n",
      "2019 f1score=97.8935, recall=96.6600, precision=99.1588, vf1score=99.4071, vrecall=99.0335, vprecision=99.7836, vcoverage=92.9800, \n",
      "traces/detectionWS04/2019.pickle\n",
      "2013 f1score=79.0145, recall=99.7400, precision=65.4204, vf1score=89.4665, vrecall=99.9795, vprecision=80.9540, vcoverage=67.5300, \n",
      "2014 f1score=85.4858, recall=99.4200, precision=74.9774, vf1score=93.4940, vrecall=99.8559, vprecision=87.8942, vcoverage=70.1100, \n",
      "2015 f1score=87.0735, recall=99.0200, precision=77.6993, vf1score=93.9977, vrecall=99.8762, vprecision=88.7727, vcoverage=74.6200, \n",
      "2016 f1score=90.8045, recall=96.2800, precision=85.9183, vf1score=96.3288, vrecall=98.8794, vprecision=93.9065, vcoverage=76.0300, \n",
      "2017 f1score=94.5577, recall=92.7800, precision=96.4048, vf1score=98.6951, vrecall=98.3193, vprecision=99.0738, vcoverage=77.9200, \n",
      "2018 f1score=95.0979, recall=93.7000, precision=96.5382, vf1score=98.2493, vrecall=97.6943, vprecision=98.8106, vcoverage=87.6600, \n"
     ]
    }
   ],
   "source": [
    "for dbPath in dataset_metaList:\n",
    "    print(dbPath)\n",
    "    df = pd.read_pickle(dbPath)\n",
    "    for year in years:\n",
    "\n",
    "        models_df = df.models.iloc[0]\n",
    "        result_df = df.evalResuls.iloc[0]\n",
    "        models_df.sort_values(by=['vloss', 'tloss'], inplace=True)\n",
    "        selectedModelPaths = models_df.path.iloc[:ensembleSize].tolist()\n",
    "        current_result_df = result_df.loc[result_df.name.isin(selectedModelPaths)]\n",
    "        yearHashes = timedf.loc[timedf.year == year, 'sha256'].to_list()\n",
    "        masklst = np.array([True if x.split('/')[-1] in yearHashes else False for x in result_df.Path.iloc[0].tolist()])\n",
    "        if masklst.sum() != 0:\n",
    "            evalDataset(current_result_df, masklst, year)"
   ]
  },
  {
   "cell_type": "code",
   "execution_count": 296,
   "metadata": {},
   "outputs": [],
   "source": [
    "markersizeParam = 10\n",
    "linewidthParam  = 5\n",
    "alphaParam=0.8"
   ]
  },
  {
   "cell_type": "markdown",
   "metadata": {},
   "source": [
    "yeas = [2014, 2015, 2016, 2017, 2018, 2019,]\n",
    "gf1  = [94.95, 91.40, 77.52, 71.89, 56.36, 44.47,]\n",
    "cf1  = [98.17, 96.10, 93.01, 70.60, 54.82, 55.59,]"
   ]
  },
  {
   "cell_type": "code",
   "execution_count": 595,
   "metadata": {},
   "outputs": [],
   "source": [
    "sns.set(style=\"white\", color_codes=True, font_scale=1.7)"
   ]
  },
  {
   "cell_type": "code",
   "execution_count": 599,
   "metadata": {},
   "outputs": [
    {
     "data": {
      "image/png": "[encoded data removed]",
      "text/plain": [
       "<Figure size 432x288 with 1 Axes>"
      ]
     },
     "metadata": {},
     "output_type": "display_data"
    }
   ],
   "source": [
    "training_year = 2013\n",
    "yeas = [2014, 2015, 2016, 2017, 2018, 2019,]\n",
    "gf1  = [94.95, 91.40, 77.52, 71.89, 56.36, 44.47,]\n",
    "cf1  = [98.17, 96.10, 93.01, 70.60, 54.82, 55.59,]\n",
    "\n",
    "ax = plt.subplot()\n",
    "ax.plot(yeas, gf1, '-s',  alpha=alphaParam, linewidth=linewidthParam, markersize=markersizeParam, label='General F1 %')\n",
    "ax.plot(yeas, cf1, '-.o', alpha=alphaParam, linewidth=linewidthParam, markersize=markersizeParam, label='Confedance F1 %')\n",
    "\n",
    "ax.set_ylim((-1.1, 101))\n",
    "\n",
    "ax.set_yticks(np.arange(0, 101, 10)) \n",
    "ax.set_xticks(yeas) \n",
    "\n",
    "sns.despine(offset=10, trim=True);\n",
    "\n",
    "#plt.xticks(range(len(yeas)), list([str(yr) for yr in yeas]))\n",
    "plt.grid(True)\n",
    "plt.legend()\n",
    "plt.tight_layout()\n",
    "plt.savefig('./plots/detection_overtime_' + str(training_year) + '.pdf', bbox_inches='tight', transparent=True)"
   ]
  },
  {
   "cell_type": "code",
   "execution_count": 600,
   "metadata": {},
   "outputs": [
    {
     "data": {
      "image/png": "[encoded data removed]",
      "text/plain": [
       "<Figure size 432x288 with 1 Axes>"
      ]
     },
     "metadata": {},
     "output_type": "display_data"
    }
   ],
   "source": [
    "training_year = 2014\n",
    "yeas = [2013, 2015, 2016, 2017, 2018, 2019,]\n",
    "gf1  = [96.56, 96.10, 84.04, 74.10, 67.47, 60.44,]\n",
    "cf1  = [98.62, 98.41, 88.58, 76.21, 71.87, 76.59,]\n",
    "\n",
    "ax = plt.subplot()\n",
    "ax.plot(yeas, gf1, '-s',  alpha=alphaParam, linewidth=linewidthParam, markersize=markersizeParam, label='General F1 %')\n",
    "ax.plot(yeas, cf1, '-.o', alpha=alphaParam, linewidth=linewidthParam, markersize=markersizeParam, label='Confedance F1 %')\n",
    "\n",
    "ax.set_ylim((-1.1, 101))\n",
    "ax.set_yticks(np.arange(0, 101, 10)) \n",
    "sns.despine(offset=10, trim=True);\n",
    "\n",
    "#plt.xticks(range(len(yeas)), list([str(yr) for yr in yeas]))\n",
    "plt.grid(True)\n",
    "plt.legend()\n",
    "plt.tight_layout()\n",
    "plt.savefig('./plots/detection_overtime_' + str(training_year) + '.pdf', bbox_inches='tight', transparent=True)"
   ]
  },
  {
   "cell_type": "code",
   "execution_count": 601,
   "metadata": {},
   "outputs": [
    {
     "data": {
      "image/png": "[encoded data removed]",
      "text/plain": [
       "<Figure size 432x288 with 1 Axes>"
      ]
     },
     "metadata": {},
     "output_type": "display_data"
    }
   ],
   "source": [
    "training_year = 2015\n",
    "yeas = [2013, 2014, 2016, 2017, 2018, 2019,]\n",
    "gf1  = [94.57, 97.27, 94.14, 78.40, 80.68, 90.42,]\n",
    "cf1  = [98.03, 99.29, 97.49, 81.07, 85.49, 93.76,]\n",
    "\n",
    "ax = plt.subplot()\n",
    "ax.plot(yeas, gf1, '-s',  alpha=alphaParam, linewidth=linewidthParam, markersize=markersizeParam, label='General F1 %')\n",
    "ax.plot(yeas, cf1, '-.o', alpha=alphaParam, linewidth=linewidthParam, markersize=markersizeParam, label='Confedance F1 %')\n",
    "\n",
    "ax.set_ylim((-1.1, 101))\n",
    "ax.set_yticks(np.arange(0, 101, 10)) \n",
    "sns.despine(offset=10, trim=True);\n",
    "\n",
    "#plt.xticks(range(len(yeas)), list([str(yr) for yr in yeas]))\n",
    "plt.grid(True)\n",
    "plt.legend()\n",
    "plt.tight_layout()\n",
    "plt.savefig('./plots/detection_overtime_' + str(training_year) + '.pdf', bbox_inches='tight', transparent=True)"
   ]
  },
  {
   "cell_type": "code",
   "execution_count": 602,
   "metadata": {},
   "outputs": [
    {
     "data": {
      "image/png": "[encoded data removed]",
      "text/plain": [
       "<Figure size 432x288 with 1 Axes>"
      ]
     },
     "metadata": {},
     "output_type": "display_data"
    }
   ],
   "source": [
    "training_year = 2016\n",
    "yeas = [2013, 2014, 2015, 2017, 2018, 2019,]\n",
    "gf1  = [92.82, 95.59, 96.58, 82.95, 86.88, 94.71,]\n",
    "cf1  = [97.79, 98.72, 98.99, 84.57, 93.30, 97.45,]\n",
    "\n",
    "ax = plt.subplot()\n",
    "ax.plot(yeas, gf1, '-s',  alpha=alphaParam, linewidth=linewidthParam, markersize=markersizeParam, label='General F1 %')\n",
    "ax.plot(yeas, cf1, '-.o', alpha=alphaParam, linewidth=linewidthParam, markersize=markersizeParam, label='Confedance F1 %')\n",
    "\n",
    "ax.set_ylim((-1.1, 101))\n",
    "ax.set_yticks(np.arange(0, 101, 10)) \n",
    "sns.despine(offset=10, trim=True);\n",
    "\n",
    "#plt.xticks(range(len(yeas)), list([str(yr) for yr in yeas]))\n",
    "plt.grid(True)\n",
    "plt.legend()\n",
    "plt.tight_layout()\n",
    "plt.savefig('./plots/detection_overtime_' + str(training_year) + '.pdf', bbox_inches='tight', transparent=True)"
   ]
  },
  {
   "cell_type": "code",
   "execution_count": 603,
   "metadata": {},
   "outputs": [
    {
     "data": {
      "image/png": "[encoded data removed]",
      "text/plain": [
       "<Figure size 432x288 with 1 Axes>"
      ]
     },
     "metadata": {},
     "output_type": "display_data"
    }
   ],
   "source": [
    "training_year = 2017\n",
    "yeas = [2013, 2014, 2015, 2016, 2018, 2019,]\n",
    "gf1  = [82.30, 88.60, 89.53, 93.30, 94.21, 96.63,]\n",
    "cf1  = [90.07, 94.81, 94.90, 97.41, 97.74, 98.41,]\n",
    "\n",
    "\n",
    "ax = plt.subplot()\n",
    "ax.plot(yeas, gf1, '-s',  alpha=alphaParam, linewidth=linewidthParam, markersize=markersizeParam, label='General F1 %')\n",
    "ax.plot(yeas, cf1, '-.o', alpha=alphaParam, linewidth=linewidthParam, markersize=markersizeParam, label='Confedance F1 %')\n",
    "\n",
    "ax.set_ylim((-1.1, 101))\n",
    "ax.set_yticks(np.arange(0, 101, 10)) \n",
    "sns.despine(offset=10, trim=True);\n",
    "\n",
    "#plt.xticks(range(len(yeas)), list([str(yr) for yr in yeas]))\n",
    "plt.grid(True)\n",
    "plt.legend()\n",
    "plt.tight_layout()\n",
    "plt.savefig('./plots/detection_overtime_' + str(training_year) + '.pdf', bbox_inches='tight', transparent=True)"
   ]
  },
  {
   "cell_type": "code",
   "execution_count": 604,
   "metadata": {},
   "outputs": [
    {
     "data": {
      "image/png": "[encoded data removed]",
      "text/plain": [
       "<Figure size 432x288 with 1 Axes>"
      ]
     },
     "metadata": {},
     "output_type": "display_data"
    }
   ],
   "source": [
    "training_year = 2018\n",
    "yeas = [2013, 2014, 2015, 2016, 2017, 2019,]\n",
    "gf1  = [80.88, 86.04, 87.78, 91.68, 97.27, 97.89,]\n",
    "cf1  = [91.72, 94.69, 94.58, 97.46, 99.48, 99.40,]\n",
    "\n",
    "\n",
    "ax = plt.subplot()\n",
    "ax.plot(yeas, gf1, '-s',  alpha=alphaParam, linewidth=linewidthParam, markersize=markersizeParam, label='General F1 %')\n",
    "ax.plot(yeas, cf1, '-.o', alpha=alphaParam, linewidth=linewidthParam, markersize=markersizeParam, label='Confedance F1 %')\n",
    "\n",
    "ax.set_ylim((-1.1, 101))\n",
    "ax.set_yticks(np.arange(0, 101, 10)) \n",
    "sns.despine(offset=10, trim=True);\n",
    "\n",
    "#plt.xticks(range(len(yeas)), list([str(yr) for yr in yeas]))\n",
    "plt.grid(True)\n",
    "plt.legend()\n",
    "plt.tight_layout()\n",
    "plt.savefig('./plots/detection_overtime_' + str(training_year) + '.pdf', bbox_inches='tight', transparent=True)"
   ]
  },
  {
   "cell_type": "code",
   "execution_count": 605,
   "metadata": {},
   "outputs": [
    {
     "data": {
      "image/png": "[encoded data removed]",
      "text/plain": [
       "<Figure size 432x288 with 1 Axes>"
      ]
     },
     "metadata": {},
     "output_type": "display_data"
    }
   ],
   "source": [
    "training_year = 2019\n",
    "yeas = [2013, 2014, 2015, 2016, 2017, 2018,]\n",
    "gf1  = [79.01, 85.48, 87.07, 90.80, 94.55, 95.09,]\n",
    "cf1  = [89.46, 93.49, 93.99, 96.32, 98.69, 98.24,]\n",
    "\n",
    "\n",
    "ax = plt.subplot()\n",
    "ax.plot(yeas, gf1, '-s',  alpha=alphaParam, linewidth=linewidthParam, markersize=markersizeParam, label='General F1 %')\n",
    "ax.plot(yeas, cf1, '-.o', alpha=alphaParam, linewidth=linewidthParam, markersize=markersizeParam, label='Confedance F1 %')\n",
    "\n",
    "ax.set_ylim((-1.1, 101))\n",
    "ax.set_yticks(np.arange(0, 101, 10)) \n",
    "sns.despine(offset=10, trim=True);\n",
    "\n",
    "#plt.xticks(range(len(yeas)), list([str(yr) for yr in yeas]))\n",
    "plt.grid(True)\n",
    "plt.legend()\n",
    "plt.tight_layout()\n",
    "plt.savefig('./plots/detection_overtime_' + str(training_year) + '.pdf', bbox_inches='tight', transparent=True)"
   ]
  },
  {
   "cell_type": "code",
   "execution_count": null,
   "metadata": {},
   "outputs": [],
   "source": []
  },
  {
   "cell_type": "code",
   "execution_count": null,
   "metadata": {},
   "outputs": [],
   "source": []
  },
  {
   "cell_type": "code",
   "execution_count": 284,
   "metadata": {},
   "outputs": [
    {
     "data": {
      "text/plain": [
       "[2014, 2015, 2016, 2017, 2018, 2019]"
      ]
     },
     "execution_count": 284,
     "metadata": {},
     "output_type": "execute_result"
    }
   ],
   "source": [
    "yeas"
   ]
  },
  {
   "cell_type": "code",
   "execution_count": null,
   "metadata": {},
   "outputs": [],
   "source": []
  },
  {
   "cell_type": "code",
   "execution_count": 317,
   "metadata": {},
   "outputs": [],
   "source": [
    "dataset_metaList = glob.glob('traces/comparativeWS01/*.pickle')\n"
   ]
  },
  {
   "cell_type": "code",
   "execution_count": 318,
   "metadata": {},
   "outputs": [
    {
     "data": {
      "text/plain": [
       "['traces/comparativeWS01/2014_new.pickle',\n",
       " 'traces/comparativeWS01/2015_new.pickle',\n",
       " 'traces/comparativeWS01/2016_new.pickle',\n",
       " 'traces/comparativeWS01/2014_old.pickle',\n",
       " 'traces/comparativeWS01/2013_old.pickle',\n",
       " 'traces/comparativeWS01/drebin_old.pickle']"
      ]
     },
     "execution_count": 318,
     "metadata": {},
     "output_type": "execute_result"
    }
   ],
   "source": [
    "dataset_metaList"
   ]
  },
  {
   "cell_type": "code",
   "execution_count": 564,
   "metadata": {},
   "outputs": [],
   "source": [
    "def evalDataset(result_df, mask, tag, probaUpperBorn = 0.9,  probaLowerBorn = 0.1):\n",
    "    results   = np.vstack(result_df.Proba.values)\n",
    "\n",
    "    truth         = result_df.Truth.iloc[0][mask]\n",
    "    paths         = result_df.Path.iloc[0][mask]\n",
    "    result_mean   = results.mean(axis=0)[mask]\n",
    "    predicted     = (result_mean > 0.5).astype('int')\n",
    "    f1score       = f1_score(truth, predicted)\n",
    "    recall        = recall_score(truth, predicted)\n",
    "    precision     = precision_score(truth, predicted)\n",
    "    \n",
    "    vtruth        = truth[(result_mean >= probaUpperBorn) | (result_mean <= probaLowerBorn)]\n",
    "    vpaths        = paths[(result_mean >= probaUpperBorn) | (result_mean <= probaLowerBorn)]\n",
    "    vresult_prob  = result_mean[(result_mean >= probaUpperBorn) | (result_mean <= probaLowerBorn)]\n",
    "    vpredicted    = (vresult_prob > 0.5).astype('int')\n",
    "    vcoverage     = (len(vtruth)/len(truth))\n",
    "    vextendSize   = len(vtruth)\n",
    "    vf1score      = f1_score(vtruth, vpredicted)\n",
    "    vrecall       = recall_score(vtruth, vpredicted)\n",
    "    vprecision    = precision_score(vtruth, vpredicted)\n",
    "    \n",
    "    message  = f'{tag} '\n",
    "    message += f'f1score={f1score*100:2.4f}, recall={recall*100:2.4f}, precision={precision*100:2.4f}, '\n",
    "    message += f'vf1score={vf1score*100:2.4f}, vrecall={vrecall*100:2.4f}, vprecision={vprecision*100:2.4f}, vcoverage={vcoverage*100:2.4f}, '\n",
    "    #message += f'ecoverage={ecoverage*100:2.4f}, ef1score={ef1score*100:2.4f}, erestSize={erestSize}'\n",
    "\n",
    "    print(message)"
   ]
  },
  {
   "cell_type": "code",
   "execution_count": 497,
   "metadata": {},
   "outputs": [
    {
     "data": {
      "text/plain": [
       "['traces/comparativeWS01/drebin_old.pickle']"
      ]
     },
     "execution_count": 497,
     "metadata": {},
     "output_type": "execute_result"
    }
   ],
   "source": [
    "dataset_metaList = glob.glob('traces/comparativeWS01/*.pickle')\n",
    "dataset_metaList"
   ]
  },
  {
   "cell_type": "code",
   "execution_count": 498,
   "metadata": {},
   "outputs": [],
   "source": [
    "dataset_metaList =['traces/comparativeWS01/drebin_old.pickle',\n",
    "                   'traces/comparativeWS01/2013_old.pickle',\n",
    "                   'traces/comparativeWS01/2014_old.pickle',\n",
    "                   'traces/comparativeWS01/2014_new.pickle',\n",
    "                   'traces/comparativeWS01/2015_new.pickle',\n",
    "                   'traces/comparativeWS01/2016_new.pickle',\n",
    "                     ]\n",
    "\n",
    "#timedf = pd.read_parquet('dataset/timedf.parquet')\n",
    "#years = [2013, 2014, 2015, 2016, 2017, 2018, 2019]"
   ]
  },
  {
   "cell_type": "code",
   "execution_count": 338,
   "metadata": {},
   "outputs": [
    {
     "name": "stderr",
     "output_type": "stream",
     "text": [
      "/opt/conda/envs/py36/lib/python3.6/site-packages/IPython/core/interactiveshell.py:3326: FutureWarning: The read_msgpack is deprecated and will be removed in a future version.\n",
      "It is recommended to use pyarrow for on-the-wire transmission of pandas objects.\n",
      "  exec(code_obj, self.user_global_ns, self.user_ns)\n"
     ]
    },
    {
     "name": "stdout",
     "output_type": "stream",
     "text": [
      "41712\n"
     ]
    }
   ],
   "source": [
    "mamadroid_meta_df = pd.read_parquet('dataset/mamadroid_meta.parquet')\n",
    "mamadroid_meta_df = mamadroid_meta_df[['sha256', 'year', 'tag']]\n",
    "\n",
    "drebin_df = pd.read_msgpack('/ws/mnt/habouch/datasets/android_dataset/meta/drebin_meta.msg')\n",
    "drebin_df = drebin_df[['sha256']]\n",
    "drebin_df['tag'] = 'malware'\n",
    "drebin_df['year'] = 'drebin'\n",
    "drebin_df.reset_index(drop=True, inplace=True)\n",
    "\n",
    "mamadroid_df = pd.concat([mamadroid_meta_df, drebin_df], sort=False)\n",
    "mamadroid_df.drop_duplicates(subset='sha256', inplace=True)\n",
    "\n",
    "doneList = [item.split('/')[-1] for item in glob.glob('/ws/mnt/local/data/output/mamadroid/*')]\n",
    "mamadroid_df = mamadroid_df.loc[mamadroid_df.sha256.isin(doneList)]\n",
    "\n",
    "mamadroid_df['label'] = (mamadroid_df.tag == 'malware').apply(int)\n",
    "mamadroid_df['filePath'] = '/ws/mnt/local/data/output/mamadroid/' + mamadroid_df.sha256\n",
    "print(len(mamadroid_df))"
   ]
  },
  {
   "cell_type": "code",
   "execution_count": 339,
   "metadata": {},
   "outputs": [
    {
     "name": "stderr",
     "output_type": "stream",
     "text": [
      "/opt/conda/envs/py36/lib/python3.6/site-packages/ipykernel_launcher.py:3: SettingWithCopyWarning: \n",
      "A value is trying to be set on a copy of a slice from a DataFrame\n",
      "\n",
      "See the caveats in the documentation: http://pandas.pydata.org/pandas-docs/stable/user_guide/indexing.html#returning-a-view-versus-a-copy\n",
      "  This is separate from the ipykernel package so we can avoid doing imports until\n"
     ]
    },
    {
     "name": "stdout",
     "output_type": "stream",
     "text": [
      "40706\n",
      "37758\n"
     ]
    },
    {
     "name": "stderr",
     "output_type": "stream",
     "text": [
      "/opt/conda/envs/py36/lib/python3.6/site-packages/ipykernel_launcher.py:9: SettingWithCopyWarning: \n",
      "A value is trying to be set on a copy of a slice from a DataFrame\n",
      "\n",
      "See the caveats in the documentation: http://pandas.pydata.org/pandas-docs/stable/user_guide/indexing.html#returning-a-view-versus-a-copy\n",
      "  if __name__ == '__main__':\n"
     ]
    },
    {
     "data": {
      "text/html": [
       "<div>\n",
       "<style scoped>\n",
       "    .dataframe tbody tr th:only-of-type {\n",
       "        vertical-align: middle;\n",
       "    }\n",
       "\n",
       "    .dataframe tbody tr th {\n",
       "        vertical-align: top;\n",
       "    }\n",
       "\n",
       "    .dataframe thead th {\n",
       "        text-align: right;\n",
       "    }\n",
       "</style>\n",
       "<table border=\"1\" class=\"dataframe\">\n",
       "  <thead>\n",
       "    <tr style=\"text-align: right;\">\n",
       "      <th></th>\n",
       "      <th></th>\n",
       "      <th>sha256</th>\n",
       "      <th>tag</th>\n",
       "      <th>filePath</th>\n",
       "    </tr>\n",
       "    <tr>\n",
       "      <th>year</th>\n",
       "      <th>label</th>\n",
       "      <th></th>\n",
       "      <th></th>\n",
       "      <th></th>\n",
       "    </tr>\n",
       "  </thead>\n",
       "  <tbody>\n",
       "    <tr>\n",
       "      <th>2013</th>\n",
       "      <th>1</th>\n",
       "      <td>6928</td>\n",
       "      <td>6928</td>\n",
       "      <td>6928</td>\n",
       "    </tr>\n",
       "    <tr>\n",
       "      <th>2014</th>\n",
       "      <th>1</th>\n",
       "      <td>13654</td>\n",
       "      <td>13654</td>\n",
       "      <td>13654</td>\n",
       "    </tr>\n",
       "    <tr>\n",
       "      <th>2015</th>\n",
       "      <th>1</th>\n",
       "      <td>3732</td>\n",
       "      <td>3732</td>\n",
       "      <td>3732</td>\n",
       "    </tr>\n",
       "    <tr>\n",
       "      <th>2016</th>\n",
       "      <th>1</th>\n",
       "      <td>2184</td>\n",
       "      <td>2184</td>\n",
       "      <td>2184</td>\n",
       "    </tr>\n",
       "    <tr>\n",
       "      <th>drebin</th>\n",
       "      <th>1</th>\n",
       "      <td>4636</td>\n",
       "      <td>4636</td>\n",
       "      <td>4636</td>\n",
       "    </tr>\n",
       "    <tr>\n",
       "      <th>new</th>\n",
       "      <th>0</th>\n",
       "      <td>1638</td>\n",
       "      <td>1638</td>\n",
       "      <td>1638</td>\n",
       "    </tr>\n",
       "    <tr>\n",
       "      <th>old</th>\n",
       "      <th>0</th>\n",
       "      <td>4986</td>\n",
       "      <td>4986</td>\n",
       "      <td>4986</td>\n",
       "    </tr>\n",
       "  </tbody>\n",
       "</table>\n",
       "</div>"
      ],
      "text/plain": [
       "              sha256    tag  filePath\n",
       "year   label                         \n",
       "2013   1        6928   6928      6928\n",
       "2014   1       13654  13654     13654\n",
       "2015   1        3732   3732      3732\n",
       "2016   1        2184   2184      2184\n",
       "drebin 1        4636   4636      4636\n",
       "new    0        1638   1638      1638\n",
       "old    0        4986   4986      4986"
      ]
     },
     "execution_count": 339,
     "metadata": {},
     "output_type": "execute_result"
    }
   ],
   "source": [
    "#androzoo_df = pd.read_parquet('dataset/androzoo_meta.parquet')\n",
    "df = androzoo_df.loc[androzoo_df.sha256.isin(mamadroid_df.loc[mamadroid_df.label == 0, 'sha256'])]\n",
    "df.dropna(subset=['vt_detection'], inplace=True)\n",
    "df = df.loc[df.vt_detection > 0]\n",
    "mamadroid_df = mamadroid_df.loc[~mamadroid_df.sha256.isin(df.sha256)]\n",
    "print(len(mamadroid_df))\n",
    "\n",
    "df = androzoo_df.loc[androzoo_df.sha256.isin(mamadroid_df.loc[mamadroid_df.label == 1, 'sha256'])]\n",
    "df.dropna(subset=['vt_detection'], inplace=True)\n",
    "df = df.loc[df.vt_detection < 4]\n",
    "mamadroid_df = mamadroid_df.loc[~mamadroid_df.sha256.isin(df.sha256)]\n",
    "print(len(mamadroid_df))\n",
    "\n",
    "mamadroid_df.groupby(['year', 'label']).count()"
   ]
  },
  {
   "cell_type": "raw",
   "metadata": {},
   "source": [
    "tags = [\n",
    "        ['drebin', 'old'],\n",
    "        ['2013',   'old'],\n",
    "        ['2014',   'old'],\n",
    "        ['2014',   'new'],\n",
    "        ['2015',   'new'],\n",
    "        ['2016',   'new'],\n",
    "       ]"
   ]
  },
  {
   "cell_type": "code",
   "execution_count": 492,
   "metadata": {},
   "outputs": [],
   "source": []
  },
  {
   "cell_type": "code",
   "execution_count": null,
   "metadata": {},
   "outputs": [],
   "source": [
    "for btag in benignTags:\n",
    "    for mtag in ben"
   ]
  },
  {
   "cell_type": "code",
   "execution_count": null,
   "metadata": {},
   "outputs": [],
   "source": [
    "dbPath = dataset_metaList[0]"
   ]
  },
  {
   "cell_type": "code",
   "execution_count": 502,
   "metadata": {},
   "outputs": [
    {
     "data": {
      "text/plain": [
       "['2016', 'new']"
      ]
     },
     "execution_count": 502,
     "metadata": {},
     "output_type": "execute_result"
    }
   ],
   "source": [
    "ensembleSize = 6\n",
    "dbPath       = dataset_metaList[0]\n",
    "tag          = tags[-1]"
   ]
  },
  {
   "cell_type": "code",
   "execution_count": 549,
   "metadata": {},
   "outputs": [],
   "source": [
    "tags = [\n",
    "        ['drebin', 'old'],\n",
    "        ['2013',   'old'],\n",
    "        ['2014',   'old'],\n",
    "        ['2015',   'old'],\n",
    "        ['2016',   'old'],\n",
    "        ['drebin', 'new'],\n",
    "        ['2013',   'new'],\n",
    "        ['2014',   'new'],\n",
    "        ['2015',   'new'],\n",
    "        ['2016',   'new'],\n",
    "       ]"
   ]
  },
  {
   "cell_type": "code",
   "execution_count": 548,
   "metadata": {},
   "outputs": [
    {
     "name": "stdout",
     "output_type": "stream",
     "text": [
      "drebin_old f1score=99.4282, recall=99.3960, precision=99.4604, vf1score=99.8563, vrecall=99.8673, vprecision=99.8452, vcoverage=97.4434, \n",
      "2013_old f1score=98.6221, recall=97.6328, precision=99.6318, vf1score=99.6964, vrecall=99.5225, vprecision=99.8710, vcoverage=86.4445, \n",
      "2014_old f1score=73.2487, recall=57.8951, precision=99.6847, vf1score=83.1139, vrecall=71.1773, vprecision=99.8607, vcoverage=63.8627, \n",
      "2015_old f1score=40.9735, recall=25.9378, precision=97.4824, vf1score=39.1619, vrecall=24.4297, vprecision=98.6564, vcoverage=79.8119, \n",
      "2016_old f1score=44.4366, recall=28.8919, precision=96.1890, vf1score=35.7469, vrecall=21.8850, vprecision=97.5089, vcoverage=85.1604, \n",
      "drebin_new f1score=99.5248, recall=99.3960, precision=99.6540, vf1score=99.9226, vrecall=99.8673, vprecision=99.9779, vcoverage=97.3063, \n",
      "2013_new f1score=98.6869, recall=97.6328, precision=99.7640, vf1score=99.7515, vrecall=99.5225, vprecision=99.9815, vcoverage=82.0453, \n",
      "2014_new f1score=73.2793, recall=57.8951, precision=99.7980, vf1score=83.1552, vrecall=71.1773, vprecision=99.9801, vcoverage=56.4544, \n",
      "2015_new f1score=41.0517, recall=25.9378, precision=98.3740, vf1score=39.2516, vrecall=24.4297, vprecision=99.8058, vcoverage=68.6592, \n",
      "2016_new f1score=44.5779, recall=28.8919, precision=97.5270, vf1score=35.8874, vrecall=21.8850, vprecision=99.6364, vcoverage=74.1758, \n"
     ]
    }
   ],
   "source": [
    "dbPath = 'traces/comparativeWS01/drebin_old.pickle'\n",
    "for tag in tags:\n",
    "    current_tag = \"_\".join(tag)\n",
    "    tag_df      = mamadroid_df.loc[(mamadroid_df.year == tag[0]) | (mamadroid_df.year == tag[1])]\n",
    "    taglist     = tag_df.sha256.values\n",
    "\n",
    "    df        = pd.read_pickle(dbPath)\n",
    "    models_df = df.models.iloc[0]\n",
    "    result_df = df.evalResuls.iloc[0]\n",
    "\n",
    "    filePathList = result_df.Path.iloc[0]\n",
    "    fileHashList = [x.split('/')[-1] for x in filePathList]\n",
    "    masklist     = [True if x in taglist else False for x in fileHashList]\n",
    "\n",
    "    models_df.sort_values(by=['vloss', 'tloss'], inplace=True)\n",
    "    selectedModelPaths = models_df.path.iloc[:ensembleSize].tolist()\n",
    "    current_result_df = result_df.loc[result_df.name.isin(selectedModelPaths)]\n",
    "    evalDataset(current_result_df, masklist, current_tag)"
   ]
  },
  {
   "cell_type": "code",
   "execution_count": 550,
   "metadata": {},
   "outputs": [
    {
     "name": "stdout",
     "output_type": "stream",
     "text": [
      "drebin_old f1score=97.8285, recall=96.2036, precision=99.5091, vf1score=99.3330, vrecall=98.8855, vprecision=99.7846, vcoverage=94.0865, \n",
      "2013_old f1score=99.6100, recall=99.5381, precision=99.6820, vf1score=99.8309, vrecall=99.7942, vprecision=99.8676, vcoverage=97.7002, \n",
      "2014_old f1score=85.3886, recall=74.6228, precision=99.7845, vf1score=92.0168, vrecall=85.3004, vprecision=99.8812, vcoverage=73.5354, \n",
      "2015_old f1score=59.3217, recall=42.4169, precision=98.6293, vf1score=67.1968, vrecall=50.8730, vprecision=98.9461, vcoverage=74.5240, \n",
      "2016_old f1score=56.5670, recall=39.8352, precision=97.5336, vf1score=61.6541, vrecall=44.9315, vprecision=98.2036, vcoverage=82.7197, \n",
      "drebin_new f1score=97.9681, recall=96.2036, precision=99.7986, vf1score=99.3804, vrecall=98.8855, vprecision=99.8802, vcoverage=92.2219, \n",
      "2013_new f1score=99.7036, recall=99.5381, precision=99.8697, vf1score=99.8603, vrecall=99.7942, vprecision=99.9264, vcoverage=97.7469, \n",
      "2014_new f1score=85.4352, recall=74.6228, precision=99.9117, vf1score=92.0392, vrecall=85.3004, vprecision=99.9340, vcoverage=68.2710, \n",
      "2015_new f1score=59.4666, recall=42.4169, precision=99.4347, vf1score=67.3039, vrecall=50.8730, vprecision=99.4118, vcoverage=60.1490, \n",
      "2016_new f1score=56.8071, recall=39.8352, precision=98.9761, vf1score=61.8090, vrecall=44.9315, vprecision=98.9940, vcoverage=69.7017, \n"
     ]
    }
   ],
   "source": [
    "dbPath = 'traces/comparativeWS01/2013_old.pickle'\n",
    "for tag in tags:\n",
    "    current_tag = \"_\".join(tag)\n",
    "    tag_df      = mamadroid_df.loc[(mamadroid_df.year == tag[0]) | (mamadroid_df.year == tag[1])]\n",
    "    taglist     = tag_df.sha256.values\n",
    "\n",
    "    df        = pd.read_pickle(dbPath)\n",
    "    models_df = df.models.iloc[0]\n",
    "    result_df = df.evalResuls.iloc[0]\n",
    "\n",
    "    filePathList = result_df.Path.iloc[0]\n",
    "    fileHashList = [x.split('/')[-1] for x in filePathList]\n",
    "    masklist     = [True if x in taglist else False for x in fileHashList]\n",
    "\n",
    "    models_df.sort_values(by=['vloss', 'tloss'], inplace=True)\n",
    "    selectedModelPaths = models_df.path.iloc[:ensembleSize].tolist()\n",
    "    current_result_df = result_df.loc[result_df.name.isin(selectedModelPaths)]\n",
    "    evalDataset(current_result_df, masklist, current_tag)"
   ]
  },
  {
   "cell_type": "code",
   "execution_count": 565,
   "metadata": {},
   "outputs": [
    {
     "name": "stdout",
     "output_type": "stream",
     "text": [
      "drebin_old f1score=95.7883, recall=93.7015, precision=97.9702, vf1score=98.6101, vrecall=97.6275, vprecision=99.6127, vcoverage=89.4824, \n",
      "2013_old f1score=98.6424, recall=98.5855, precision=98.6994, vf1score=99.5829, vrecall=99.4052, vprecision=99.7612, vcoverage=93.3356, \n",
      "2014_old f1score=99.4035, recall=99.4654, precision=99.3417, vf1score=99.8490, vrecall=99.8189, vprecision=99.8792, vcoverage=94.6674, \n",
      "2015_old f1score=91.4205, recall=86.2272, precision=97.2793, vf1score=96.3296, vrecall=93.4593, vprecision=99.3818, vcoverage=81.9798, \n",
      "2016_old f1score=88.9648, recall=83.4249, precision=95.2929, vf1score=90.8848, vrecall=84.1162, vprecision=98.8381, vcoverage=83.8633, \n",
      "drebin_new f1score=96.2020, recall=93.7015, precision=98.8396, vf1score=98.6811, vrecall=97.6275, vprecision=99.7576, vcoverage=87.0577, \n",
      "2013_new f1score=98.9210, recall=98.5855, precision=99.2588, vf1score=99.6274, vrecall=99.4052, vprecision=99.8506, vcoverage=93.0656, \n",
      "2014_new f1score=99.5456, recall=99.4654, precision=99.6259, vf1score=99.8716, vrecall=99.8189, vprecision=99.9245, vcoverage=94.8077, \n",
      "2015_new f1score=91.9297, recall=86.2272, precision=98.4399, vf1score=96.4379, vrecall=93.4593, vprecision=99.6127, vcoverage=74.4693, \n",
      "2016_new f1score=89.8201, recall=83.4249, precision=97.2771, vf1score=91.0672, vrecall=84.1162, vprecision=99.2706, vcoverage=74.9608, \n"
     ]
    }
   ],
   "source": [
    "dbPath = 'traces/comparativeWS01/2014_old.pickle'\n",
    "for tag in tags:\n",
    "    current_tag = \"_\".join(tag)\n",
    "    tag_df      = mamadroid_df.loc[(mamadroid_df.year == tag[0]) | (mamadroid_df.year == tag[1])]\n",
    "    taglist     = tag_df.sha256.values\n",
    "\n",
    "    df        = pd.read_pickle(dbPath)\n",
    "    models_df = df.models.iloc[0]\n",
    "    result_df = df.evalResuls.iloc[0]\n",
    "\n",
    "    filePathList = result_df.Path.iloc[0]\n",
    "    fileHashList = [x.split('/')[-1] for x in filePathList]\n",
    "    masklist     = [True if x in taglist else False for x in fileHashList]\n",
    "\n",
    "    models_df.sort_values(by=['vloss', 'tloss'], inplace=True)\n",
    "    selectedModelPaths = models_df.path.iloc[:ensembleSize].tolist()\n",
    "    current_result_df = result_df.loc[result_df.name.isin(selectedModelPaths)]\n",
    "    evalDataset(current_result_df, masklist, current_tag)"
   ]
  },
  {
   "cell_type": "code",
   "execution_count": 582,
   "metadata": {},
   "outputs": [
    {
     "name": "stdout",
     "output_type": "stream",
     "text": [
      "drebin_old f1score=82.6317, recall=99.2882, precision=70.7610, vf1score=91.4972, vrecall=99.9551, vprecision=84.3590, vcoverage=74.8181, \n",
      "2013_old f1score=87.8374, recall=99.8124, precision=78.4280, vf1score=94.3269, vrecall=100.0000, vprecision=89.2630, vcoverage=80.6530, \n",
      "2014_old f1score=93.4448, recall=99.9121, precision=87.7638, vf1score=97.0307, vrecall=100.0000, vprecision=94.2326, vcoverage=87.1137, \n",
      "2015_old f1score=71.9691, recall=84.8607, precision=62.4778, vf1score=82.0829, vrecall=88.7704, vprecision=76.3324, vcoverage=65.8752, \n",
      "2016_old f1score=54.8748, recall=70.7418, precision=44.8216, vf1score=68.4123, vrecall=79.5003, vprecision=60.0387, vcoverage=60.0139, \n",
      "drebin_new f1score=99.2775, recall=99.2882, precision=99.2668, vf1score=99.8319, vrecall=99.9551, vprecision=99.7090, vcoverage=95.2662, \n",
      "2013_new f1score=99.6613, recall=99.8124, precision=99.5107, vf1score=99.9054, vrecall=100.0000, vprecision=99.8110, vcoverage=97.9103, \n",
      "2014_new f1score=99.8317, recall=99.9121, precision=99.7514, vf1score=99.9519, vrecall=100.0000, vprecision=99.9038, vcoverage=98.1951, \n",
      "2015_new f1score=91.3602, recall=84.8607, precision=98.9378, vf1score=93.8359, vrecall=88.7704, vprecision=99.5144, vcoverage=84.1899, \n",
      "2016_new f1score=82.1153, recall=70.7418, precision=97.8467, vf1score=88.1705, vrecall=79.5003, vprecision=98.9633, vcoverage=80.6122, \n"
     ]
    }
   ],
   "source": [
    "dbPath = 'traces/comparativeWS01/2014_new.pickle'\n",
    "for tag in tags:\n",
    "    current_tag = \"_\".join(tag)\n",
    "    tag_df      = mamadroid_df.loc[(mamadroid_df.year == tag[0]) | (mamadroid_df.year == tag[1])]\n",
    "    taglist     = tag_df.sha256.values\n",
    "\n",
    "    df        = pd.read_pickle(dbPath)\n",
    "    models_df = df.models.iloc[0]\n",
    "    result_df = df.evalResuls.iloc[0]\n",
    "\n",
    "    filePathList = result_df.Path.iloc[0]\n",
    "    fileHashList = [x.split('/')[-1] for x in filePathList]\n",
    "    masklist     = [True if x in taglist else False for x in fileHashList]\n",
    "\n",
    "    models_df.sort_values(by=['vloss', 'tloss'], inplace=True)\n",
    "    selectedModelPaths = models_df.path.iloc[:ensembleSize].tolist()\n",
    "    current_result_df = result_df.loc[result_df.name.isin(selectedModelPaths)]\n",
    "    evalDataset(current_result_df, masklist, current_tag)"
   ]
  },
  {
   "cell_type": "code",
   "execution_count": 583,
   "metadata": {},
   "outputs": [
    {
     "name": "stdout",
     "output_type": "stream",
     "text": [
      "drebin_old f1score=81.8760, recall=90.1855, precision=74.9686, vf1score=93.1892, vrecall=96.8194, vprecision=89.8213, vcoverage=54.9574, \n",
      "2013_old f1score=88.8280, recall=96.0017, precision=82.6519, vf1score=95.7483, vrecall=98.2694, vprecision=93.3534, vcoverage=60.7269, \n",
      "2014_old f1score=92.4578, recall=94.7634, precision=90.2616, vf1score=96.8322, vrecall=96.8404, vprecision=96.8241, vcoverage=73.4871, \n",
      "2015_old f1score=83.6661, recall=98.8210, precision=72.5413, vf1score=94.8271, vrecall=99.8853, vprecision=90.2565, vcoverage=61.3443, \n",
      "2016_old f1score=72.0972, recall=92.3993, precision=59.1095, vf1score=88.5854, vrecall=96.2486, vprecision=82.0525, vcoverage=50.8647, \n",
      "drebin_new f1score=94.5286, recall=90.1855, precision=99.3112, vf1score=98.2965, vrecall=96.8194, vprecision=99.8195, vcoverage=76.3787, \n",
      "2013_new f1score=97.7513, recall=96.0017, precision=99.5659, vf1score=99.0714, vrecall=98.2694, vprecision=99.8865, vcoverage=78.6715, \n",
      "2014_new f1score=97.2053, recall=94.7634, precision=99.7764, vf1score=98.3695, vrecall=96.8404, vprecision=99.9477, vcoverage=86.3327, \n",
      "2015_new f1score=99.0200, recall=98.8210, precision=99.2198, vf1score=99.8567, vrecall=99.8853, vprecision=99.8280, vcoverage=90.3538, \n",
      "2016_new f1score=95.3912, recall=92.3993, precision=98.5833, vf1score=97.9208, vrecall=96.2486, vprecision=99.6522, vcoverage=82.4437, \n"
     ]
    }
   ],
   "source": [
    "dbPath = 'traces/comparativeWS01/2015_new.pickle'\n",
    "for tag in tags:\n",
    "    current_tag = \"_\".join(tag)\n",
    "    tag_df      = mamadroid_df.loc[(mamadroid_df.year == tag[0]) | (mamadroid_df.year == tag[1])]\n",
    "    taglist     = tag_df.sha256.values\n",
    "\n",
    "    df        = pd.read_pickle(dbPath)\n",
    "    models_df = df.models.iloc[0]\n",
    "    result_df = df.evalResuls.iloc[0]\n",
    "\n",
    "    filePathList = result_df.Path.iloc[0]\n",
    "    fileHashList = [x.split('/')[-1] for x in filePathList]\n",
    "    masklist     = [True if x in taglist else False for x in fileHashList]\n",
    "\n",
    "    models_df.sort_values(by=['vloss', 'tloss'], inplace=True)\n",
    "    selectedModelPaths = models_df.path.iloc[:ensembleSize].tolist()\n",
    "    current_result_df = result_df.loc[result_df.name.isin(selectedModelPaths)]\n",
    "    evalDataset(current_result_df, masklist, current_tag)"
   ]
  },
  {
   "cell_type": "code",
   "execution_count": 584,
   "metadata": {},
   "outputs": [
    {
     "name": "stdout",
     "output_type": "stream",
     "text": [
      "drebin_old f1score=84.2311, recall=83.6497, precision=84.8206, vf1score=94.6575, vrecall=95.3432, vprecision=93.9816, vcoverage=58.7820, \n",
      "2013_old f1score=91.4477, recall=92.6819, precision=90.2460, vf1score=95.7275, vrecall=96.5357, vprecision=94.9327, vcoverage=51.9725, \n",
      "2014_old f1score=93.8247, recall=92.8592, precision=94.8104, vf1score=97.1965, vrecall=96.0688, vprecision=98.3510, vcoverage=73.7446, \n",
      "2015_old f1score=86.9909, recall=91.2915, precision=83.0773, vf1score=96.0539, vrecall=97.8887, vprecision=94.2866, vcoverage=65.8523, \n",
      "2016_old f1score=85.0180, recall=97.4359, precision=75.4075, vf1score=95.3960, vrecall=99.5351, vprecision=91.5875, vcoverage=65.4533, \n",
      "drebin_new f1score=90.9368, recall=83.6497, precision=99.6147, vf1score=97.5989, vrecall=95.3432, vprecision=99.9638, vcoverage=68.8715, \n",
      "2013_new f1score=96.0940, recall=92.6819, precision=99.7669, vf1score=98.2227, vrecall=96.5357, vprecision=99.9699, vcoverage=56.7009, \n",
      "2014_new f1score=96.2426, recall=92.8592, precision=99.8818, vf1score=97.9904, vrecall=96.0688, vprecision=99.9905, vcoverage=81.1601, \n",
      "2015_new f1score=95.2474, recall=91.2915, precision=99.5617, vf1score=98.9164, vrecall=97.8887, vprecision=99.9658, vcoverage=82.0484, \n",
      "2016_new f1score=98.3591, recall=97.4359, precision=99.3000, vf1score=99.7412, vrecall=99.5351, vprecision=99.9481, vcoverage=87.8598, \n"
     ]
    }
   ],
   "source": [
    "dbPath = 'traces/comparativeWS01/2016_new.pickle'\n",
    "for tag in tags:\n",
    "    current_tag = \"_\".join(tag)\n",
    "    tag_df      = mamadroid_df.loc[(mamadroid_df.year == tag[0]) | (mamadroid_df.year == tag[1])]\n",
    "    taglist     = tag_df.sha256.values\n",
    "\n",
    "    df        = pd.read_pickle(dbPath)\n",
    "    models_df = df.models.iloc[0]\n",
    "    result_df = df.evalResuls.iloc[0]\n",
    "\n",
    "    filePathList = result_df.Path.iloc[0]\n",
    "    fileHashList = [x.split('/')[-1] for x in filePathList]\n",
    "    masklist     = [True if x in taglist else False for x in fileHashList]\n",
    "\n",
    "    models_df.sort_values(by=['vloss', 'tloss'], inplace=True)\n",
    "    selectedModelPaths = models_df.path.iloc[:ensembleSize].tolist()\n",
    "    current_result_df = result_df.loc[result_df.name.isin(selectedModelPaths)]\n",
    "    evalDataset(current_result_df, masklist, current_tag)"
   ]
  },
  {
   "cell_type": "code",
   "execution_count": 591,
   "metadata": {},
   "outputs": [
    {
     "name": "stderr",
     "output_type": "stream",
     "text": [
      "/opt/conda/envs/py36/lib/python3.6/site-packages/IPython/core/interactiveshell.py:3326: FutureWarning: The read_msgpack is deprecated and will be removed in a future version.\n",
      "It is recommended to use pyarrow for on-the-wire transmission of pandas objects.\n",
      "  exec(code_obj, self.user_global_ns, self.user_ns)\n"
     ]
    }
   ],
   "source": [
    "g = pd.read_msgpack('/ws/mnt/habouch/datasets/android_dataset/meta/drebin_obfus_meta.msg')"
   ]
  },
  {
   "cell_type": "code",
   "execution_count": 593,
   "metadata": {},
   "outputs": [],
   "source": [
    "g = pd.read_parquet('/ws/mnt/local/data/output/obfus/praguard_meta.parquet')"
   ]
  },
  {
   "cell_type": "code",
   "execution_count": 594,
   "metadata": {},
   "outputs": [
    {
     "data": {
      "text/plain": [
       "29535"
      ]
     },
     "execution_count": 594,
     "metadata": {},
     "output_type": "execute_result"
    }
   ],
   "source": [
    "len()"
   ]
  },
  {
   "cell_type": "code",
   "execution_count": 588,
   "metadata": {},
   "outputs": [
    {
     "data": {
      "text/plain": [
       "49"
      ]
     },
     "execution_count": 588,
     "metadata": {},
     "output_type": "execute_result"
    }
   ],
   "source": [
    "len(g.genome.value_counts())"
   ]
  },
  {
   "cell_type": "code",
   "execution_count": null,
   "metadata": {},
   "outputs": [],
   "source": []
  },
  {
   "cell_type": "code",
   "execution_count": 570,
   "metadata": {},
   "outputs": [
    {
     "data": {
      "text/plain": [
       "0    2016\n",
       "1    2016\n",
       "2    2017\n",
       "3    2019\n",
       "4    2014\n",
       "Name: vt_scan_date, dtype: object"
      ]
     },
     "execution_count": 570,
     "metadata": {},
     "output_type": "execute_result"
    }
   ],
   "source": [
    "androzoo_df.head().vt_scan_date.apply(lambda x: x.split('-')[0])"
   ]
  },
  {
   "cell_type": "code",
   "execution_count": 580,
   "metadata": {},
   "outputs": [
    {
     "data": {
      "text/plain": [
       "24193"
      ]
     },
     "execution_count": 580,
     "metadata": {},
     "output_type": "execute_result"
    }
   ],
   "source": [
    "androzoo_df.vt_scan_date.str.startswith('2013-01').sum()"
   ]
  },
  {
   "cell_type": "code",
   "execution_count": 572,
   "metadata": {},
   "outputs": [],
   "source": [
    "androzoo_df['year'] = androzoo_df.vt_scan_date.apply(lambda x: str(x).split('-')[0])"
   ]
  },
  {
   "cell_type": "code",
   "execution_count": 574,
   "metadata": {},
   "outputs": [],
   "source": [
    "s = androzoo_df.year.value_counts()"
   ]
  },
  {
   "cell_type": "code",
   "execution_count": null,
   "metadata": {},
   "outputs": [],
   "source": [
    "5.5 million"
   ]
  },
  {
   "cell_type": "code",
   "execution_count": 575,
   "metadata": {},
   "outputs": [
    {
     "data": {
      "text/plain": [
       "2009          1\n",
       "2010         15\n",
       "2011       4161\n",
       "2012      60106\n",
       "2013     618674\n",
       "2014    1605887\n",
       "2015     501565\n",
       "2016    2270393\n",
       "2017     545997\n",
       "2018    2091371\n",
       "2019     819844\n",
       "None     899977\n",
       "Name: year, dtype: int64"
      ]
     },
     "execution_count": 575,
     "metadata": {},
     "output_type": "execute_result"
    }
   ],
   "source": [
    "s.sort_index()"
   ]
  },
  {
   "cell_type": "code",
   "execution_count": 557,
   "metadata": {},
   "outputs": [
    {
     "name": "stdout",
     "output_type": "stream",
     "text": [
      "962411\n"
     ]
    },
    {
     "data": {
      "text/html": [
       "<div>\n",
       "<style scoped>\n",
       "    .dataframe tbody tr th:only-of-type {\n",
       "        vertical-align: middle;\n",
       "    }\n",
       "\n",
       "    .dataframe tbody tr th {\n",
       "        vertical-align: top;\n",
       "    }\n",
       "\n",
       "    .dataframe thead th {\n",
       "        text-align: right;\n",
       "    }\n",
       "</style>\n",
       "<table border=\"1\" class=\"dataframe\">\n",
       "  <thead>\n",
       "    <tr style=\"text-align: right;\">\n",
       "      <th></th>\n",
       "      <th>sha256</th>\n",
       "      <th>sha1</th>\n",
       "      <th>md5</th>\n",
       "      <th>dex_date</th>\n",
       "      <th>apk_size</th>\n",
       "      <th>pkg_name</th>\n",
       "      <th>vercode</th>\n",
       "      <th>vt_detection</th>\n",
       "      <th>vt_scan_date</th>\n",
       "      <th>dex_size</th>\n",
       "      <th>markets</th>\n",
       "      <th>label</th>\n",
       "      <th>filePath</th>\n",
       "    </tr>\n",
       "    <tr>\n",
       "      <th>vt_scan_date</th>\n",
       "      <th></th>\n",
       "      <th></th>\n",
       "      <th></th>\n",
       "      <th></th>\n",
       "      <th></th>\n",
       "      <th></th>\n",
       "      <th></th>\n",
       "      <th></th>\n",
       "      <th></th>\n",
       "      <th></th>\n",
       "      <th></th>\n",
       "      <th></th>\n",
       "      <th></th>\n",
       "    </tr>\n",
       "  </thead>\n",
       "  <tbody>\n",
       "    <tr>\n",
       "      <th>2013-01-31</th>\n",
       "      <td>2960</td>\n",
       "      <td>2960</td>\n",
       "      <td>2960</td>\n",
       "      <td>2960</td>\n",
       "      <td>2960</td>\n",
       "      <td>2960</td>\n",
       "      <td>2948</td>\n",
       "      <td>2960</td>\n",
       "      <td>2960</td>\n",
       "      <td>2960</td>\n",
       "      <td>2960</td>\n",
       "      <td>2960</td>\n",
       "      <td>2960</td>\n",
       "    </tr>\n",
       "    <tr>\n",
       "      <th>2013-04-30</th>\n",
       "      <td>5539</td>\n",
       "      <td>5539</td>\n",
       "      <td>5539</td>\n",
       "      <td>5539</td>\n",
       "      <td>5539</td>\n",
       "      <td>5539</td>\n",
       "      <td>5532</td>\n",
       "      <td>5539</td>\n",
       "      <td>5539</td>\n",
       "      <td>5539</td>\n",
       "      <td>5539</td>\n",
       "      <td>5539</td>\n",
       "      <td>5539</td>\n",
       "    </tr>\n",
       "    <tr>\n",
       "      <th>2013-07-31</th>\n",
       "      <td>9581</td>\n",
       "      <td>9581</td>\n",
       "      <td>9581</td>\n",
       "      <td>9581</td>\n",
       "      <td>9581</td>\n",
       "      <td>9581</td>\n",
       "      <td>9560</td>\n",
       "      <td>9581</td>\n",
       "      <td>9581</td>\n",
       "      <td>9581</td>\n",
       "      <td>9581</td>\n",
       "      <td>9581</td>\n",
       "      <td>9581</td>\n",
       "    </tr>\n",
       "    <tr>\n",
       "      <th>2013-10-31</th>\n",
       "      <td>22793</td>\n",
       "      <td>22793</td>\n",
       "      <td>22793</td>\n",
       "      <td>22790</td>\n",
       "      <td>22793</td>\n",
       "      <td>22793</td>\n",
       "      <td>22736</td>\n",
       "      <td>22793</td>\n",
       "      <td>22793</td>\n",
       "      <td>22793</td>\n",
       "      <td>22793</td>\n",
       "      <td>22793</td>\n",
       "      <td>22793</td>\n",
       "    </tr>\n",
       "    <tr>\n",
       "      <th>2014-01-31</th>\n",
       "      <td>50077</td>\n",
       "      <td>50075</td>\n",
       "      <td>50075</td>\n",
       "      <td>50073</td>\n",
       "      <td>50077</td>\n",
       "      <td>50077</td>\n",
       "      <td>49967</td>\n",
       "      <td>50077</td>\n",
       "      <td>50077</td>\n",
       "      <td>50077</td>\n",
       "      <td>50077</td>\n",
       "      <td>50077</td>\n",
       "      <td>50077</td>\n",
       "    </tr>\n",
       "    <tr>\n",
       "      <th>2014-04-30</th>\n",
       "      <td>38791</td>\n",
       "      <td>38788</td>\n",
       "      <td>38788</td>\n",
       "      <td>38790</td>\n",
       "      <td>38791</td>\n",
       "      <td>38791</td>\n",
       "      <td>38676</td>\n",
       "      <td>38791</td>\n",
       "      <td>38791</td>\n",
       "      <td>38791</td>\n",
       "      <td>38791</td>\n",
       "      <td>38791</td>\n",
       "      <td>38791</td>\n",
       "    </tr>\n",
       "    <tr>\n",
       "      <th>2014-07-31</th>\n",
       "      <td>103358</td>\n",
       "      <td>103332</td>\n",
       "      <td>103332</td>\n",
       "      <td>103356</td>\n",
       "      <td>103358</td>\n",
       "      <td>103358</td>\n",
       "      <td>103332</td>\n",
       "      <td>103358</td>\n",
       "      <td>103358</td>\n",
       "      <td>103358</td>\n",
       "      <td>103358</td>\n",
       "      <td>103358</td>\n",
       "      <td>103358</td>\n",
       "    </tr>\n",
       "    <tr>\n",
       "      <th>2014-10-31</th>\n",
       "      <td>17485</td>\n",
       "      <td>17482</td>\n",
       "      <td>17482</td>\n",
       "      <td>17485</td>\n",
       "      <td>17485</td>\n",
       "      <td>17485</td>\n",
       "      <td>17484</td>\n",
       "      <td>17485</td>\n",
       "      <td>17485</td>\n",
       "      <td>17485</td>\n",
       "      <td>17485</td>\n",
       "      <td>17485</td>\n",
       "      <td>17485</td>\n",
       "    </tr>\n",
       "    <tr>\n",
       "      <th>2015-01-31</th>\n",
       "      <td>19570</td>\n",
       "      <td>19570</td>\n",
       "      <td>19570</td>\n",
       "      <td>19570</td>\n",
       "      <td>19570</td>\n",
       "      <td>19570</td>\n",
       "      <td>19570</td>\n",
       "      <td>19570</td>\n",
       "      <td>19570</td>\n",
       "      <td>19570</td>\n",
       "      <td>19570</td>\n",
       "      <td>19570</td>\n",
       "      <td>19570</td>\n",
       "    </tr>\n",
       "    <tr>\n",
       "      <th>2015-04-30</th>\n",
       "      <td>13946</td>\n",
       "      <td>13946</td>\n",
       "      <td>13946</td>\n",
       "      <td>13946</td>\n",
       "      <td>13946</td>\n",
       "      <td>13946</td>\n",
       "      <td>13946</td>\n",
       "      <td>13946</td>\n",
       "      <td>13946</td>\n",
       "      <td>13946</td>\n",
       "      <td>13946</td>\n",
       "      <td>13946</td>\n",
       "      <td>13946</td>\n",
       "    </tr>\n",
       "    <tr>\n",
       "      <th>2015-07-31</th>\n",
       "      <td>8261</td>\n",
       "      <td>8261</td>\n",
       "      <td>8261</td>\n",
       "      <td>8261</td>\n",
       "      <td>8261</td>\n",
       "      <td>8261</td>\n",
       "      <td>8261</td>\n",
       "      <td>8261</td>\n",
       "      <td>8261</td>\n",
       "      <td>8261</td>\n",
       "      <td>8261</td>\n",
       "      <td>8261</td>\n",
       "      <td>8261</td>\n",
       "    </tr>\n",
       "    <tr>\n",
       "      <th>2015-10-31</th>\n",
       "      <td>16025</td>\n",
       "      <td>16025</td>\n",
       "      <td>16025</td>\n",
       "      <td>16025</td>\n",
       "      <td>16025</td>\n",
       "      <td>16025</td>\n",
       "      <td>16025</td>\n",
       "      <td>16025</td>\n",
       "      <td>16025</td>\n",
       "      <td>16025</td>\n",
       "      <td>16025</td>\n",
       "      <td>16025</td>\n",
       "      <td>16025</td>\n",
       "    </tr>\n",
       "    <tr>\n",
       "      <th>2016-01-31</th>\n",
       "      <td>30921</td>\n",
       "      <td>30921</td>\n",
       "      <td>30921</td>\n",
       "      <td>30921</td>\n",
       "      <td>30921</td>\n",
       "      <td>30921</td>\n",
       "      <td>30921</td>\n",
       "      <td>30921</td>\n",
       "      <td>30921</td>\n",
       "      <td>30921</td>\n",
       "      <td>30921</td>\n",
       "      <td>30921</td>\n",
       "      <td>30921</td>\n",
       "    </tr>\n",
       "    <tr>\n",
       "      <th>2016-04-30</th>\n",
       "      <td>148997</td>\n",
       "      <td>148997</td>\n",
       "      <td>148997</td>\n",
       "      <td>148997</td>\n",
       "      <td>148997</td>\n",
       "      <td>148997</td>\n",
       "      <td>148997</td>\n",
       "      <td>148997</td>\n",
       "      <td>148997</td>\n",
       "      <td>148997</td>\n",
       "      <td>148997</td>\n",
       "      <td>148997</td>\n",
       "      <td>148997</td>\n",
       "    </tr>\n",
       "    <tr>\n",
       "      <th>2016-07-31</th>\n",
       "      <td>73816</td>\n",
       "      <td>73816</td>\n",
       "      <td>73816</td>\n",
       "      <td>73816</td>\n",
       "      <td>73816</td>\n",
       "      <td>73816</td>\n",
       "      <td>73816</td>\n",
       "      <td>73816</td>\n",
       "      <td>73816</td>\n",
       "      <td>73816</td>\n",
       "      <td>73816</td>\n",
       "      <td>73816</td>\n",
       "      <td>73816</td>\n",
       "    </tr>\n",
       "    <tr>\n",
       "      <th>2016-10-31</th>\n",
       "      <td>26954</td>\n",
       "      <td>26954</td>\n",
       "      <td>26954</td>\n",
       "      <td>26954</td>\n",
       "      <td>26954</td>\n",
       "      <td>26954</td>\n",
       "      <td>26954</td>\n",
       "      <td>26954</td>\n",
       "      <td>26954</td>\n",
       "      <td>26954</td>\n",
       "      <td>26954</td>\n",
       "      <td>26954</td>\n",
       "      <td>26954</td>\n",
       "    </tr>\n",
       "    <tr>\n",
       "      <th>2017-01-31</th>\n",
       "      <td>14760</td>\n",
       "      <td>14760</td>\n",
       "      <td>14760</td>\n",
       "      <td>14760</td>\n",
       "      <td>14760</td>\n",
       "      <td>14760</td>\n",
       "      <td>14760</td>\n",
       "      <td>14760</td>\n",
       "      <td>14760</td>\n",
       "      <td>14760</td>\n",
       "      <td>14760</td>\n",
       "      <td>14760</td>\n",
       "      <td>14760</td>\n",
       "    </tr>\n",
       "    <tr>\n",
       "      <th>2017-04-30</th>\n",
       "      <td>8652</td>\n",
       "      <td>8652</td>\n",
       "      <td>8652</td>\n",
       "      <td>8652</td>\n",
       "      <td>8652</td>\n",
       "      <td>8652</td>\n",
       "      <td>8652</td>\n",
       "      <td>8652</td>\n",
       "      <td>8652</td>\n",
       "      <td>8652</td>\n",
       "      <td>8652</td>\n",
       "      <td>8652</td>\n",
       "      <td>8652</td>\n",
       "    </tr>\n",
       "    <tr>\n",
       "      <th>2017-07-31</th>\n",
       "      <td>4000</td>\n",
       "      <td>4000</td>\n",
       "      <td>4000</td>\n",
       "      <td>4000</td>\n",
       "      <td>4000</td>\n",
       "      <td>4000</td>\n",
       "      <td>4000</td>\n",
       "      <td>4000</td>\n",
       "      <td>4000</td>\n",
       "      <td>4000</td>\n",
       "      <td>4000</td>\n",
       "      <td>4000</td>\n",
       "      <td>4000</td>\n",
       "    </tr>\n",
       "    <tr>\n",
       "      <th>2017-10-31</th>\n",
       "      <td>27814</td>\n",
       "      <td>27814</td>\n",
       "      <td>27814</td>\n",
       "      <td>27814</td>\n",
       "      <td>27814</td>\n",
       "      <td>27814</td>\n",
       "      <td>27814</td>\n",
       "      <td>27814</td>\n",
       "      <td>27814</td>\n",
       "      <td>27814</td>\n",
       "      <td>27814</td>\n",
       "      <td>27814</td>\n",
       "      <td>27814</td>\n",
       "    </tr>\n",
       "    <tr>\n",
       "      <th>2018-01-31</th>\n",
       "      <td>14749</td>\n",
       "      <td>14749</td>\n",
       "      <td>14749</td>\n",
       "      <td>14749</td>\n",
       "      <td>14749</td>\n",
       "      <td>14749</td>\n",
       "      <td>14749</td>\n",
       "      <td>14749</td>\n",
       "      <td>14749</td>\n",
       "      <td>14749</td>\n",
       "      <td>14749</td>\n",
       "      <td>14749</td>\n",
       "      <td>14749</td>\n",
       "    </tr>\n",
       "    <tr>\n",
       "      <th>2018-04-30</th>\n",
       "      <td>12864</td>\n",
       "      <td>12864</td>\n",
       "      <td>12864</td>\n",
       "      <td>12864</td>\n",
       "      <td>12864</td>\n",
       "      <td>12864</td>\n",
       "      <td>12864</td>\n",
       "      <td>12864</td>\n",
       "      <td>12864</td>\n",
       "      <td>12864</td>\n",
       "      <td>12864</td>\n",
       "      <td>12864</td>\n",
       "      <td>12864</td>\n",
       "    </tr>\n",
       "    <tr>\n",
       "      <th>2018-07-31</th>\n",
       "      <td>34566</td>\n",
       "      <td>34566</td>\n",
       "      <td>34566</td>\n",
       "      <td>34566</td>\n",
       "      <td>34566</td>\n",
       "      <td>34566</td>\n",
       "      <td>34566</td>\n",
       "      <td>34566</td>\n",
       "      <td>34566</td>\n",
       "      <td>34566</td>\n",
       "      <td>34566</td>\n",
       "      <td>34566</td>\n",
       "      <td>34566</td>\n",
       "    </tr>\n",
       "    <tr>\n",
       "      <th>2018-10-31</th>\n",
       "      <td>110732</td>\n",
       "      <td>110732</td>\n",
       "      <td>110732</td>\n",
       "      <td>110732</td>\n",
       "      <td>110732</td>\n",
       "      <td>110732</td>\n",
       "      <td>110732</td>\n",
       "      <td>110732</td>\n",
       "      <td>110732</td>\n",
       "      <td>110732</td>\n",
       "      <td>110732</td>\n",
       "      <td>110732</td>\n",
       "      <td>110732</td>\n",
       "    </tr>\n",
       "    <tr>\n",
       "      <th>2019-01-31</th>\n",
       "      <td>55940</td>\n",
       "      <td>55940</td>\n",
       "      <td>55940</td>\n",
       "      <td>55940</td>\n",
       "      <td>55940</td>\n",
       "      <td>55940</td>\n",
       "      <td>55940</td>\n",
       "      <td>55940</td>\n",
       "      <td>55940</td>\n",
       "      <td>55940</td>\n",
       "      <td>55940</td>\n",
       "      <td>55940</td>\n",
       "      <td>55940</td>\n",
       "    </tr>\n",
       "    <tr>\n",
       "      <th>2019-04-30</th>\n",
       "      <td>61344</td>\n",
       "      <td>61344</td>\n",
       "      <td>61344</td>\n",
       "      <td>61344</td>\n",
       "      <td>61344</td>\n",
       "      <td>61344</td>\n",
       "      <td>61344</td>\n",
       "      <td>61344</td>\n",
       "      <td>61344</td>\n",
       "      <td>61344</td>\n",
       "      <td>61344</td>\n",
       "      <td>61344</td>\n",
       "      <td>61344</td>\n",
       "    </tr>\n",
       "    <tr>\n",
       "      <th>2019-07-31</th>\n",
       "      <td>27916</td>\n",
       "      <td>27916</td>\n",
       "      <td>27916</td>\n",
       "      <td>27916</td>\n",
       "      <td>27916</td>\n",
       "      <td>27916</td>\n",
       "      <td>27916</td>\n",
       "      <td>27916</td>\n",
       "      <td>27916</td>\n",
       "      <td>27916</td>\n",
       "      <td>27916</td>\n",
       "      <td>27916</td>\n",
       "      <td>27916</td>\n",
       "    </tr>\n",
       "  </tbody>\n",
       "</table>\n",
       "</div>"
      ],
      "text/plain": [
       "              sha256    sha1     md5  dex_date  apk_size  pkg_name  vercode  \\\n",
       "vt_scan_date                                                                  \n",
       "2013-01-31      2960    2960    2960      2960      2960      2960     2948   \n",
       "2013-04-30      5539    5539    5539      5539      5539      5539     5532   \n",
       "2013-07-31      9581    9581    9581      9581      9581      9581     9560   \n",
       "2013-10-31     22793   22793   22793     22790     22793     22793    22736   \n",
       "2014-01-31     50077   50075   50075     50073     50077     50077    49967   \n",
       "2014-04-30     38791   38788   38788     38790     38791     38791    38676   \n",
       "2014-07-31    103358  103332  103332    103356    103358    103358   103332   \n",
       "2014-10-31     17485   17482   17482     17485     17485     17485    17484   \n",
       "2015-01-31     19570   19570   19570     19570     19570     19570    19570   \n",
       "2015-04-30     13946   13946   13946     13946     13946     13946    13946   \n",
       "2015-07-31      8261    8261    8261      8261      8261      8261     8261   \n",
       "2015-10-31     16025   16025   16025     16025     16025     16025    16025   \n",
       "2016-01-31     30921   30921   30921     30921     30921     30921    30921   \n",
       "2016-04-30    148997  148997  148997    148997    148997    148997   148997   \n",
       "2016-07-31     73816   73816   73816     73816     73816     73816    73816   \n",
       "2016-10-31     26954   26954   26954     26954     26954     26954    26954   \n",
       "2017-01-31     14760   14760   14760     14760     14760     14760    14760   \n",
       "2017-04-30      8652    8652    8652      8652      8652      8652     8652   \n",
       "2017-07-31      4000    4000    4000      4000      4000      4000     4000   \n",
       "2017-10-31     27814   27814   27814     27814     27814     27814    27814   \n",
       "2018-01-31     14749   14749   14749     14749     14749     14749    14749   \n",
       "2018-04-30     12864   12864   12864     12864     12864     12864    12864   \n",
       "2018-07-31     34566   34566   34566     34566     34566     34566    34566   \n",
       "2018-10-31    110732  110732  110732    110732    110732    110732   110732   \n",
       "2019-01-31     55940   55940   55940     55940     55940     55940    55940   \n",
       "2019-04-30     61344   61344   61344     61344     61344     61344    61344   \n",
       "2019-07-31     27916   27916   27916     27916     27916     27916    27916   \n",
       "\n",
       "              vt_detection  vt_scan_date  dex_size  markets   label  filePath  \n",
       "vt_scan_date                                                                   \n",
       "2013-01-31            2960          2960      2960     2960    2960      2960  \n",
       "2013-04-30            5539          5539      5539     5539    5539      5539  \n",
       "2013-07-31            9581          9581      9581     9581    9581      9581  \n",
       "2013-10-31           22793         22793     22793    22793   22793     22793  \n",
       "2014-01-31           50077         50077     50077    50077   50077     50077  \n",
       "2014-04-30           38791         38791     38791    38791   38791     38791  \n",
       "2014-07-31          103358        103358    103358   103358  103358    103358  \n",
       "2014-10-31           17485         17485     17485    17485   17485     17485  \n",
       "2015-01-31           19570         19570     19570    19570   19570     19570  \n",
       "2015-04-30           13946         13946     13946    13946   13946     13946  \n",
       "2015-07-31            8261          8261      8261     8261    8261      8261  \n",
       "2015-10-31           16025         16025     16025    16025   16025     16025  \n",
       "2016-01-31           30921         30921     30921    30921   30921     30921  \n",
       "2016-04-30          148997        148997    148997   148997  148997    148997  \n",
       "2016-07-31           73816         73816     73816    73816   73816     73816  \n",
       "2016-10-31           26954         26954     26954    26954   26954     26954  \n",
       "2017-01-31           14760         14760     14760    14760   14760     14760  \n",
       "2017-04-30            8652          8652      8652     8652    8652      8652  \n",
       "2017-07-31            4000          4000      4000     4000    4000      4000  \n",
       "2017-10-31           27814         27814     27814    27814   27814     27814  \n",
       "2018-01-31           14749         14749     14749    14749   14749     14749  \n",
       "2018-04-30           12864         12864     12864    12864   12864     12864  \n",
       "2018-07-31           34566         34566     34566    34566   34566     34566  \n",
       "2018-10-31          110732        110732    110732   110732  110732    110732  \n",
       "2019-01-31           55940         55940     55940    55940   55940     55940  \n",
       "2019-04-30           61344         61344     61344    61344   61344     61344  \n",
       "2019-07-31           27916         27916     27916    27916   27916     27916  "
      ]
     },
     "execution_count": 557,
     "metadata": {},
     "output_type": "execute_result"
    }
   ],
   "source": [
    "mdataset_df = pd.read_parquet('dataset/mdataset.parquet')\n",
    "print(len(mdataset_df))\n",
    "\n",
    "malware_overtime = mdataset_df.resample('3M', on='vt_scan_date', convention='start')\n",
    "\n",
    "malware_overtime.count()"
   ]
  },
  {
   "cell_type": "code",
   "execution_count": 566,
   "metadata": {},
   "outputs": [
    {
     "data": {
      "text/html": [
       "<div>\n",
       "<style scoped>\n",
       "    .dataframe tbody tr th:only-of-type {\n",
       "        vertical-align: middle;\n",
       "    }\n",
       "\n",
       "    .dataframe tbody tr th {\n",
       "        vertical-align: top;\n",
       "    }\n",
       "\n",
       "    .dataframe thead th {\n",
       "        text-align: right;\n",
       "    }\n",
       "</style>\n",
       "<table border=\"1\" class=\"dataframe\">\n",
       "  <thead>\n",
       "    <tr style=\"text-align: right;\">\n",
       "      <th></th>\n",
       "      <th>sha256</th>\n",
       "      <th>sha1</th>\n",
       "      <th>md5</th>\n",
       "      <th>dex_date</th>\n",
       "      <th>apk_size</th>\n",
       "      <th>pkg_name</th>\n",
       "      <th>vercode</th>\n",
       "      <th>vt_detection</th>\n",
       "      <th>vt_scan_date</th>\n",
       "      <th>dex_size</th>\n",
       "      <th>markets</th>\n",
       "      <th>label</th>\n",
       "      <th>filePath</th>\n",
       "    </tr>\n",
       "    <tr>\n",
       "      <th>vt_scan_date</th>\n",
       "      <th></th>\n",
       "      <th></th>\n",
       "      <th></th>\n",
       "      <th></th>\n",
       "      <th></th>\n",
       "      <th></th>\n",
       "      <th></th>\n",
       "      <th></th>\n",
       "      <th></th>\n",
       "      <th></th>\n",
       "      <th></th>\n",
       "      <th></th>\n",
       "      <th></th>\n",
       "    </tr>\n",
       "  </thead>\n",
       "  <tbody>\n",
       "    <tr>\n",
       "      <th>2013-01-31</th>\n",
       "      <td>2960</td>\n",
       "      <td>2960</td>\n",
       "      <td>2960</td>\n",
       "      <td>2960</td>\n",
       "      <td>2960</td>\n",
       "      <td>2960</td>\n",
       "      <td>2948</td>\n",
       "      <td>2960</td>\n",
       "      <td>2960</td>\n",
       "      <td>2960</td>\n",
       "      <td>2960</td>\n",
       "      <td>2960</td>\n",
       "      <td>2960</td>\n",
       "    </tr>\n",
       "    <tr>\n",
       "      <th>2014-01-31</th>\n",
       "      <td>87990</td>\n",
       "      <td>87988</td>\n",
       "      <td>87988</td>\n",
       "      <td>87983</td>\n",
       "      <td>87990</td>\n",
       "      <td>87990</td>\n",
       "      <td>87795</td>\n",
       "      <td>87990</td>\n",
       "      <td>87990</td>\n",
       "      <td>87990</td>\n",
       "      <td>87990</td>\n",
       "      <td>87990</td>\n",
       "      <td>87990</td>\n",
       "    </tr>\n",
       "    <tr>\n",
       "      <th>2015-01-31</th>\n",
       "      <td>179204</td>\n",
       "      <td>179172</td>\n",
       "      <td>179172</td>\n",
       "      <td>179201</td>\n",
       "      <td>179204</td>\n",
       "      <td>179204</td>\n",
       "      <td>179062</td>\n",
       "      <td>179204</td>\n",
       "      <td>179204</td>\n",
       "      <td>179204</td>\n",
       "      <td>179204</td>\n",
       "      <td>179204</td>\n",
       "      <td>179204</td>\n",
       "    </tr>\n",
       "    <tr>\n",
       "      <th>2016-01-31</th>\n",
       "      <td>69153</td>\n",
       "      <td>69153</td>\n",
       "      <td>69153</td>\n",
       "      <td>69153</td>\n",
       "      <td>69153</td>\n",
       "      <td>69153</td>\n",
       "      <td>69153</td>\n",
       "      <td>69153</td>\n",
       "      <td>69153</td>\n",
       "      <td>69153</td>\n",
       "      <td>69153</td>\n",
       "      <td>69153</td>\n",
       "      <td>69153</td>\n",
       "    </tr>\n",
       "    <tr>\n",
       "      <th>2017-01-31</th>\n",
       "      <td>264527</td>\n",
       "      <td>264527</td>\n",
       "      <td>264527</td>\n",
       "      <td>264527</td>\n",
       "      <td>264527</td>\n",
       "      <td>264527</td>\n",
       "      <td>264527</td>\n",
       "      <td>264527</td>\n",
       "      <td>264527</td>\n",
       "      <td>264527</td>\n",
       "      <td>264527</td>\n",
       "      <td>264527</td>\n",
       "      <td>264527</td>\n",
       "    </tr>\n",
       "    <tr>\n",
       "      <th>2018-01-31</th>\n",
       "      <td>55215</td>\n",
       "      <td>55215</td>\n",
       "      <td>55215</td>\n",
       "      <td>55215</td>\n",
       "      <td>55215</td>\n",
       "      <td>55215</td>\n",
       "      <td>55215</td>\n",
       "      <td>55215</td>\n",
       "      <td>55215</td>\n",
       "      <td>55215</td>\n",
       "      <td>55215</td>\n",
       "      <td>55215</td>\n",
       "      <td>55215</td>\n",
       "    </tr>\n",
       "    <tr>\n",
       "      <th>2019-01-31</th>\n",
       "      <td>214102</td>\n",
       "      <td>214102</td>\n",
       "      <td>214102</td>\n",
       "      <td>214102</td>\n",
       "      <td>214102</td>\n",
       "      <td>214102</td>\n",
       "      <td>214102</td>\n",
       "      <td>214102</td>\n",
       "      <td>214102</td>\n",
       "      <td>214102</td>\n",
       "      <td>214102</td>\n",
       "      <td>214102</td>\n",
       "      <td>214102</td>\n",
       "    </tr>\n",
       "    <tr>\n",
       "      <th>2020-01-31</th>\n",
       "      <td>89260</td>\n",
       "      <td>89260</td>\n",
       "      <td>89260</td>\n",
       "      <td>89260</td>\n",
       "      <td>89260</td>\n",
       "      <td>89260</td>\n",
       "      <td>89260</td>\n",
       "      <td>89260</td>\n",
       "      <td>89260</td>\n",
       "      <td>89260</td>\n",
       "      <td>89260</td>\n",
       "      <td>89260</td>\n",
       "      <td>89260</td>\n",
       "    </tr>\n",
       "  </tbody>\n",
       "</table>\n",
       "</div>"
      ],
      "text/plain": [
       "              sha256    sha1     md5  dex_date  apk_size  pkg_name  vercode  \\\n",
       "vt_scan_date                                                                  \n",
       "2013-01-31      2960    2960    2960      2960      2960      2960     2948   \n",
       "2014-01-31     87990   87988   87988     87983     87990     87990    87795   \n",
       "2015-01-31    179204  179172  179172    179201    179204    179204   179062   \n",
       "2016-01-31     69153   69153   69153     69153     69153     69153    69153   \n",
       "2017-01-31    264527  264527  264527    264527    264527    264527   264527   \n",
       "2018-01-31     55215   55215   55215     55215     55215     55215    55215   \n",
       "2019-01-31    214102  214102  214102    214102    214102    214102   214102   \n",
       "2020-01-31     89260   89260   89260     89260     89260     89260    89260   \n",
       "\n",
       "              vt_detection  vt_scan_date  dex_size  markets   label  filePath  \n",
       "vt_scan_date                                                                   \n",
       "2013-01-31            2960          2960      2960     2960    2960      2960  \n",
       "2014-01-31           87990         87990     87990    87990   87990     87990  \n",
       "2015-01-31          179204        179204    179204   179204  179204    179204  \n",
       "2016-01-31           69153         69153     69153    69153   69153     69153  \n",
       "2017-01-31          264527        264527    264527   264527  264527    264527  \n",
       "2018-01-31           55215         55215     55215    55215   55215     55215  \n",
       "2019-01-31          214102        214102    214102   214102  214102    214102  \n",
       "2020-01-31           89260         89260     89260    89260   89260     89260  "
      ]
     },
     "execution_count": 566,
     "metadata": {},
     "output_type": "execute_result"
    }
   ],
   "source": [
    "malware_overtime = mdataset_df.resample('12M', on='vt_scan_date', convention='start')\n",
    "\n",
    "malware_overtime.count()"
   ]
  },
  {
   "cell_type": "raw",
   "metadata": {},
   "source": [
    "2013-01-31\n",
    "\n",
    "2013-04-30 96.0249 98.4396 99.0129 99.7142\n",
    "2013-07-31 94.5229 96.1229 97.9558 99.5625\n",
    "2013-10-31 94.4246 97.3767 97.0337 99.5623\n",
    "2014-01-31 83.4519 92.7469 95.4537 99.3706\n",
    "2014-04-30 90.4807 96.2196 94.1554 99.4311\n",
    "2014-07-31 86.9804 95.7962 91.5392 99.1114\n",
    "2014-10-31 92.3245 98.4794 93.1109 99.0043\n",
    "2015-01-31 91.5744 97.7203 90.9162 99.1892\n",
    "2015-04-30 91.3132 98.5522 92.7222 99.0996\n",
    "2015-07-31 88.1603 97.4674 88.9005 98.9927\n",
    "2015-10-31 73.8222 87.4564 83.4448 97.5760\n",
    "2016-01-31 78.5930 90.9268 85.1104 96.2697\n",
    "2016-04-30 84.7821 95.4416 86.3812 98.3311\n",
    "2016-07-31 71.3993 88.0862 80.2744 93.5427\n",
    "2016-10-31 78.3187 85.7971 74.6845 90.7507\n",
    "2017-01-31 47.6566 83.0986 49.7709 82.8552\n",
    "2017-04-30 57.7918 53.6202 83.2133 95.5609\n",
    "2017-07-31 35.9580 56.4516\n",
    "2017-10-31\n",
    "2018-01-31\n",
    "2018-04-30\n",
    "2018-07-31\n",
    "2018-10-31\n",
    "2019-01-31\n",
    "2019-04-30\n",
    "2019-07-31"
   ]
  },
  {
   "cell_type": "code",
   "execution_count": 562,
   "metadata": {},
   "outputs": [
    {
     "data": {
      "text/plain": [
       "['2013-01-31T00:00:00',\n",
       " '2013-04-30T00:00:00',\n",
       " '2013-07-31T00:00:00',\n",
       " '2013-10-31T00:00:00',\n",
       " '2014-01-31T00:00:00',\n",
       " '2014-04-30T00:00:00',\n",
       " '2014-07-31T00:00:00',\n",
       " '2014-10-31T00:00:00',\n",
       " '2015-01-31T00:00:00',\n",
       " '2015-04-30T00:00:00',\n",
       " '2015-07-31T00:00:00',\n",
       " '2015-10-31T00:00:00',\n",
       " '2016-01-31T00:00:00',\n",
       " '2016-04-30T00:00:00',\n",
       " '2016-07-31T00:00:00',\n",
       " '2016-10-31T00:00:00',\n",
       " '2017-01-31T00:00:00',\n",
       " '2017-04-30T00:00:00',\n",
       " '2017-07-31T00:00:00',\n",
       " '2017-10-31T00:00:00',\n",
       " '2018-01-31T00:00:00',\n",
       " '2018-04-30T00:00:00',\n",
       " '2018-07-31T00:00:00',\n",
       " '2018-10-31T00:00:00',\n",
       " '2019-01-31T00:00:00',\n",
       " '2019-04-30T00:00:00',\n",
       " '2019-07-31T00:00:00']"
      ]
     },
     "execution_count": 562,
     "metadata": {},
     "output_type": "execute_result"
    }
   ],
   "source": [
    "[dt.isoformat() for dt in malware_overtime.count().index]"
   ]
  },
  {
   "cell_type": "code",
   "execution_count": 560,
   "metadata": {},
   "outputs": [
    {
     "data": {
      "text/plain": [
       "'2013-01-31T00:00:00'"
      ]
     },
     "execution_count": 560,
     "metadata": {},
     "output_type": "execute_result"
    }
   ],
   "source": [
    "s.isoformat()"
   ]
  },
  {
   "cell_type": "code",
   "execution_count": null,
   "metadata": {},
   "outputs": [],
   "source": []
  },
  {
   "cell_type": "code",
   "execution_count": null,
   "metadata": {},
   "outputs": [],
   "source": []
  },
  {
   "cell_type": "code",
   "execution_count": null,
   "metadata": {},
   "outputs": [],
   "source": []
  },
  {
   "cell_type": "code",
   "execution_count": null,
   "metadata": {},
   "outputs": [],
   "source": []
  },
  {
   "cell_type": "code",
   "execution_count": null,
   "metadata": {},
   "outputs": [],
   "source": []
  },
  {
   "cell_type": "code",
   "execution_count": null,
   "metadata": {},
   "outputs": [],
   "source": []
  },
  {
   "cell_type": "code",
   "execution_count": null,
   "metadata": {},
   "outputs": [],
   "source": []
  },
  {
   "cell_type": "code",
   "execution_count": null,
   "metadata": {},
   "outputs": [],
   "source": []
  },
  {
   "cell_type": "code",
   "execution_count": null,
   "metadata": {},
   "outputs": [],
   "source": []
  },
  {
   "cell_type": "code",
   "execution_count": null,
   "metadata": {},
   "outputs": [],
   "source": []
  },
  {
   "cell_type": "code",
   "execution_count": null,
   "metadata": {},
   "outputs": [],
   "source": []
  },
  {
   "cell_type": "code",
   "execution_count": null,
   "metadata": {},
   "outputs": [],
   "source": []
  },
  {
   "cell_type": "code",
   "execution_count": 38,
   "metadata": {},
   "outputs": [
    {
     "name": "stdout",
     "output_type": "stream",
     "text": [
      "androzoo_distribution_overtime\n"
     ]
    }
   ],
   "source": [
    "print('androzoo_distribution_overtime')"
   ]
  },
  {
   "cell_type": "code",
   "execution_count": null,
   "metadata": {},
   "outputs": [],
   "source": []
  },
  {
   "cell_type": "code",
   "execution_count": 12,
   "metadata": {},
   "outputs": [],
   "source": [
    "sampler1M = androzoo_df.sha256.resample('1M')\n",
    "\n",
    "sampler6M = androzoo_df.sha256.resample('6M')"
   ]
  },
  {
   "cell_type": "code",
   "execution_count": 37,
   "metadata": {},
   "outputs": [
    {
     "data": {
      "text/html": [
       "<div>\n",
       "<style scoped>\n",
       "    .dataframe tbody tr th:only-of-type {\n",
       "        vertical-align: middle;\n",
       "    }\n",
       "\n",
       "    .dataframe tbody tr th {\n",
       "        vertical-align: top;\n",
       "    }\n",
       "\n",
       "    .dataframe thead th {\n",
       "        text-align: right;\n",
       "    }\n",
       "</style>\n",
       "<table border=\"1\" class=\"dataframe\">\n",
       "  <thead>\n",
       "    <tr style=\"text-align: right;\">\n",
       "      <th></th>\n",
       "      <th>sha256</th>\n",
       "      <th>sha1</th>\n",
       "      <th>md5</th>\n",
       "      <th>dex_date</th>\n",
       "      <th>apk_size</th>\n",
       "      <th>pkg_name</th>\n",
       "      <th>vercode</th>\n",
       "      <th>vt_detection</th>\n",
       "      <th>vt_scan_date</th>\n",
       "      <th>dex_size</th>\n",
       "      <th>markets</th>\n",
       "    </tr>\n",
       "  </thead>\n",
       "  <tbody>\n",
       "    <tr>\n",
       "      <th>0</th>\n",
       "      <td>0000003b455a6c7af837ef90f2eaffd856e3b5cf49f5e2...</td>\n",
       "      <td>9c14d537a7adb4cfc43d291352f73e05e0ccdd4a</td>\n",
       "      <td>3edfc78ab53521942798ad551027d04f</td>\n",
       "      <td>2016-04-05 17:58:46</td>\n",
       "      <td>10386469</td>\n",
       "      <td>com.zte.bamachaye</td>\n",
       "      <td>121.0</td>\n",
       "      <td>0.0</td>\n",
       "      <td>2016-06-15 15:26:44</td>\n",
       "      <td>4765888</td>\n",
       "      <td>anzhi</td>\n",
       "    </tr>\n",
       "    <tr>\n",
       "      <th>1</th>\n",
       "      <td>0000014a634db98f85038b833a8dfc50d5fb13a464e0b2...</td>\n",
       "      <td>c3ebec52c9388bf67479ff1385a56c59b3e39e81</td>\n",
       "      <td>0a146750fb447cf3859c9cb659ab04f1</td>\n",
       "      <td>2014-08-20 13:58:10</td>\n",
       "      <td>3537486</td>\n",
       "      <td>com.tanersenel.onlinetvizle</td>\n",
       "      <td>16.0</td>\n",
       "      <td>0.0</td>\n",
       "      <td>2016-11-20 10:26:31</td>\n",
       "      <td>3170096</td>\n",
       "      <td>PlayDrone</td>\n",
       "    </tr>\n",
       "    <tr>\n",
       "      <th>2</th>\n",
       "      <td>000002b63fad4b030787f6de4081dc1e12325026eb7dda...</td>\n",
       "      <td>dd723b32edd9f70aadbd66846621967157df9bd4</td>\n",
       "      <td>985e601c17f0a9346590ae92a5ad664e</td>\n",
       "      <td>1980-01-01 00:00:00</td>\n",
       "      <td>4300370</td>\n",
       "      <td>com.deperu.sitiosarequipa</td>\n",
       "      <td>10000.0</td>\n",
       "      <td>0.0</td>\n",
       "      <td>2017-12-03 06:50:28</td>\n",
       "      <td>4211104</td>\n",
       "      <td>play.google.com</td>\n",
       "    </tr>\n",
       "    <tr>\n",
       "      <th>3</th>\n",
       "      <td>000003d3981dc548a772a30d688f424cfb88561a63a2dd...</td>\n",
       "      <td>6ae9f138f7e0c63e5d58cc7e82fb05a50f041637</td>\n",
       "      <td>f4789023733e41ee883208acbc956020</td>\n",
       "      <td>1980-01-01 00:00:00</td>\n",
       "      <td>12958838</td>\n",
       "      <td>com.safetravels.safetravelsmain</td>\n",
       "      <td>400125.0</td>\n",
       "      <td>0.0</td>\n",
       "      <td>2019-06-25 08:55:42</td>\n",
       "      <td>7813520</td>\n",
       "      <td>play.google.com</td>\n",
       "    </tr>\n",
       "    <tr>\n",
       "      <th>4</th>\n",
       "      <td>00000439a3ffa123c3f9bc45e5e821351b1a5c276871b3...</td>\n",
       "      <td>375d6ffd167bb5e7e2935b1b927f87d8e44a9ab4</td>\n",
       "      <td>9283c74dd8356c18bb6d94b88b8fdd9b</td>\n",
       "      <td>2011-10-25 02:30:56</td>\n",
       "      <td>1044597</td>\n",
       "      <td>bmthx.god102409paperi</td>\n",
       "      <td>6.0</td>\n",
       "      <td>1.0</td>\n",
       "      <td>2014-04-27 06:30:31</td>\n",
       "      <td>105660</td>\n",
       "      <td>appchina</td>\n",
       "    </tr>\n",
       "  </tbody>\n",
       "</table>\n",
       "</div>"
      ],
      "text/plain": [
       "                                              sha256  \\\n",
       "0  0000003b455a6c7af837ef90f2eaffd856e3b5cf49f5e2...   \n",
       "1  0000014a634db98f85038b833a8dfc50d5fb13a464e0b2...   \n",
       "2  000002b63fad4b030787f6de4081dc1e12325026eb7dda...   \n",
       "3  000003d3981dc548a772a30d688f424cfb88561a63a2dd...   \n",
       "4  00000439a3ffa123c3f9bc45e5e821351b1a5c276871b3...   \n",
       "\n",
       "                                       sha1                               md5  \\\n",
       "0  9c14d537a7adb4cfc43d291352f73e05e0ccdd4a  3edfc78ab53521942798ad551027d04f   \n",
       "1  c3ebec52c9388bf67479ff1385a56c59b3e39e81  0a146750fb447cf3859c9cb659ab04f1   \n",
       "2  dd723b32edd9f70aadbd66846621967157df9bd4  985e601c17f0a9346590ae92a5ad664e   \n",
       "3  6ae9f138f7e0c63e5d58cc7e82fb05a50f041637  f4789023733e41ee883208acbc956020   \n",
       "4  375d6ffd167bb5e7e2935b1b927f87d8e44a9ab4  9283c74dd8356c18bb6d94b88b8fdd9b   \n",
       "\n",
       "              dex_date  apk_size                         pkg_name   vercode  \\\n",
       "0  2016-04-05 17:58:46  10386469                com.zte.bamachaye     121.0   \n",
       "1  2014-08-20 13:58:10   3537486      com.tanersenel.onlinetvizle      16.0   \n",
       "2  1980-01-01 00:00:00   4300370        com.deperu.sitiosarequipa   10000.0   \n",
       "3  1980-01-01 00:00:00  12958838  com.safetravels.safetravelsmain  400125.0   \n",
       "4  2011-10-25 02:30:56   1044597            bmthx.god102409paperi       6.0   \n",
       "\n",
       "   vt_detection         vt_scan_date  dex_size          markets  \n",
       "0           0.0  2016-06-15 15:26:44   4765888            anzhi  \n",
       "1           0.0  2016-11-20 10:26:31   3170096        PlayDrone  \n",
       "2           0.0  2017-12-03 06:50:28   4211104  play.google.com  \n",
       "3           0.0  2019-06-25 08:55:42   7813520  play.google.com  \n",
       "4           1.0  2014-04-27 06:30:31    105660         appchina  "
      ]
     },
     "execution_count": 37,
     "metadata": {},
     "output_type": "execute_result"
    }
   ],
   "source": [
    "androzoo_df.head()"
   ]
  },
  {
   "cell_type": "code",
   "execution_count": 38,
   "metadata": {},
   "outputs": [
    {
     "data": {
      "text/plain": [
       "9417991"
      ]
     },
     "execution_count": 38,
     "metadata": {},
     "output_type": "execute_result"
    }
   ],
   "source": [
    "len(androzoo_df)"
   ]
  },
  {
   "cell_type": "raw",
   "metadata": {},
   "source": [
    "androzoo_df = pd.read_parquet('dataset/androzoo_meta.parquet')\n",
    "androzoo_df['label'] = (androzoo_df.vt_detection > 0 ).apply(int)\n",
    "df = androzoo_df.loc[androzoo_df.sha256.isin(mamadroid_df.loc[mamadroid_df.label == 0, 'sha256'])]\n",
    "df.dropna(subset=['vt_detection'], inplace=True)\n",
    "df = df.loc[df.vt_detection > 0]"
   ]
  },
  {
   "cell_type": "code",
   "execution_count": 52,
   "metadata": {},
   "outputs": [
    {
     "name": "stderr",
     "output_type": "stream",
     "text": [
      "/opt/conda/envs/py36/lib/python3.6/site-packages/ipykernel_launcher.py:2: SettingWithCopyWarning: \n",
      "A value is trying to be set on a copy of a slice from a DataFrame\n",
      "\n",
      "See the caveats in the documentation: http://pandas.pydata.org/pandas-docs/stable/user_guide/indexing.html#returning-a-view-versus-a-copy\n",
      "  \n"
     ]
    }
   ],
   "source": [
    "df = androzoo_df.loc[androzoo_df.sha256.isin(mamadroid_df.loc[mamadroid_df.label == 1, 'sha256'])]\n",
    "df.dropna(subset=['vt_detection'], inplace=True)\n",
    "df = df.loc[df.vt_detection < 4]"
   ]
  },
  {
   "cell_type": "code",
   "execution_count": 11,
   "metadata": {},
   "outputs": [],
   "source": []
  },
  {
   "cell_type": "code",
   "execution_count": null,
   "metadata": {},
   "outputs": [],
   "source": []
  },
  {
   "cell_type": "code",
   "execution_count": null,
   "metadata": {},
   "outputs": [],
   "source": [
    "fig, ax = "
   ]
  },
  {
   "cell_type": "code",
   "execution_count": 3,
   "metadata": {},
   "outputs": [],
   "source": [
    "mamadroid_meta_df = pd.read_parquet('dataset/mamadroid_meta.parquet')\n",
    "\n",
    "mamadroid_meta_df = pd.read_parquet('dataset/mamadroid_meta.parquet')\n",
    "mamadroid_meta_df = mamadroid_meta_df[['sha256', 'year', 'tag']]\n",
    "\n",
    "drebin_df = pd.read_msgpack('/ws/mnt/habouch/datasets/android_dataset/meta/drebin_meta.msg')\n",
    "drebin_df = drebin_df[['sha256']]\n",
    "drebin_df['tag'] = 'malware'\n",
    "drebin_df['year'] = 'drebin'\n",
    "drebin_df.reset_index(drop=True, inplace=True)\n",
    "\n",
    "mamadroid_df = pd.concat([mamadroid_meta_df, drebin_df], sort=False)\n",
    "mamadroid_df.drop_duplicates(subset='sha256', inplace=True)\n",
    "\n",
    "doneList = [item.split('/')[-1] for item in glob.glob('/ws/mnt/local/data/output/mamadroid/*')]\n",
    "mamadroid_df = mamadroid_df.loc[mamadroid_df.sha256.isin(doneList)]\n",
    "\n",
    "mamadroid_df['label'] = (mamadroid_df.tag == 'malware').apply(int)\n",
    "mamadroid_df['filePath'] = '/ws/mnt/local/data/output/mamadroid/' + mamadroid_df.sha256"
   ]
  },
  {
   "cell_type": "code",
   "execution_count": 54,
   "metadata": {},
   "outputs": [
    {
     "data": {
      "text/plain": [
       "2015      1368\n",
       "2014      1075\n",
       "2016       491\n",
       "2013        11\n",
       "drebin       3\n",
       "Name: year, dtype: int64"
      ]
     },
     "execution_count": 54,
     "metadata": {},
     "output_type": "execute_result"
    }
   ],
   "source": [
    "mamadroid_df.loc[mamadroid_df.sha256.isin(df.sha256)].year.value_counts()"
   ]
  },
  {
   "cell_type": "code",
   "execution_count": 44,
   "metadata": {},
   "outputs": [],
   "source": [
    "mamadroid_df = mamadroid_df.loc[~mamadroid_df.sha256.isin(df.sha256)]"
   ]
  },
  {
   "cell_type": "code",
   "execution_count": 45,
   "metadata": {},
   "outputs": [
    {
     "data": {
      "text/html": [
       "<div>\n",
       "<style scoped>\n",
       "    .dataframe tbody tr th:only-of-type {\n",
       "        vertical-align: middle;\n",
       "    }\n",
       "\n",
       "    .dataframe tbody tr th {\n",
       "        vertical-align: top;\n",
       "    }\n",
       "\n",
       "    .dataframe thead th {\n",
       "        text-align: right;\n",
       "    }\n",
       "</style>\n",
       "<table border=\"1\" class=\"dataframe\">\n",
       "  <thead>\n",
       "    <tr style=\"text-align: right;\">\n",
       "      <th></th>\n",
       "      <th></th>\n",
       "      <th>sha256</th>\n",
       "      <th>tag</th>\n",
       "      <th>filePath</th>\n",
       "    </tr>\n",
       "    <tr>\n",
       "      <th>year</th>\n",
       "      <th>label</th>\n",
       "      <th></th>\n",
       "      <th></th>\n",
       "      <th></th>\n",
       "    </tr>\n",
       "  </thead>\n",
       "  <tbody>\n",
       "    <tr>\n",
       "      <th>2013</th>\n",
       "      <th>1</th>\n",
       "      <td>6939</td>\n",
       "      <td>6939</td>\n",
       "      <td>6939</td>\n",
       "    </tr>\n",
       "    <tr>\n",
       "      <th>2014</th>\n",
       "      <th>1</th>\n",
       "      <td>14729</td>\n",
       "      <td>14729</td>\n",
       "      <td>14729</td>\n",
       "    </tr>\n",
       "    <tr>\n",
       "      <th>2015</th>\n",
       "      <th>1</th>\n",
       "      <td>5100</td>\n",
       "      <td>5100</td>\n",
       "      <td>5100</td>\n",
       "    </tr>\n",
       "    <tr>\n",
       "      <th>2016</th>\n",
       "      <th>1</th>\n",
       "      <td>2675</td>\n",
       "      <td>2675</td>\n",
       "      <td>2675</td>\n",
       "    </tr>\n",
       "    <tr>\n",
       "      <th>drebin</th>\n",
       "      <th>1</th>\n",
       "      <td>4639</td>\n",
       "      <td>4639</td>\n",
       "      <td>4639</td>\n",
       "    </tr>\n",
       "    <tr>\n",
       "      <th>new</th>\n",
       "      <th>0</th>\n",
       "      <td>1759</td>\n",
       "      <td>1759</td>\n",
       "      <td>1759</td>\n",
       "    </tr>\n",
       "    <tr>\n",
       "      <th>old</th>\n",
       "      <th>0</th>\n",
       "      <td>5871</td>\n",
       "      <td>5871</td>\n",
       "      <td>5871</td>\n",
       "    </tr>\n",
       "  </tbody>\n",
       "</table>\n",
       "</div>"
      ],
      "text/plain": [
       "              sha256    tag  filePath\n",
       "year   label                         \n",
       "2013   1        6939   6939      6939\n",
       "2014   1       14729  14729     14729\n",
       "2015   1        5100   5100      5100\n",
       "2016   1        2675   2675      2675\n",
       "drebin 1        4639   4639      4639\n",
       "new    0        1759   1759      1759\n",
       "old    0        5871   5871      5871"
      ]
     },
     "execution_count": 45,
     "metadata": {},
     "output_type": "execute_result"
    }
   ],
   "source": [
    "mamadroid_df.groupby(['year', 'label']).count()"
   ]
  },
  {
   "cell_type": "code",
   "execution_count": 8,
   "metadata": {},
   "outputs": [],
   "source": [
    "tags = [\n",
    "        ['drebin', 'old'],\n",
    "        ['2013',   'old'],\n",
    "        ['2014',   'old'],\n",
    "        ['2014',   'new'],\n",
    "        ['2015',   'new'],\n",
    "        ['2016',   'new'],\n",
    "       ]"
   ]
  },
  {
   "cell_type": "code",
   "execution_count": null,
   "metadata": {},
   "outputs": [
    {
     "name": "stdout",
     "output_type": "stream",
     "text": [
      "######## drebin_old\n",
      "7356\n",
      "0    4108\n",
      "1    3248\n",
      "Name: label, dtype: int64\n",
      "1052\n",
      "0    603\n",
      "1    449\n",
      "Name: label, dtype: int64\n",
      "2102\n",
      "0    1160\n",
      "1     942\n",
      "Name: label, dtype: int64\n",
      "----------\n"
     ]
    }
   ],
   "source": [
    "for tag in tags:\n",
    "    currentTag = tag[0] + '_' + tag[1]\n",
    "\n",
    "    message  = '######## '\n",
    "    message += currentTag\n",
    "\n",
    "    with open(outputlogFilePath, 'a') as writer:\n",
    "        writer.write(message + '\\n')\n",
    "    print(message)\n",
    "\n",
    "    #\n",
    "    dataset_df = mamadroid_df.loc[(mamadroid_df.year == tag[0]) | (mamadroid_df.year == tag[1])]\n",
    "\n",
    "    #\n",
    "    trainLoader, validLoader, testLoader = getDataloaders(dataset_df, trainPercentage=trainPercentageParam, \n",
    "                                                                      validPercentage=validPercentageParam)\n",
    "\n",
    "    #\n",
    "    models_df = trainModel(ws, f'train_{currentTag}', epochNum, trainLoader, validLoader, device)\n",
    "    models_df.sort_values(by=['vloss', 'tloss'], inplace=True)\n",
    "    selectedModelPaths = models_df.path.iloc[:ensembleSize].tolist()\n",
    "\n",
    "    #\n",
    "    evalresult_df = evaluate(ws, selectedModelPaths, testLoader, device)\n",
    "\n",
    "    #\n",
    "    evalDataset(ws, evalresult_df, probaUpperBorn=0.8,  probaLowerBorn=0.2)\n",
    "\n",
    "    #\n",
    "    outputPath = f'traces/{ws}/{currentTag}.pickle'\n",
    "    currentResults = pd.DataFrame([(currentTag, models_df, evalresult_df)], columns=['TimeTag', 'models', 'evalResuls'])\n",
    "    currentResults.to_pickle(outputPath)\n",
    "\n",
    "    #\n",
    "    message = '########'\n",
    "    with open(outputlogFilePath, 'a') as writer:\n",
    "        writer.write(message + '\\n')\n",
    "    print(message)"
   ]
  },
  {
   "cell_type": "markdown",
   "metadata": {},
   "source": []
  },
  {
   "cell_type": "code",
   "execution_count": null,
   "metadata": {},
   "outputs": [],
   "source": []
  },
  {
   "cell_type": "code",
   "execution_count": null,
   "metadata": {},
   "outputs": [],
   "source": []
  },
  {
   "cell_type": "code",
   "execution_count": null,
   "metadata": {},
   "outputs": [],
   "source": []
  }
 ],
 "metadata": {
  "kernelspec": {
   "display_name": "pysciws",
   "language": "python",
   "name": "sciws"
  },
  "language_info": {
   "codemirror_mode": {
    "name": "ipython",
    "version": 3
   },
   "file_extension": ".py",
   "mimetype": "text/x-python",
   "name": "python",
   "nbconvert_exporter": "python",
   "pygments_lexer": "ipython3",
   "version": "3.7.10"
  }
 },
 "nbformat": 4,
 "nbformat_minor": 4
}
